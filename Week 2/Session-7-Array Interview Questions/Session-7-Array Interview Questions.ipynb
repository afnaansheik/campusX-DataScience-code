{
 "cells": [
  {
   "cell_type": "markdown",
   "id": "78d0ca6e",
   "metadata": {},
   "source": [
    "## Points to remember\n",
    "\n",
    "- Codes asked are relatively easier in comparison to SDE roles\n",
    "- Pythonic syntax is preferred in most companies\n",
    "- Focus is on optimized code\n",
    "- Start with the simplest solution and then improve\n",
    "- A lot of questions are repeated so mugging up the approaches help\n",
    "- Build intuition using Python Tutor"
   ]
  },
  {
   "cell_type": "code",
   "execution_count": 25,
   "id": "9fcab5c2",
   "metadata": {},
   "outputs": [],
   "source": [
    "# 10. Maximum sum subarray \n",
    "\n",
    "\"\"\" \n",
    "subarray mean small portion of array i.e [-2,4,7,-1,6,-11,14,3,-1,-6] so (4,-7,-1) is a subarray even (-11,14).\n",
    "but (4,-2) (6,-1,7)is not subarray as subarray are continuos.\n",
    "\"\"\"\n",
    "\n",
    "L = [-2,4,7,-1,6,-11,14,3,-1,-6]\n",
    "d= {}\n",
    "for i in range(0,len(L)):\n",
    "    subarray = []\n",
    "    for j in range(i,len(L)):     \n",
    "        subarray.append(L[j])\n",
    "\n",
    "        d[sum(subarray)]=subarray\n"
   ]
  },
  {
   "cell_type": "code",
   "execution_count": 20,
   "id": "42e6df3c",
   "metadata": {},
   "outputs": [
    {
     "data": {
      "text/plain": [
       "13"
      ]
     },
     "execution_count": 20,
     "metadata": {},
     "output_type": "execute_result"
    }
   ],
   "source": [
    "sum(L)"
   ]
  }
 ],
 "metadata": {
  "kernelspec": {
   "display_name": "Python 3",
   "language": "python",
   "name": "python3"
  },
  "language_info": {
   "codemirror_mode": {
    "name": "ipython",
    "version": 3
   },
   "file_extension": ".py",
   "mimetype": "text/x-python",
   "name": "python",
   "nbconvert_exporter": "python",
   "pygments_lexer": "ipython3",
   "version": "3.13.3"
  }
 },
 "nbformat": 4,
 "nbformat_minor": 5
}
