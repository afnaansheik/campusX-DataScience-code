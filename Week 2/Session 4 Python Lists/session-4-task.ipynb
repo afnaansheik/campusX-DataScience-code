{
 "cells": [
  {
   "cell_type": "markdown",
   "id": "3a3ad929",
   "metadata": {},
   "source": [
    "### Problem 1: Combine two lists index-wise(columns wise)"
   ]
  },
  {
   "cell_type": "markdown",
   "id": "5d6e32cb",
   "metadata": {},
   "source": [
    "Write a program to add two lists index-wise. Create a new list that contains the 0th index item from both the list,\n",
    "\n",
    "then the 1st index item, and so on till the last element. any leftover items will get added at the end of the new list.\n",
    "\n",
    "- Given List:\n",
    "\n",
    " list1 = [\"M\", \"na\", \"i\", \"Kh\"]\n",
    "\n",
    " list2 = [\"y\", \"me\", \"s\", \"an\"]\n",
    "\n",
    " Output:\n",
    " [['M','y'], ['na', me'], ['i', 's'], ['Kh', 'an']]"
   ]
  },
  {
   "cell_type": "code",
   "execution_count": 4,
   "id": "ec825dba",
   "metadata": {},
   "outputs": [
    {
     "data": {
      "text/plain": [
       "['My', 'name', 'is', 'Khan']"
      ]
     },
     "execution_count": 4,
     "metadata": {},
     "output_type": "execute_result"
    }
   ],
   "source": [
    "\n",
    "list1 = [\"M\", \"na\", \"i\", \"Kh\"]\n",
    "list2 = [\"y\", \"me\", \"s\", \"an\"]\n",
    "\n",
    "[i+j for i,j in zip(list1,list2)]\n"
   ]
  }
 ],
 "metadata": {
  "kernelspec": {
   "display_name": "Python 3",
   "language": "python",
   "name": "python3"
  },
  "language_info": {
   "codemirror_mode": {
    "name": "ipython",
    "version": 3
   },
   "file_extension": ".py",
   "mimetype": "text/x-python",
   "name": "python",
   "nbconvert_exporter": "python",
   "pygments_lexer": "ipython3",
   "version": "3.13.3"
  }
 },
 "nbformat": 4,
 "nbformat_minor": 5
}
