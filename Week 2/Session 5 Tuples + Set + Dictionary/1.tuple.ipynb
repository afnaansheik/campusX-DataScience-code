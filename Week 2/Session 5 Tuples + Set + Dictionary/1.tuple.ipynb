{
 "cells": [
  {
   "cell_type": "markdown",
   "id": "1598aef9",
   "metadata": {},
   "source": [
    "## Python-tuple-sets-dictionary"
   ]
  },
  {
   "cell_type": "markdown",
   "id": "d7ae6c68",
   "metadata": {},
   "source": [
    "###  Tuples"
   ]
  },
  {
   "cell_type": "markdown",
   "id": "0c0409f1",
   "metadata": {},
   "source": [
    "A tuple in Python is similar to a list. The difference between the two is that we cannot change the\n",
    "elements of a tuple once it is assigned whereas we can change the elements of a list.\n",
    "In short, a tuple is an immutable list. A tuple can not be changed in any way once it is created."
   ]
  },
  {
   "cell_type": "markdown",
   "id": "a8e88c94",
   "metadata": {},
   "source": [
    "Characterstics\n",
    "- Ordered\n",
    "- Unchangeble\n",
    "- Allows duplicate"
   ]
  },
  {
   "cell_type": "markdown",
   "id": "9481ed9f",
   "metadata": {},
   "source": [
    "Plan of attack\n",
    "- Creating a Tuple\n",
    "- Accessing items\n",
    "- Editing items\n",
    "- Adding items\n",
    "- Deleting items\n",
    "- Operations on Tuples\n",
    "- Tuple Functions"
   ]
  },
  {
   "cell_type": "markdown",
   "id": "27d246e7",
   "metadata": {},
   "source": [
    "### Creating Tuples"
   ]
  },
  {
   "cell_type": "code",
   "execution_count": 6,
   "id": "d0b582db",
   "metadata": {},
   "outputs": [
    {
     "name": "stdout",
     "output_type": "stream",
     "text": [
      "()\n",
      "1\n",
      "<class 'int'>\n",
      "(1,)\n",
      "<class 'tuple'>\n"
     ]
    }
   ],
   "source": [
    "# empty \n",
    "t1 = ()\n",
    "print(t1)\n",
    "\n",
    "# create a tuple with a single item\n",
    "t2 = (1)\n",
    "print(t2)\n",
    "print(type(t2)) \n",
    "\"\"\" why it's int bcz it not correct syntax we shd add , (comma) after an element then it will become tuple \"\"\"\n",
    "\n",
    "t2 = (1,)\n",
    "print(t2)\n",
    "print(type(t2)) "
   ]
  },
  {
   "cell_type": "code",
   "execution_count": 8,
   "id": "e50296ef",
   "metadata": {},
   "outputs": [
    {
     "name": "stdout",
     "output_type": "stream",
     "text": [
      "(1, 2, 3, 4, 5)\n",
      "(1, 2.5, True, 'hello', [1, 3, 4])\n"
     ]
    }
   ],
   "source": [
    "# homo tuple\n",
    "t3 = (1,2,3,4,5)\n",
    "print(t3)\n",
    "\n",
    "# hetro tuple\n",
    "t4 = (1,2.5,True,'hello',[1,3,4])\n",
    "print(t4)"
   ]
  },
  {
   "cell_type": "code",
   "execution_count": 11,
   "id": "31baa362",
   "metadata": {},
   "outputs": [
    {
     "name": "stdout",
     "output_type": "stream",
     "text": [
      "(1, 2, 3, (6, 7))\n",
      "('h', 'e', 'l', 'l', 'o')\n"
     ]
    }
   ],
   "source": [
    "# 2d tuple \n",
    "t5 = (1,2,3,(6,7))\n",
    "print(t5)\n",
    "\n",
    "# using type conversation\n",
    "t6 = tuple('hello')\n",
    "print(t6)"
   ]
  },
  {
   "cell_type": "markdown",
   "id": "fe8f3495",
   "metadata": {},
   "source": [
    "### Accessing Items\n",
    "- indexing\n",
    "- Slicing"
   ]
  },
  {
   "cell_type": "code",
   "execution_count": null,
   "id": "7fda28a4",
   "metadata": {},
   "outputs": [
    {
     "name": "stdout",
     "output_type": "stream",
     "text": [
      "(1, 2, 3, 4, 5)\n",
      "1\n",
      "5\n"
     ]
    }
   ],
   "source": [
    "print(t3)\n",
    "\n",
    "#positive  indexing \n",
    "print(t3[0])\n",
    "\n",
    "#Negative indexing \n",
    "print(t3[-1])"
   ]
  },
  {
   "cell_type": "code",
   "execution_count": 21,
   "id": "bb68e529",
   "metadata": {},
   "outputs": [
    {
     "data": {
      "text/plain": [
       "(1, 2, 3)"
      ]
     },
     "execution_count": 21,
     "metadata": {},
     "output_type": "execute_result"
    }
   ],
   "source": [
    "# positive slicing\n",
    "t3[0:5:2]\n",
    "\n",
    "# Negative slicing\n",
    "t3[-5:-2]\n"
   ]
  },
  {
   "cell_type": "code",
   "execution_count": 22,
   "id": "94abad64",
   "metadata": {},
   "outputs": [
    {
     "data": {
      "text/plain": [
       "(5, 4, 3, 2, 1)"
      ]
     },
     "execution_count": 22,
     "metadata": {},
     "output_type": "execute_result"
    }
   ],
   "source": [
    "# reverse tuple\n",
    "t3[::-1]"
   ]
  },
  {
   "cell_type": "code",
   "execution_count": 36,
   "id": "2bc5dd3f",
   "metadata": {},
   "outputs": [
    {
     "data": {
      "text/plain": [
       "(5, 4, 3)"
      ]
     },
     "execution_count": 36,
     "metadata": {},
     "output_type": "execute_result"
    }
   ],
   "source": [
    "t = (1,2,3,4,5)\n",
    "\n",
    "\"\"\" how to print (5,4,3) in reverse format\"\"\"\n",
    "t[-1:-4:-1]"
   ]
  },
  {
   "cell_type": "code",
   "execution_count": null,
   "id": "6b82dbf3",
   "metadata": {},
   "outputs": [
    {
     "name": "stdout",
     "output_type": "stream",
     "text": [
      "(1, 2, 3, (6, 7))\n"
     ]
    },
    {
     "data": {
      "text/plain": [
       "6"
      ]
     },
     "execution_count": 25,
     "metadata": {},
     "output_type": "execute_result"
    }
   ],
   "source": [
    "# accessing 2d tuple\n",
    "print(t5)\n",
    "\n",
    "t5[3][0]"
   ]
  },
  {
   "cell_type": "markdown",
   "id": "b48b49e4",
   "metadata": {},
   "source": [
    "###  Editing items"
   ]
  },
  {
   "cell_type": "code",
   "execution_count": null,
   "id": "06849235",
   "metadata": {},
   "outputs": [
    {
     "name": "stdout",
     "output_type": "stream",
     "text": [
      "(1, 2, 3, 4, 5)\n"
     ]
    },
    {
     "ename": "TypeError",
     "evalue": "'tuple' object does not support item assignment",
     "output_type": "error",
     "traceback": [
      "\u001b[31m---------------------------------------------------------------------------\u001b[39m",
      "\u001b[31mTypeError\u001b[39m                                 Traceback (most recent call last)",
      "\u001b[36mCell\u001b[39m\u001b[36m \u001b[39m\u001b[32mIn[27]\u001b[39m\u001b[32m, line 3\u001b[39m\n\u001b[32m      1\u001b[39m \u001b[38;5;28mprint\u001b[39m(t3)\n\u001b[32m----> \u001b[39m\u001b[32m3\u001b[39m \u001b[43mt3\u001b[49m\u001b[43m[\u001b[49m\u001b[32;43m0\u001b[39;49m\u001b[43m]\u001b[49m = \u001b[32m100\u001b[39m\n",
      "\u001b[31mTypeError\u001b[39m: 'tuple' object does not support item assignment"
     ]
    }
   ],
   "source": [
    "print(t3)\n",
    "\n",
    "t3[0] = 100\n",
    "# immutable just like string"
   ]
  },
  {
   "cell_type": "markdown",
   "id": "19ed5923",
   "metadata": {},
   "source": [
    "### Adding items\n"
   ]
  },
  {
   "cell_type": "code",
   "execution_count": null,
   "id": "61f26586",
   "metadata": {},
   "outputs": [],
   "source": [
    "print(t3)\n",
    "\n",
    "# not possible immutable"
   ]
  },
  {
   "cell_type": "markdown",
   "id": "8424c17e",
   "metadata": {},
   "source": [
    "### Deleting items"
   ]
  },
  {
   "cell_type": "code",
   "execution_count": null,
   "id": "9453f78f",
   "metadata": {},
   "outputs": [
    {
     "ename": "NameError",
     "evalue": "name 't3' is not defined",
     "output_type": "error",
     "traceback": [
      "\u001b[31m---------------------------------------------------------------------------\u001b[39m",
      "\u001b[31mNameError\u001b[39m                                 Traceback (most recent call last)",
      "\u001b[36mCell\u001b[39m\u001b[36m \u001b[39m\u001b[32mIn[30]\u001b[39m\u001b[32m, line 1\u001b[39m\n\u001b[32m----> \u001b[39m\u001b[32m1\u001b[39m \u001b[38;5;28mprint\u001b[39m(\u001b[43mt3\u001b[49m)\n\u001b[32m      2\u001b[39m \u001b[38;5;28;01mdel\u001b[39;00m t3\n\u001b[32m      3\u001b[39m \u001b[38;5;28mprint\u001b[39m(t3)\n",
      "\u001b[31mNameError\u001b[39m: name 't3' is not defined"
     ]
    }
   ],
   "source": [
    "print(t3)\n",
    "del t3\n",
    "\n",
    "print(t3)"
   ]
  },
  {
   "cell_type": "code",
   "execution_count": 35,
   "id": "13e8b9c8",
   "metadata": {},
   "outputs": [
    {
     "name": "stdout",
     "output_type": "stream",
     "text": [
      "(1, 2, 3, (6, 7))\n"
     ]
    },
    {
     "ename": "TypeError",
     "evalue": "'tuple' object doesn't support item deletion",
     "output_type": "error",
     "traceback": [
      "\u001b[31m---------------------------------------------------------------------------\u001b[39m",
      "\u001b[31mTypeError\u001b[39m                                 Traceback (most recent call last)",
      "\u001b[36mCell\u001b[39m\u001b[36m \u001b[39m\u001b[32mIn[35]\u001b[39m\u001b[32m, line 3\u001b[39m\n\u001b[32m      1\u001b[39m \u001b[38;5;28mprint\u001b[39m(t5)\n\u001b[32m----> \u001b[39m\u001b[32m3\u001b[39m \u001b[38;5;28;01mdel\u001b[39;00m \u001b[43mt5\u001b[49m\u001b[43m[\u001b[49m\u001b[43m-\u001b[49m\u001b[32;43m1\u001b[39;49m\u001b[43m]\u001b[49m\n",
      "\u001b[31mTypeError\u001b[39m: 'tuple' object doesn't support item deletion"
     ]
    }
   ],
   "source": [
    "print(t5)\n",
    "\n",
    "del t5[-1]"
   ]
  },
  {
   "cell_type": "markdown",
   "id": "c7d84d6d",
   "metadata": {},
   "source": [
    "###  OperationsonTuples\n",
    "- add (+)\n",
    "- membership\n",
    "- iteration"
   ]
  },
  {
   "cell_type": "code",
   "execution_count": null,
   "id": "5c6b5caa",
   "metadata": {},
   "outputs": [
    {
     "data": {
      "text/plain": [
       "(1, 2, 3, 4, 5, 5, 6, 7, 8, 9)"
      ]
     },
     "execution_count": 37,
     "metadata": {},
     "output_type": "execute_result"
    }
   ],
   "source": [
    "# adding tuple\n",
    "t1 = (1,2,3,4,5)\n",
    "t2 = (5,6,7,8,9)\n",
    "\n",
    "t1 + t2"
   ]
  },
  {
   "cell_type": "code",
   "execution_count": 38,
   "id": "32df8ee5",
   "metadata": {},
   "outputs": [
    {
     "data": {
      "text/plain": [
       "True"
      ]
     },
     "execution_count": 38,
     "metadata": {},
     "output_type": "execute_result"
    }
   ],
   "source": [
    "# membership in tuple\n",
    "1 in t1"
   ]
  },
  {
   "cell_type": "code",
   "execution_count": 40,
   "id": "4727511f",
   "metadata": {},
   "outputs": [
    {
     "name": "stdout",
     "output_type": "stream",
     "text": [
      "1\n",
      "2\n",
      "3\n",
      "4\n",
      "5\n"
     ]
    }
   ],
   "source": [
    "# iteration\n",
    "for i in t1:\n",
    "    print(i)"
   ]
  },
  {
   "cell_type": "markdown",
   "id": "3bc6702a",
   "metadata": {},
   "source": [
    "### TupleFunctions"
   ]
  },
  {
   "cell_type": "code",
   "execution_count": null,
   "id": "d34955d8",
   "metadata": {},
   "outputs": [
    {
     "name": "stdout",
     "output_type": "stream",
     "text": [
      "5\n",
      "15\n",
      "5\n",
      "1\n",
      "[1, 2, 3, 4, 5]\n",
      "[5, 4, 3, 2, 1]\n"
     ]
    }
   ],
   "source": [
    "# len/sum/min/max/sorted\n",
    "t = (1,2,3,4,5)\n",
    "\n",
    "print(len(t))\n",
    "\n",
    "print(sum(t))\n",
    "\n",
    "print(max(t))\n",
    "\n",
    "print(min(t))\n",
    "\n",
    "print(sorted(t))\n",
    "\n",
    "print(sorted(t,reverse=True))"
   ]
  },
  {
   "cell_type": "code",
   "execution_count": 52,
   "id": "f8bc53a8",
   "metadata": {},
   "outputs": [
    {
     "data": {
      "text/plain": [
       "1"
      ]
     },
     "execution_count": 52,
     "metadata": {},
     "output_type": "execute_result"
    }
   ],
   "source": [
    "# Count\n",
    "t = (1,2,3,4,5) \n",
    "t.count(5)"
   ]
  },
  {
   "cell_type": "code",
   "execution_count": 53,
   "id": "6ebad172",
   "metadata": {},
   "outputs": [
    {
     "data": {
      "text/plain": [
       "0"
      ]
     },
     "execution_count": 53,
     "metadata": {},
     "output_type": "execute_result"
    }
   ],
   "source": [
    "# index\n",
    "t.index(1)"
   ]
  },
  {
   "cell_type": "markdown",
   "id": "e087bb4b",
   "metadata": {},
   "source": [
    "## Difference between Lists and Tuples"
   ]
  },
  {
   "cell_type": "markdown",
   "id": "f6287312",
   "metadata": {},
   "source": [
    "- Syntax\n",
    "- Mutability\n",
    "- Speed (immutable data type are faster)\n",
    "- Memory\n",
    "- Built in functionality\n",
    "- Error prone\n",
    "- Usability"
   ]
  },
  {
   "cell_type": "code",
   "execution_count": 2,
   "id": "b9af8819",
   "metadata": {},
   "outputs": [
    {
     "name": "stdout",
     "output_type": "stream",
     "text": [
      "List Time 19.020235776901245\n",
      "Tuple Time 22.458508014678955\n"
     ]
    }
   ],
   "source": [
    "# code that prove tuple speed faster than list\n",
    "\n",
    "import time\n",
    "\n",
    "L = list(range(100000000))\n",
    "T = tuple(range(100000000))\n",
    "\n",
    "start = time.time()\n",
    "for i in L:\n",
    "    i *5\n",
    "print('List Time',time.time()-start)\n",
    "\n",
    "\n",
    "start = time.time()\n",
    "for i in T:\n",
    "    i *5\n",
    "print('Tuple Time',time.time()-start)"
   ]
  },
  {
   "cell_type": "code",
   "execution_count": 3,
   "id": "874e15cc",
   "metadata": {},
   "outputs": [
    {
     "name": "stdout",
     "output_type": "stream",
     "text": [
      "List size 8056\n",
      "Tuple size 8040\n"
     ]
    }
   ],
   "source": [
    "# code to prove tuple take less memory then list\n",
    "\n",
    "import sys\n",
    "L = list(range(1000))\n",
    "T = tuple(range(1000))\n",
    "\n",
    "print('List size',sys.getsizeof(L))\n",
    "print('Tuple size',sys.getsizeof(T))"
   ]
  },
  {
   "cell_type": "code",
   "execution_count": null,
   "id": "14d3563d",
   "metadata": {},
   "outputs": [
    {
     "name": "stdout",
     "output_type": "stream",
     "text": [
      "[1, 2, 3, 4]\n",
      "[1, 2, 3, 4]\n"
     ]
    }
   ],
   "source": [
    "# tuple Error prone then list\n",
    "\n",
    "a = [1,2,3]\n",
    "b = a\n",
    "\n",
    "a.append(4)\n",
    "\n",
    "print(a)\n",
    "print(b)\n",
    "\"\"\"\n",
    "see we change in a list ,it's also chnage in b so bignner coder get confuse in this step\n",
    "\"\"\""
   ]
  },
  {
   "cell_type": "code",
   "execution_count": 7,
   "id": "928d6777",
   "metadata": {},
   "outputs": [
    {
     "name": "stdout",
     "output_type": "stream",
     "text": [
      "(1, 2, 3, 4)\n",
      "(1, 2, 3)\n"
     ]
    }
   ],
   "source": [
    "a = (1,2,3)\n",
    "b = a\n",
    "\n",
    "a = a + (4,)\n",
    "\n",
    "print(a)\n",
    "print(b)"
   ]
  },
  {
   "cell_type": "markdown",
   "id": "f6b0ddd7",
   "metadata": {},
   "source": [
    "## Why use tuple?"
   ]
  },
  {
   "cell_type": "markdown",
   "id": "c7b34bee",
   "metadata": {},
   "source": [
    "Example:\n",
    "Your working in college website & your brother took addmssion in same colllege.\n",
    "Now your brother got diff branch Eletronic but he wanted CS,\n",
    "So your brother request to updates result from Eletronic to CS\n",
    "\n",
    "If the result system was built using List you can update the result but it's Tuple you cn't help your brother\n",
    "\n",
    "soo when there is read only system use tuple , user interaction system like insta use list.\n"
   ]
  },
  {
   "cell_type": "markdown",
   "id": "c81c55c9",
   "metadata": {},
   "source": [
    "## Special Syntax"
   ]
  },
  {
   "cell_type": "code",
   "execution_count": 10,
   "id": "d142ead1",
   "metadata": {},
   "outputs": [
    {
     "name": "stdout",
     "output_type": "stream",
     "text": [
      "1\n",
      "2\n",
      "3\n"
     ]
    }
   ],
   "source": [
    "# tuple unpacking\n",
    "a,b,c = (1,2,3)\n",
    "print(a)\n",
    "print(b)\n",
    "print(c)"
   ]
  },
  {
   "cell_type": "code",
   "execution_count": 11,
   "id": "419a0e06",
   "metadata": {},
   "outputs": [
    {
     "ename": "ValueError",
     "evalue": "too many values to unpack (expected 2)",
     "output_type": "error",
     "traceback": [
      "\u001b[31m---------------------------------------------------------------------------\u001b[39m",
      "\u001b[31mValueError\u001b[39m                                Traceback (most recent call last)",
      "\u001b[36mCell\u001b[39m\u001b[36m \u001b[39m\u001b[32mIn[11]\u001b[39m\u001b[32m, line 1\u001b[39m\n\u001b[32m----> \u001b[39m\u001b[32m1\u001b[39m a,b = (\u001b[32m1\u001b[39m,\u001b[32m2\u001b[39m,\u001b[32m3\u001b[39m)\n",
      "\u001b[31mValueError\u001b[39m: too many values to unpack (expected 2)"
     ]
    }
   ],
   "source": [
    "a,b = (1,2,3)"
   ]
  },
  {
   "cell_type": "code",
   "execution_count": null,
   "id": "e686aee7",
   "metadata": {},
   "outputs": [
    {
     "name": "stdout",
     "output_type": "stream",
     "text": [
      "2\n",
      "1\n"
     ]
    }
   ],
   "source": [
    "# upacking syntax for swaping very usefull just 3 line code\n",
    "a = 1\n",
    "b = 2\n",
    "\n",
    "a,b = b,a\n",
    "\n",
    "print(a)\n",
    "print(b)"
   ]
  },
  {
   "cell_type": "code",
   "execution_count": null,
   "id": "c0bfe1af",
   "metadata": {},
   "outputs": [
    {
     "name": "stdout",
     "output_type": "stream",
     "text": [
      "1\n",
      "2\n",
      "[3, 4, 5]\n"
     ]
    }
   ],
   "source": [
    "# you just need starting first 2 items then use syntax\n",
    "a,b,*others = (1,2,3,4,5)\n",
    "\n",
    "print(a)\n",
    "print(b)\n",
    "\n",
    "print(others)"
   ]
  },
  {
   "cell_type": "markdown",
   "id": "38463e45",
   "metadata": {},
   "source": [
    "## Ziping tuples\n"
   ]
  },
  {
   "cell_type": "code",
   "execution_count": 17,
   "id": "2ff9aaac",
   "metadata": {},
   "outputs": [
    {
     "data": {
      "text/plain": [
       "((1, 5), (2, 6), (3, 7), (4, 8))"
      ]
     },
     "execution_count": 17,
     "metadata": {},
     "output_type": "execute_result"
    }
   ],
   "source": [
    "a = (1,2,3,4)\n",
    "b = (5,6,7,8)\n",
    "\n",
    "zip(a,b) #zip object\n",
    "\n",
    "tuple(zip(a,b))"
   ]
  }
 ],
 "metadata": {
  "kernelspec": {
   "display_name": "Python 3",
   "language": "python",
   "name": "python3"
  },
  "language_info": {
   "codemirror_mode": {
    "name": "ipython",
    "version": 3
   },
   "file_extension": ".py",
   "mimetype": "text/x-python",
   "name": "python",
   "nbconvert_exporter": "python",
   "pygments_lexer": "ipython3",
   "version": "3.13.3"
  }
 },
 "nbformat": 4,
 "nbformat_minor": 5
}
