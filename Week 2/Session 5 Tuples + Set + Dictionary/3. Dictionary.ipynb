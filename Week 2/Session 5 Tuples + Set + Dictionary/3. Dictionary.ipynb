{
 "cells": [
  {
   "cell_type": "markdown",
   "id": "cc86a672",
   "metadata": {},
   "source": [
    "#  Dictionary"
   ]
  },
  {
   "cell_type": "markdown",
   "id": "c410244e",
   "metadata": {},
   "source": [
    "Dictionary in Python is a collection of keys values, used to store data values like a map,\n",
    "which unlike other data types which hold only a single value as an element.\n",
    "In some languages it is known as map or assosiative arrays."
   ]
  },
  {
   "cell_type": "markdown",
   "id": "52a41ff0",
   "metadata": {},
   "source": [
    "dict = { ‘name’ : ‘nitish’ , ‘age’ : 33 , ‘gender’ : ‘male’ }"
   ]
  },
  {
   "cell_type": "markdown",
   "id": "ae3c4979",
   "metadata": {},
   "source": [
    " Characterstics:\n",
    "- Mutable\n",
    "- Indexing has no meaning\n",
    "- keys can’t be duplicated\n",
    "- keys can’t be mutable items"
   ]
  },
  {
   "cell_type": "markdown",
   "id": "399286a5",
   "metadata": {},
   "source": [
    "### Create Dictionary"
   ]
  },
  {
   "cell_type": "code",
   "execution_count": 10,
   "id": "99f2540b",
   "metadata": {},
   "outputs": [
    {
     "data": {
      "text/plain": [
       "{'name': 'altaj'}"
      ]
     },
     "execution_count": 10,
     "metadata": {},
     "output_type": "execute_result"
    }
   ],
   "source": [
    "# empty dictioanry\n",
    "d = {}\n",
    "\n",
    "# 1d homo dictionary\n",
    "d1 = { 'name' : 'nitish' , 'age' : 33 , 'gender' : 'male' }\n",
    "\n",
    "# with mixed keys\n",
    "d2 = { (1,2,3):1,'hello':'world'}\n",
    "\n",
    "# 2d dictionary -> JSON\n",
    "s = {\n",
    "    'name' : 'nitiesh',\n",
    "    'college':'bit',\n",
    "    'sem':4,\n",
    "    'subjects':{\n",
    "        'dsa':50,\n",
    "        'maths':67,\n",
    "        'eng':34\n",
    "    }\n",
    "}\n",
    "\n",
    "# using sequence and dict function\n",
    "d4 = dict([(1,2),('name','afnan')])\n",
    "d4\n",
    "\n",
    "# duplicate keys\n",
    "d5 = {'name':'swiften','name':'altaj'}\n",
    "d5"
   ]
  },
  {
   "cell_type": "code",
   "execution_count": null,
   "id": "cf934399",
   "metadata": {},
   "outputs": [
    {
     "ename": "TypeError",
     "evalue": "unhashable type: 'list'",
     "output_type": "error",
     "traceback": [
      "\u001b[31m---------------------------------------------------------------------------\u001b[39m",
      "\u001b[31mTypeError\u001b[39m                                 Traceback (most recent call last)",
      "\u001b[36mCell\u001b[39m\u001b[36m \u001b[39m\u001b[32mIn[11]\u001b[39m\u001b[32m, line 2\u001b[39m\n\u001b[32m      1\u001b[39m \u001b[38;5;66;03m# mutable items as keys\u001b[39;00m\n\u001b[32m----> \u001b[39m\u001b[32m2\u001b[39m d6 = {\u001b[33m'\u001b[39m\u001b[33mname\u001b[39m\u001b[33m'\u001b[39m:\u001b[33m'\u001b[39m\u001b[33mroshan\u001b[39m\u001b[33m'\u001b[39m,[\u001b[32m1\u001b[39m,\u001b[32m2\u001b[39m,\u001b[32m3\u001b[39m]:\u001b[32m1\u001b[39m}\n",
      "\u001b[31mTypeError\u001b[39m: unhashable type: 'list'"
     ]
    }
   ],
   "source": [
    "# mutable items as keys not allowed\n",
    "d6 = {'name':'roshan',[1,2,3]:1}"
   ]
  },
  {
   "cell_type": "code",
   "execution_count": 12,
   "id": "7cc1be46",
   "metadata": {},
   "outputs": [],
   "source": [
    "# mutable items as keys\n",
    "d6 = {'name':'roshan',(1,2,3):1}"
   ]
  },
  {
   "cell_type": "markdown",
   "id": "d594ba29",
   "metadata": {},
   "source": [
    "### Accessing items\n",
    "- by key\n",
    "- get"
   ]
  },
  {
   "cell_type": "code",
   "execution_count": null,
   "id": "e574d217",
   "metadata": {},
   "outputs": [
    {
     "data": {
      "text/plain": [
       "'Jack'"
      ]
     },
     "execution_count": 14,
     "metadata": {},
     "output_type": "execute_result"
    }
   ],
   "source": [
    "# By key\n",
    "my_dict = {'name':'Jack','age':22}\n",
    "\n",
    "my_dict['name']\n"
   ]
  },
  {
   "cell_type": "code",
   "execution_count": 33,
   "id": "f9b4581d",
   "metadata": {},
   "outputs": [
    {
     "data": {
      "text/plain": [
       "50"
      ]
     },
     "execution_count": 33,
     "metadata": {},
     "output_type": "execute_result"
    }
   ],
   "source": [
    "# 2d dictionary \n",
    "s = {\n",
    "    'name' : 'nitiesh',\n",
    "    'college':'bit',\n",
    "    'sem':4,\n",
    "    'subjects':{\n",
    "        'dsa':50,\n",
    "        'maths':67,\n",
    "        'eng':34\n",
    "    }\n",
    "}\n",
    "\n",
    "s['subjects']['dsa']"
   ]
  },
  {
   "cell_type": "code",
   "execution_count": 15,
   "id": "b1c8e049",
   "metadata": {},
   "outputs": [
    {
     "data": {
      "text/plain": [
       "22"
      ]
     },
     "execution_count": 15,
     "metadata": {},
     "output_type": "execute_result"
    }
   ],
   "source": [
    "# get\n",
    "my_dict = {'name':'Jack','age':22}\n",
    "\n",
    "my_dict.get('age')"
   ]
  },
  {
   "cell_type": "markdown",
   "id": "fd5d932e",
   "metadata": {},
   "source": [
    "###  Adding key-value pair"
   ]
  },
  {
   "cell_type": "code",
   "execution_count": 18,
   "id": "072b65a1",
   "metadata": {},
   "outputs": [
    {
     "data": {
      "text/plain": [
       "{'name': 'Jack', 'age': 22, 'gender': 'male'}"
      ]
     },
     "execution_count": 18,
     "metadata": {},
     "output_type": "execute_result"
    }
   ],
   "source": [
    "d = {'name':'Jack','age':22}\n",
    "\n",
    "d['gender'] = 'male'\n",
    "d"
   ]
  },
  {
   "cell_type": "code",
   "execution_count": 34,
   "id": "5a57517f",
   "metadata": {},
   "outputs": [
    {
     "data": {
      "text/plain": [
       "{'name': 'nitiesh',\n",
       " 'college': 'bit',\n",
       " 'sem': 4,\n",
       " 'subjects': {'dsa': 50, 'maths': 67, 'eng': 34, 'ML': 90}}"
      ]
     },
     "execution_count": 34,
     "metadata": {},
     "output_type": "execute_result"
    }
   ],
   "source": [
    "# 2d dictionary \n",
    "s = {\n",
    "    'name' : 'nitiesh',\n",
    "    'college':'bit',\n",
    "    'sem':4,\n",
    "    'subjects':{\n",
    "        'dsa':50,\n",
    "        'maths':67,\n",
    "        'eng':34\n",
    "    }\n",
    "}\n",
    "\n",
    "s['subjects']['ML'] = 90\n",
    "s"
   ]
  },
  {
   "cell_type": "markdown",
   "id": "fdfc05ac",
   "metadata": {},
   "source": [
    "### Remove key-value pair\n",
    "- pop\n",
    "- popitem\n",
    "-  del\n",
    "- clear"
   ]
  },
  {
   "cell_type": "code",
   "execution_count": 20,
   "id": "7bb16ea2",
   "metadata": {},
   "outputs": [
    {
     "name": "stdout",
     "output_type": "stream",
     "text": [
      "{'name': 'nitish', 'age': 32, 3: 3, 'weight': 72}\n"
     ]
    }
   ],
   "source": [
    "# pop\n",
    "d = {'name': 'nitish', 'age': 32, 3: 3, 'gender': 'male', 'weight': 72}\n",
    "\n",
    "d.pop('gender')\n",
    "print(d)"
   ]
  },
  {
   "cell_type": "code",
   "execution_count": null,
   "id": "edfd1c97",
   "metadata": {},
   "outputs": [
    {
     "name": "stdout",
     "output_type": "stream",
     "text": [
      "{'name': 'nitish', 'age': 32, 3: 3, 'gender': 'male'}\n"
     ]
    }
   ],
   "source": [
    "# popitem (del last item)\n",
    "d = {'name': 'nitish', 'age': 32, 3: 3, 'gender': 'male', 'weight': 72}\n",
    "\n",
    "d.popitem()\n",
    "print(d)"
   ]
  },
  {
   "cell_type": "code",
   "execution_count": 30,
   "id": "ed60f56a",
   "metadata": {},
   "outputs": [
    {
     "data": {
      "text/plain": [
       "{'name': 'nitish', 3: 3, 'gender': 'male', 'weight': 72}"
      ]
     },
     "execution_count": 30,
     "metadata": {},
     "output_type": "execute_result"
    }
   ],
   "source": [
    "# del\n",
    "d = {'name': 'nitish', 'age': 32, 3: 3, 'gender': 'male', 'weight': 72}\n",
    "\n",
    "del d['age']\n",
    "d"
   ]
  },
  {
   "cell_type": "code",
   "execution_count": 36,
   "id": "20fbca29",
   "metadata": {},
   "outputs": [
    {
     "data": {
      "text/plain": [
       "{'name': 'nitiesh',\n",
       " 'college': 'bit',\n",
       " 'sem': 4,\n",
       " 'subjects': {'dsa': 50, 'maths': 67}}"
      ]
     },
     "execution_count": 36,
     "metadata": {},
     "output_type": "execute_result"
    }
   ],
   "source": [
    "# 2d dictionary \n",
    "s = {\n",
    "    'name' : 'nitiesh',\n",
    "    'college':'bit',\n",
    "    'sem':4,\n",
    "    'subjects':{\n",
    "        'dsa':50,\n",
    "        'maths':67,\n",
    "        'eng':34\n",
    "    }\n",
    "}\n",
    "\n",
    "del s['subjects']['eng']\n",
    "s"
   ]
  },
  {
   "cell_type": "code",
   "execution_count": 32,
   "id": "665cd6aa",
   "metadata": {},
   "outputs": [
    {
     "data": {
      "text/plain": [
       "{}"
      ]
     },
     "execution_count": 32,
     "metadata": {},
     "output_type": "execute_result"
    }
   ],
   "source": [
    "# clear\n",
    "d = {'name': 'nitish', 'age': 32, 3: 3, 'gender': 'male', 'weight': 72}\n",
    "\n",
    "d.clear()\n",
    "d"
   ]
  },
  {
   "cell_type": "markdown",
   "id": "97e84f04",
   "metadata": {},
   "source": [
    "### Editing key-value pair"
   ]
  },
  {
   "cell_type": "code",
   "execution_count": 38,
   "id": "ec62c813",
   "metadata": {},
   "outputs": [
    {
     "data": {
      "text/plain": [
       "{'name': 'nitiesh',\n",
       " 'college': 'bit',\n",
       " 'sem': 4,\n",
       " 'subjects': {'dsa': 50, 'maths': 67, 'eng': 40}}"
      ]
     },
     "execution_count": 38,
     "metadata": {},
     "output_type": "execute_result"
    }
   ],
   "source": [
    "# 2d dictionary \n",
    "s = {\n",
    "    'name' : 'nitiesh',\n",
    "    'college':'bit',\n",
    "    'sem':4,\n",
    "    'subjects':{\n",
    "        'dsa':50,\n",
    "        'maths':67,\n",
    "        'eng':34\n",
    "    }\n",
    "}\n",
    "\n",
    "s['subjects']['eng'] = 40\n",
    "s"
   ]
  },
  {
   "cell_type": "markdown",
   "id": "4f34c10a",
   "metadata": {},
   "source": [
    "### Dictionary Operations\n",
    "- Membership\n",
    "- Iteration"
   ]
  },
  {
   "cell_type": "code",
   "execution_count": null,
   "id": "909e9bb7",
   "metadata": {},
   "outputs": [
    {
     "name": "stdout",
     "output_type": "stream",
     "text": [
      "{'name': 'nitiesh', 'college': 'bit', 'sem': 4, 'subjects': {'dsa': 50, 'maths': 67, 'eng': 40}}\n",
      "False\n"
     ]
    },
    {
     "data": {
      "text/plain": [
       "True"
      ]
     },
     "execution_count": 45,
     "metadata": {},
     "output_type": "execute_result"
    }
   ],
   "source": [
    "# Membership\n",
    "print(s)\n",
    "\n",
    "print('nitiesh' in s)\n",
    "\n",
    "\"\"\"membership looks for keys that why false\"\"\"\n",
    "'name' in s\n"
   ]
  },
  {
   "cell_type": "code",
   "execution_count": null,
   "id": "74b56395",
   "metadata": {},
   "outputs": [
    {
     "name": "stdout",
     "output_type": "stream",
     "text": [
      "name\n",
      "age\n",
      "3\n",
      "gender\n",
      "weight\n"
     ]
    }
   ],
   "source": [
    "# iteration\n",
    "d = {'name': 'nitish', 'age': 32, 3: 3, 'gender': 'male', 'weight': 72}\n",
    "\n",
    "for i in d:\n",
    "    print(i)\n",
    "\n",
    "\"\"\" dictionary is all about keys\"\"\""
   ]
  },
  {
   "cell_type": "code",
   "execution_count": 50,
   "id": "44e7bbea",
   "metadata": {},
   "outputs": [
    {
     "name": "stdout",
     "output_type": "stream",
     "text": [
      "name nitish\n",
      "age 32\n",
      "gender male\n",
      "weight 72\n"
     ]
    }
   ],
   "source": [
    "d = {'name': 'nitish', 'age': 32, 'gender': 'male', 'weight': 72}\n",
    "\n",
    "for i in d:\n",
    "    print(i,d[i])"
   ]
  },
  {
   "cell_type": "markdown",
   "id": "daeb5906",
   "metadata": {},
   "source": [
    "### Dictionary Functions"
   ]
  },
  {
   "cell_type": "code",
   "execution_count": 51,
   "id": "cdf9e81e",
   "metadata": {},
   "outputs": [
    {
     "data": {
      "text/plain": [
       "4"
      ]
     },
     "execution_count": 51,
     "metadata": {},
     "output_type": "execute_result"
    }
   ],
   "source": [
    "# len\n",
    "len(d)"
   ]
  },
  {
   "cell_type": "code",
   "execution_count": null,
   "id": "819bf402",
   "metadata": {},
   "outputs": [
    {
     "name": "stdout",
     "output_type": "stream",
     "text": [
      "['age', 'gender', 'name', 'weight']\n"
     ]
    },
    {
     "data": {
      "text/plain": [
       "['weight', 'name', 'gender', 'age']"
      ]
     },
     "execution_count": 57,
     "metadata": {},
     "output_type": "execute_result"
    }
   ],
   "source": [
    "# sorted\n",
    "print(sorted(d))\n",
    "\n",
    "sorted(d,reverse=True)"
   ]
  },
  {
   "cell_type": "code",
   "execution_count": 62,
   "id": "238b3340",
   "metadata": {},
   "outputs": [
    {
     "name": "stdout",
     "output_type": "stream",
     "text": [
      "{'name': 'nitish', 'age': 32, 'gender': 'male', 'weight': 72}\n"
     ]
    },
    {
     "data": {
      "text/plain": [
       "dict_values(['nitish', 32, 'male', 72])"
      ]
     },
     "execution_count": 62,
     "metadata": {},
     "output_type": "execute_result"
    }
   ],
   "source": [
    "# items/keys/values\n",
    "print(d)\n",
    "\n",
    "# print elements as list of tuple\n",
    "d.items()\n",
    "\n",
    "d.keys()\n",
    "\n",
    "d.values()"
   ]
  },
  {
   "cell_type": "code",
   "execution_count": 64,
   "id": "419a06c7",
   "metadata": {},
   "outputs": [
    {
     "name": "stdout",
     "output_type": "stream",
     "text": [
      "{1: 2, 3: 4, 4: 7, 6: 8}\n"
     ]
    }
   ],
   "source": [
    "# update\n",
    "d1 = {1:2,3:4,4:5}\n",
    "d2 = {4:7,6:8}\n",
    "\n",
    "d1.update(d2)\n",
    "print(d1)"
   ]
  },
  {
   "attachments": {
    "IMG_20250713_194510[1](1).jpg": {
     "image/jpeg": "[encoded data removed]"
    }
   },
   "cell_type": "markdown",
   "id": "e4b187d7",
   "metadata": {},
   "source": [
    "###  Dictionary Comprehension\n",
    "\n",
    "![IMG_20250713_194510[1](1).jpg](attachment:IMG_20250713_194510[1](1).jpg)"
   ]
  },
  {
   "cell_type": "code",
   "execution_count": 1,
   "id": "a21400ba",
   "metadata": {},
   "outputs": [
    {
     "data": {
      "text/plain": [
       "{1: 1, 2: 4, 3: 9, 4: 16, 5: 25, 6: 36, 7: 49, 8: 64, 9: 81, 10: 100}"
      ]
     },
     "execution_count": 1,
     "metadata": {},
     "output_type": "execute_result"
    }
   ],
   "source": [
    "# print 1st 10 numbers and their squares\n",
    "{i:i**2 for i in range(1,11)}"
   ]
  },
  {
   "cell_type": "code",
   "execution_count": 2,
   "id": "c79e3635",
   "metadata": {},
   "outputs": [
    {
     "name": "stdout",
     "output_type": "stream",
     "text": [
      "dict_items([('delhi', 1000), ('mumbai', 2000), ('bangalore', 3000)])\n"
     ]
    }
   ],
   "source": [
    "distances = {'delhi':1000,'mumbai':2000,'bangalore':3000}\n",
    "print(distances.items())"
   ]
  },
  {
   "cell_type": "code",
   "execution_count": null,
   "id": "b8284313",
   "metadata": {},
   "outputs": [
    {
     "data": {
      "text/plain": [
       "{'delhi': 620.0, 'mumbai': 1240.0, 'bangulore': 1860.0}"
      ]
     },
     "execution_count": 3,
     "metadata": {},
     "output_type": "execute_result"
    }
   ],
   "source": [
    "# using exiting dictionary\n",
    "distances = {'delhi':1000,'mumbai':2000,'bangulore':3000}\n",
    "\n",
    "{key:value*0.62 for (key,value) in distances.items()}"
   ]
  },
  {
   "cell_type": "code",
   "execution_count": 7,
   "id": "a3eb4b09",
   "metadata": {},
   "outputs": [
    {
     "data": {
      "text/plain": [
       "{'Sunday': 30.5,\n",
       " 'Monday': 32.6,\n",
       " 'Tuesday': 31.8,\n",
       " 'Wednesday': 33.4,\n",
       " 'Thursday': 29.8,\n",
       " 'Friday': 30.2,\n",
       " 'Saturday': 29.9}"
      ]
     },
     "execution_count": 7,
     "metadata": {},
     "output_type": "execute_result"
    }
   ],
   "source": [
    "# using zip\n",
    "days = [\"Sunday\", \"Monday\",\"Tuesday\",\"Wednesday\",\"Thursday\",\"Friday\",\"Saturday\"]\n",
    "temp_C = [30.5,32.6,31.8,33.4,29.8,30.2,29.9]\n",
    "\n",
    "{i:j for (i,j) in zip(days,temp_C)}"
   ]
  },
  {
   "cell_type": "code",
   "execution_count": 17,
   "id": "169aefe0",
   "metadata": {},
   "outputs": [
    {
     "data": {
      "text/plain": [
       "{'phone': 10, 'charger': 32}"
      ]
     },
     "execution_count": 17,
     "metadata": {},
     "output_type": "execute_result"
    }
   ],
   "source": [
    " # using if condition\n",
    "products = {'phone':10,'laptop':0,'charger':32,'tablet':0}\n",
    "\n",
    "{key:value for (key,value) in products.items() if value > 0}"
   ]
  },
  {
   "cell_type": "code",
   "execution_count": null,
   "id": "6d4327d1",
   "metadata": {},
   "outputs": [
    {
     "data": {
      "text/plain": [
       "{2: {1: 2, 2: 4, 3: 6, 4: 8, 5: 10, 6: 12, 7: 14, 8: 16, 9: 18, 10: 20},\n",
       " 3: {1: 3, 2: 6, 3: 9, 4: 12, 5: 15, 6: 18, 7: 21, 8: 24, 9: 27, 10: 30},\n",
       " 4: {1: 4, 2: 8, 3: 12, 4: 16, 5: 20, 6: 24, 7: 28, 8: 32, 9: 36, 10: 40}}"
      ]
     },
     "execution_count": 18,
     "metadata": {},
     "output_type": "execute_result"
    }
   ],
   "source": [
    " # Nested Comprehension\n",
    " # print tables of number from 2 to 4\n",
    "\n",
    "+{i:{j:i*j for j in range(1,11)} for i in range(2,5)}\n"
   ]
  }
 ],
 "metadata": {
  "kernelspec": {
   "display_name": "Python 3",
   "language": "python",
   "name": "python3"
  },
  "language_info": {
   "codemirror_mode": {
    "name": "ipython",
    "version": 3
   },
   "file_extension": ".py",
   "mimetype": "text/x-python",
   "name": "python",
   "nbconvert_exporter": "python",
   "pygments_lexer": "ipython3",
   "version": "3.13.3"
  }
 },
 "nbformat": 4,
 "nbformat_minor": 5
}
