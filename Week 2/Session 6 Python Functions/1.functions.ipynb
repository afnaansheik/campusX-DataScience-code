{
 "cells": [
  {
   "cell_type": "markdown",
   "id": "453de381",
   "metadata": {},
   "source": [
    "## Let’s create a function(with docstring)"
   ]
  },
  {
   "cell_type": "code",
   "execution_count": 1,
   "id": "0cacebc0",
   "metadata": {},
   "outputs": [],
   "source": [
    "# function body\n",
    "def is_even(num):\n",
    "    \"\"\"\n",
    "    this function returns if given number is odd or even\n",
    "    input - any valid integer\n",
    "    output - even/odd\n",
    "    created on - 17-july-2025\n",
    "    creared by - afnaansheik\n",
    "    \"\"\"\n",
    "\n",
    "    if num % 2 == 0:\n",
    "        return 'even'\n",
    "    else:\n",
    "        return 'odd'"
   ]
  },
  {
   "cell_type": "code",
   "execution_count": null,
   "id": "fa84ad90",
   "metadata": {},
   "outputs": [
    {
     "data": {
      "text/plain": [
       "'odd'"
      ]
     },
     "execution_count": 9,
     "metadata": {},
     "output_type": "execute_result"
    }
   ],
   "source": [
    "# function call\n",
    "# syntax --> function_name(para)\n",
    "\n",
    "is_even(299)"
   ]
  },
  {
   "cell_type": "code",
   "execution_count": null,
   "id": "e23cce9f",
   "metadata": {},
   "outputs": [
    {
     "name": "stdout",
     "output_type": "stream",
     "text": [
      "odd\n",
      "even\n",
      "odd\n",
      "even\n",
      "odd\n",
      "even\n",
      "odd\n",
      "even\n",
      "odd\n",
      "even\n"
     ]
    }
   ],
   "source": [
    "for i in range(1,11):\n",
    "    x = is_even(i)\n",
    "\n",
    "    print(x)"
   ]
  },
  {
   "cell_type": "code",
   "execution_count": 6,
   "id": "0a52fb18",
   "metadata": {},
   "outputs": [
    {
     "name": "stdout",
     "output_type": "stream",
     "text": [
      "\n",
      "this function returns if given number is odd or even\n",
      "input - any valid integer\n",
      "output - even/odd\n",
      "created on - 17-july-2025\n",
      "creared by - afnaansheik\n",
      "\n"
     ]
    }
   ],
   "source": [
    "# if you want to read the documentation of function use this:\n",
    "is_even.__doc__\n",
    "# or \n",
    "print(is_even.__doc__)"
   ]
  },
  {
   "cell_type": "code",
   "execution_count": 7,
   "id": "82eb98f1",
   "metadata": {},
   "outputs": [
    {
     "data": {
      "text/plain": [
       "'Prints the values to a stream, or to sys.stdout by default.\\n\\n  sep\\n    string inserted between values, default a space.\\n  end\\n    string appended after the last value, default a newline.\\n  file\\n    a file-like object (stream); defaults to the current sys.stdout.\\n  flush\\n    whether to forcibly flush the stream.'"
      ]
     },
     "execution_count": 7,
     "metadata": {},
     "output_type": "execute_result"
    }
   ],
   "source": [
    "print.__doc__"
   ]
  },
  {
   "cell_type": "markdown",
   "id": "bd41fee8",
   "metadata": {},
   "source": [
    "##  2 Point of views\n",
    "\n",
    "- a person who creates funtion (Engineer create a remote funtion by press red🔴 button turn on/off T.V.)\n",
    "- a person who use funtion     (Customer use remote)"
   ]
  },
  {
   "cell_type": "markdown",
   "id": "1d8b92e6",
   "metadata": {},
   "source": [
    "- As Senior Devloper we create function & junior dev call funtion use them \n",
    "- if junior dev instead of sending int data type for is_even() funtion he send string,it's not his mistake & faces error.\n",
    "- Mistakes is of Senior Dev, we have to make sure handel that error"
   ]
  },
  {
   "cell_type": "code",
   "execution_count": 11,
   "id": "c6acdd22",
   "metadata": {},
   "outputs": [],
   "source": [
    "def is_even(num):\n",
    "    \"\"\"\n",
    "    this function returns if given number is odd or even\n",
    "    input - any valid integer\n",
    "    output - even/odd\n",
    "    created on - 17-july-2025\n",
    "    creared by - afnaansheik\n",
    "    \"\"\"\n",
    "    if type(num) == int:\n",
    "            \n",
    "            if num % 2 == 0:\n",
    "                return 'even'\n",
    "            else:\n",
    "                return 'odd'\n",
    "            \n",
    "    else:\n",
    "         print('aabey bhai int input dena hai')"
   ]
  },
  {
   "cell_type": "code",
   "execution_count": 12,
   "id": "7b5ef2d6",
   "metadata": {},
   "outputs": [
    {
     "name": "stdout",
     "output_type": "stream",
     "text": [
      "aabey bhai int input dena hai\n"
     ]
    }
   ],
   "source": [
    "is_even('hello')"
   ]
  },
  {
   "cell_type": "markdown",
   "id": "2da2ccb7",
   "metadata": {},
   "source": [
    "##  Parameters Vs Arguments\n",
    "\n",
    "is_even(num): # num is Parameters\n",
    "    \n",
    "    if  num%2 == 0:\n",
    "        return 'even'\n",
    "    else:\n",
    "        return 'odd'\n",
    "\n",
    "\n",
    "is_even(23)  # 23 is Arguments"
   ]
  },
  {
   "cell_type": "markdown",
   "id": "37917763",
   "metadata": {},
   "source": [
    "## Types of Arguments\n",
    " - Default Argument\n",
    " - Positional Argument\n",
    " - Keyword Argument"
   ]
  },
  {
   "cell_type": "markdown",
   "id": "23fbffd2",
   "metadata": {},
   "source": [
    "<center>Default Argument</center>"
   ]
  },
  {
   "cell_type": "code",
   "execution_count": null,
   "id": "8e3f4161",
   "metadata": {},
   "outputs": [],
   "source": [
    "# Let me explain a scenario your(senior dev) bulid a function to calculate power of number.\n",
    "def power(a,b):\n",
    "    return a**b"
   ]
  },
  {
   "cell_type": "code",
   "execution_count": null,
   "id": "f3ba2364",
   "metadata": {},
   "outputs": [
    {
     "ename": "TypeError",
     "evalue": "power() missing 1 required positional argument: 'b'",
     "output_type": "error",
     "traceback": [
      "\u001b[31m---------------------------------------------------------------------------\u001b[39m",
      "\u001b[31mTypeError\u001b[39m                                 Traceback (most recent call last)",
      "\u001b[36mCell\u001b[39m\u001b[36m \u001b[39m\u001b[32mIn[14]\u001b[39m\u001b[32m, line 2\u001b[39m\n\u001b[32m      1\u001b[39m \u001b[38;5;66;03m# your junior call that function with only 1 argument\u001b[39;00m\n\u001b[32m----> \u001b[39m\u001b[32m2\u001b[39m \u001b[43mpower\u001b[49m\u001b[43m(\u001b[49m\u001b[32;43m1\u001b[39;49m\u001b[43m)\u001b[49m \n",
      "\u001b[31mTypeError\u001b[39m: power() missing 1 required positional argument: 'b'"
     ]
    }
   ],
   "source": [
    "# your junior call that function with only 1 argument\n",
    "# & user face error \n",
    "# to handel this issue we use default arguments\n",
    "power(1) "
   ]
  },
  {
   "cell_type": "code",
   "execution_count": 18,
   "id": "1f3857f9",
   "metadata": {},
   "outputs": [
    {
     "data": {
      "text/plain": [
       "4"
      ]
     },
     "execution_count": 18,
     "metadata": {},
     "output_type": "execute_result"
    }
   ],
   "source": [
    "def power(a=2,b=2):\n",
    "    return a**b\n",
    "\n",
    "power()"
   ]
  },
  {
   "cell_type": "code",
   "execution_count": 19,
   "id": "16dd50c0",
   "metadata": {},
   "outputs": [
    {
     "data": {
      "text/plain": [
       "9"
      ]
     },
     "execution_count": 19,
     "metadata": {},
     "output_type": "execute_result"
    }
   ],
   "source": [
    "power(3)"
   ]
  },
  {
   "cell_type": "markdown",
   "id": "52e46446",
   "metadata": {},
   "source": [
    "<center>Positional Argument</center>"
   ]
  },
  {
   "cell_type": "code",
   "execution_count": null,
   "id": "b5d3ca5e",
   "metadata": {},
   "outputs": [],
   "source": [
    "# Positional Argument is nothing new. The value you provide for argument squencial it became para value\n",
    "def add(a,b,c):\n",
    "    return a+b+c\n",
    "\n",
    "add(1,3,2)\n",
    "\n",
    "# a = 1, b=3 ,c=2 this is Positional Argument"
   ]
  },
  {
   "cell_type": "markdown",
   "id": "a7297e4d",
   "metadata": {},
   "source": [
    "<center>Keyword Argument</center>"
   ]
  },
  {
   "cell_type": "code",
   "execution_count": 20,
   "id": "d1b966b7",
   "metadata": {},
   "outputs": [
    {
     "data": {
      "text/plain": [
       "8"
      ]
     },
     "execution_count": 20,
     "metadata": {},
     "output_type": "execute_result"
    }
   ],
   "source": [
    "def power(a=2,b=2):\n",
    "    return a**b\n",
    "\n",
    "power(b=3,a=2)\n",
    "\n",
    "# even if we change the position of argument the value wil go as per variable \n",
    "# now a = 2, b=3"
   ]
  },
  {
   "attachments": {
    "image.png": {
     "image/png": "[encoded data removed]"
    }
   },
   "cell_type": "markdown",
   "id": "0e6dd836",
   "metadata": {},
   "source": [
    "![image.png](attachment:image.png)"
   ]
  },
  {
   "cell_type": "markdown",
   "id": "a6918a88",
   "metadata": {},
   "source": [
    "For this senario keeping the parameter posiotion is difficult \n",
    "\n",
    "so Keyword Argument is useful in this case."
   ]
  },
  {
   "cell_type": "markdown",
   "id": "69e071b6",
   "metadata": {},
   "source": [
    "## *args and **kwargs"
   ]
  },
  {
   "cell_type": "markdown",
   "id": "690776aa",
   "metadata": {},
   "source": [
    "-  *args and **kwargs are special Python keywords that are used to pass the variable length of\n",
    " arguments to a function"
   ]
  },
  {
   "cell_type": "markdown",
   "id": "c0e3055f",
   "metadata": {},
   "source": [
    "<center>*args</center>"
   ]
  },
  {
   "cell_type": "markdown",
   "id": "0fb1cfa4",
   "metadata": {},
   "source": [
    "--> allows us to pass a variable number of non-keyword arguments to a function."
   ]
  },
  {
   "cell_type": "code",
   "execution_count": 1,
   "id": "c9dff5ed",
   "metadata": {},
   "outputs": [
    {
     "data": {
      "text/plain": [
       "6"
      ]
     },
     "execution_count": 1,
     "metadata": {},
     "output_type": "execute_result"
    }
   ],
   "source": [
    "# Let's say your manager told you to write a function for multiplication of 2 number's\n",
    "\n",
    "def multiply(a,b):\n",
    "    return a*b\n",
    "\n",
    "multiply(2,3)"
   ]
  },
  {
   "cell_type": "code",
   "execution_count": 2,
   "id": "63f48d81",
   "metadata": {},
   "outputs": [
    {
     "data": {
      "text/plain": [
       "6"
      ]
     },
     "execution_count": 2,
     "metadata": {},
     "output_type": "execute_result"
    }
   ],
   "source": [
    "# Now your maneger change his requirement told to write code function for 3 number\n",
    "# so you update the code\n",
    "\n",
    "def multiply(a,b,c):\n",
    "    return a*b\n",
    "\n",
    "multiply(2,3,4)"
   ]
  },
  {
   "cell_type": "code",
   "execution_count": 10,
   "id": "11e2171d",
   "metadata": {},
   "outputs": [
    {
     "data": {
      "text/plain": [
       "1290240"
      ]
     },
     "execution_count": 10,
     "metadata": {},
     "output_type": "execute_result"
    }
   ],
   "source": [
    "# now again maneger say can you make code that user will give any numbers of arguments that we have multiply\n",
    "# so here *args (variable positional arguments)\n",
    "\n",
    "def multiply(*args):\n",
    "    product = 1\n",
    "\n",
    "    for i in args:\n",
    "        product = i * product\n",
    "\n",
    "    return product\n",
    "    \n",
    "multiply(4,2,3,4,5,6,7,8,8)"
   ]
  },
  {
   "cell_type": "code",
   "execution_count": 12,
   "id": "18a27f12",
   "metadata": {},
   "outputs": [
    {
     "name": "stdout",
     "output_type": "stream",
     "text": [
      "(4, 2, 3, 4, 5, 6, 7, 8, 8)\n"
     ]
    }
   ],
   "source": [
    "# actully what we pass as arguments store as tuple in that variable\n",
    "# see \n",
    "def multiply(*args):\n",
    "    \n",
    "    print(args)\n",
    "\n",
    "\n",
    "multiply(4,2,3,4,5,6,7,8,8)\n"
   ]
  },
  {
   "cell_type": "markdown",
   "id": "ccf78c94",
   "metadata": {},
   "source": [
    "<center>**kwargs</center>"
   ]
  },
  {
   "cell_type": "code",
   "execution_count": 8,
   "id": "2307ef0b",
   "metadata": {},
   "outputs": [],
   "source": [
    " #  **kwargs\n",
    " # **kwargs allows us to pass any number of keyword arguments.\n",
    " # Keyword arguments mean that they contain a key-value pair, like a Python dictionary.\n",
    "\n",
    "def display(**kwargs):\n",
    "\n",
    "    for (key,value) in kwargs.items():\n",
    "        print(key,'->',value)"
   ]
  },
  {
   "cell_type": "code",
   "execution_count": 10,
   "id": "2f2311cb",
   "metadata": {},
   "outputs": [
    {
     "name": "stdout",
     "output_type": "stream",
     "text": [
      "india -> Delhi\n",
      "srilanka -> colombo\n",
      "nepla -> katmandu\n",
      "paskistan -> islamabad\n"
     ]
    }
   ],
   "source": [
    "# function call\n",
    "display(india='Delhi',srilanka='colombo',nepla='katmandu',paskistan='islamabad')"
   ]
  },
  {
   "cell_type": "markdown",
   "id": "77f7ec21",
   "metadata": {},
   "source": [
    "<hr>"
   ]
  },
  {
   "cell_type": "markdown",
   "id": "e502469c",
   "metadata": {},
   "source": [
    "Points to remember while using `*args` and `**kwargs`\n",
    "- order of the arguments matter(normal-> *args-> **kwargs)\n",
    "- The words “args” and “kwargs” are only a convention, you can use any name of your choice"
   ]
  },
  {
   "cell_type": "markdown",
   "id": "395c8430",
   "metadata": {},
   "source": [
    "## How Functions are executed in memory?"
   ]
  },
  {
   "cell_type": "code",
   "execution_count": 13,
   "id": "d5b418c6",
   "metadata": {},
   "outputs": [
    {
     "data": {
      "text/plain": [
       "'odd'"
      ]
     },
     "execution_count": 13,
     "metadata": {},
     "output_type": "execute_result"
    }
   ],
   "source": [
    "# use python tutor for visual understanding\n",
    "\n",
    "def is_even(num):\n",
    "\n",
    "    if num%2 == 0:\n",
    "        return 'even'\n",
    "    else:\n",
    "        return 'odd'\n",
    "    \n",
    "is_even(7)"
   ]
  },
  {
   "cell_type": "code",
   "execution_count": null,
   "id": "a965c330",
   "metadata": {},
   "outputs": [],
   "source": [
    "# So Python interpreter goes to the first line, sees 'def' and understands it's a function.\n",
    "# So it ignores that function execution and directly jumps to the new piece of code that is the function call.\n",
    "# Once the function is called, it executes that function and creates necessary variables to store data (it creates a different block in RAM, and after running, the function gets destroyed).\n",
    "# After complete execution of the function, it gets destroyed. So the lifespan of the function is over—that’s why we can't use variables inside the function outside of it."
   ]
  },
  {
   "cell_type": "markdown",
   "id": "9f973643",
   "metadata": {},
   "source": [
    "## Without return statement"
   ]
  },
  {
   "cell_type": "code",
   "execution_count": null,
   "id": "4a58f881",
   "metadata": {},
   "outputs": [
    {
     "name": "stdout",
     "output_type": "stream",
     "text": [
      "odd\n",
      "None\n"
     ]
    }
   ],
   "source": [
    "def is_even(num):\n",
    "\n",
    "    if num%2 == 0:\n",
    "        print('even')\n",
    "    else:\n",
    "        print('odd')\n",
    "    \n",
    "print(is_even(7))\n",
    "\n",
    "# return wil pass value\n",
    "# print wil return None"
   ]
  },
  {
   "cell_type": "code",
   "execution_count": null,
   "id": "ddb5213a",
   "metadata": {},
   "outputs": [
    {
     "name": "stdout",
     "output_type": "stream",
     "text": [
      "None\n"
     ]
    }
   ],
   "source": [
    "L =[1,2,3]\n",
    "\n",
    "print(L.append(4))\n",
    "# some function return None"
   ]
  },
  {
   "cell_type": "markdown",
   "id": "781bee2d",
   "metadata": {},
   "source": [
    "## Variable Scope"
   ]
  },
  {
   "cell_type": "code",
   "execution_count": null,
   "id": "6d798c6b",
   "metadata": {},
   "outputs": [
    {
     "name": "stdout",
     "output_type": "stream",
     "text": [
      "5\n",
      "6\n",
      "5\n",
      "5\n"
     ]
    }
   ],
   "source": [
    "def g(y):\n",
    "    print(x)\n",
    "    print(x+1)\n",
    "    print(y)\n",
    "\n",
    "x = 5\n",
    "g(x)\n",
    "print(x)\n",
    "\n",
    "# x -> global var\n",
    "# y -> local  var"
   ]
  },
  {
   "cell_type": "code",
   "execution_count": 21,
   "id": "2f9e89b6",
   "metadata": {},
   "outputs": [
    {
     "name": "stdout",
     "output_type": "stream",
     "text": [
      "2\n",
      "5\n"
     ]
    }
   ],
   "source": [
    "def f(y):\n",
    "    x = 1\n",
    "    x += 1\n",
    "    print(x)\n",
    "x = 5\n",
    "f(x)\n",
    "print(x)"
   ]
  },
  {
   "cell_type": "code",
   "execution_count": null,
   "id": "23f381ae",
   "metadata": {},
   "outputs": [
    {
     "ename": "UnboundLocalError",
     "evalue": "cannot access local variable 'x' where it is not associated with a value",
     "output_type": "error",
     "traceback": [
      "\u001b[31m---------------------------------------------------------------------------\u001b[39m",
      "\u001b[31mUnboundLocalError\u001b[39m                         Traceback (most recent call last)",
      "\u001b[36mCell\u001b[39m\u001b[36m \u001b[39m\u001b[32mIn[22]\u001b[39m\u001b[32m, line 4\u001b[39m\n\u001b[32m      2\u001b[39m     x += \u001b[32m1\u001b[39m\n\u001b[32m      3\u001b[39m x = \u001b[32m5\u001b[39m\n\u001b[32m----> \u001b[39m\u001b[32m4\u001b[39m \u001b[43mh\u001b[49m\u001b[43m(\u001b[49m\u001b[43mx\u001b[49m\u001b[43m)\u001b[49m\n\u001b[32m      5\u001b[39m \u001b[38;5;28mprint\u001b[39m(x)\n",
      "\u001b[36mCell\u001b[39m\u001b[36m \u001b[39m\u001b[32mIn[22]\u001b[39m\u001b[32m, line 2\u001b[39m, in \u001b[36mh\u001b[39m\u001b[34m(y)\u001b[39m\n\u001b[32m      1\u001b[39m \u001b[38;5;28;01mdef\u001b[39;00m\u001b[38;5;250m \u001b[39m\u001b[34mh\u001b[39m(y):\n\u001b[32m----> \u001b[39m\u001b[32m2\u001b[39m     \u001b[43mx\u001b[49m += \u001b[32m1\u001b[39m\n",
      "\u001b[31mUnboundLocalError\u001b[39m: cannot access local variable 'x' where it is not associated with a value"
     ]
    }
   ],
   "source": [
    "def h(y):\n",
    "    x += 1\n",
    "x = 5\n",
    "h(x)\n",
    "print(x)\n",
    "\n",
    "# function can use global var but can't update/change value.\n",
    "# analogy eg. state government can req money from central gov but can't invest in dream11 🤣"
   ]
  },
  {
   "cell_type": "code",
   "execution_count": null,
   "id": "7dc5e906",
   "metadata": {},
   "outputs": [
    {
     "name": "stdout",
     "output_type": "stream",
     "text": [
      "6\n"
     ]
    }
   ],
   "source": [
    "def h(y):\n",
    "    global x\n",
    "    x += 1\n",
    "x = 5\n",
    "h(x)\n",
    "print(x)\n",
    "\n",
    "# python give you freedom to update/change value using global\n",
    "# but it's not best practice"
   ]
  },
  {
   "cell_type": "code",
   "execution_count": 24,
   "id": "95e77286",
   "metadata": {},
   "outputs": [
    {
     "name": "stdout",
     "output_type": "stream",
     "text": [
      "in f(x): x = 4\n",
      "in main program scope: z = 4\n",
      "in main program scope: x = 3\n"
     ]
    }
   ],
   "source": [
    "def f(x):\n",
    "    x = x + 1\n",
    "    print('in f(x): x =', x)\n",
    "    return x\n",
    "x = 3\n",
    "z = f(x)\n",
    "print('in main program scope: z =', z)\n",
    "print('in main program scope: x =', x)"
   ]
  },
  {
   "cell_type": "markdown",
   "id": "137f55b1",
   "metadata": {},
   "source": [
    "## Nested Functions"
   ]
  },
  {
   "cell_type": "code",
   "execution_count": 25,
   "id": "7bfeaa9f",
   "metadata": {},
   "outputs": [
    {
     "name": "stdout",
     "output_type": "stream",
     "text": [
      "outside function f\n"
     ]
    }
   ],
   "source": [
    "def f():\n",
    "    def g():\n",
    "        print('inside function g')\n",
    "    print('outside function f')\n",
    "\n",
    "f()"
   ]
  },
  {
   "cell_type": "code",
   "execution_count": 26,
   "id": "3997c0a8",
   "metadata": {},
   "outputs": [
    {
     "name": "stdout",
     "output_type": "stream",
     "text": [
      "outside function f\n",
      "inside function g\n"
     ]
    }
   ],
   "source": [
    "def f():\n",
    "    def g():\n",
    "        print('inside function g')\n",
    "    print('outside function f')\n",
    "    g()\n",
    "\n",
    "f()"
   ]
  },
  {
   "cell_type": "code",
   "execution_count": 27,
   "id": "49e4e57d",
   "metadata": {},
   "outputs": [
    {
     "ename": "TypeError",
     "evalue": "g() missing 1 required positional argument: 'y'",
     "output_type": "error",
     "traceback": [
      "\u001b[31m---------------------------------------------------------------------------\u001b[39m",
      "\u001b[31mTypeError\u001b[39m                                 Traceback (most recent call last)",
      "\u001b[36mCell\u001b[39m\u001b[36m \u001b[39m\u001b[32mIn[27]\u001b[39m\u001b[32m, line 7\u001b[39m\n\u001b[32m      4\u001b[39m     \u001b[38;5;28mprint\u001b[39m(\u001b[33m'\u001b[39m\u001b[33moutside function f\u001b[39m\u001b[33m'\u001b[39m)\n\u001b[32m      5\u001b[39m     g()\n\u001b[32m----> \u001b[39m\u001b[32m7\u001b[39m \u001b[43mg\u001b[49m\u001b[43m(\u001b[49m\u001b[43m)\u001b[49m\n",
      "\u001b[31mTypeError\u001b[39m: g() missing 1 required positional argument: 'y'"
     ]
    }
   ],
   "source": [
    "def f():\n",
    "    def g():\n",
    "        print('inside function g')\n",
    "    print('outside function f')\n",
    "    g()\n",
    "\n",
    "g()"
   ]
  },
  {
   "cell_type": "code",
   "execution_count": 31,
   "id": "726a29a5",
   "metadata": {},
   "outputs": [
    {
     "name": "stdout",
     "output_type": "stream",
     "text": [
      "inside function g\n",
      "inside function g\n",
      "inside function g\n",
      "inside function g\n",
      "inside function g\n",
      "inside function g\n",
      "inside function g\n",
      "inside function g\n",
      "inside function g\n",
      "inside function g\n",
      "inside function g\n",
      "inside function g\n",
      "inside function g\n",
      "inside function g\n",
      "inside function g\n",
      "inside function g\n",
      "inside function g\n",
      "inside function g\n",
      "inside function g\n",
      "inside function g\n",
      "inside function g\n",
      "inside function g\n",
      "inside function g\n",
      "inside function g\n",
      "inside function g\n",
      "inside function g\n",
      "inside function g\n",
      "inside function g\n",
      "inside function g\n",
      "inside function g\n",
      "inside function g\n",
      "inside function g\n",
      "inside function g\n",
      "inside function g\n",
      "inside function g\n",
      "inside function g\n",
      "inside function g\n",
      "inside function g\n",
      "inside function g\n",
      "inside function g\n",
      "inside function g\n",
      "inside function g\n",
      "inside function g\n",
      "inside function g\n",
      "inside function g\n",
      "inside function g\n",
      "inside function g\n",
      "inside function g\n",
      "inside function g\n",
      "inside function g\n",
      "inside function g\n",
      "inside function g\n",
      "inside function g\n",
      "inside function g\n",
      "inside function g\n",
      "inside function g\n",
      "inside function g\n",
      "inside function g\n",
      "inside function g\n",
      "inside function g\n",
      "inside function g\n",
      "inside function g\n",
      "inside function g\n",
      "inside function g\n",
      "inside function g\n",
      "inside function g\n",
      "inside function g\n",
      "inside function g\n",
      "inside function g\n",
      "inside function g\n",
      "inside function g\n",
      "inside function g\n",
      "inside function g\n",
      "inside function g\n",
      "inside function g\n",
      "inside function g\n",
      "inside function g\n",
      "inside function g\n",
      "inside function g\n",
      "inside function g\n",
      "inside function g\n",
      "inside function g\n",
      "inside function g\n",
      "inside function g\n",
      "inside function g\n",
      "inside function g\n",
      "inside function g\n",
      "inside function g\n",
      "inside function g\n",
      "inside function g\n",
      "inside function g\n",
      "inside function g\n",
      "inside function g\n",
      "inside function g\n",
      "inside function g\n",
      "inside function g\n",
      "inside function g\n",
      "inside function g\n",
      "inside function g\n",
      "inside function g\n",
      "inside function g\n",
      "inside function g\n",
      "inside function g\n",
      "inside function g\n",
      "inside function g\n",
      "inside function g\n",
      "inside function g\n",
      "inside function g\n",
      "inside function g\n",
      "inside function g\n",
      "inside function g\n",
      "inside function g\n",
      "inside function g\n",
      "inside function g\n",
      "inside function g\n",
      "inside function g\n",
      "inside function g\n",
      "inside function g\n",
      "inside function g\n",
      "inside function g\n",
      "inside function g\n",
      "inside function g\n",
      "inside function g\n",
      "inside function g\n",
      "inside function g\n",
      "inside function g\n",
      "inside function g\n",
      "inside function g\n",
      "inside function g\n",
      "inside function g\n",
      "inside function g\n",
      "inside function g\n",
      "inside function g\n",
      "inside function g\n",
      "inside function g\n",
      "inside function g\n",
      "inside function g\n",
      "inside function g\n",
      "inside function g\n",
      "inside function g\n",
      "inside function g\n",
      "inside function g\n",
      "inside function g\n",
      "inside function g\n",
      "inside function g\n",
      "inside function g\n",
      "inside function g\n",
      "inside function g\n",
      "inside function g\n",
      "inside function g\n",
      "inside function g\n",
      "inside function g\n",
      "inside function g\n",
      "inside function g\n",
      "inside function g\n",
      "inside function g\n",
      "inside function g\n",
      "inside function g\n",
      "inside function g\n",
      "inside function g\n",
      "inside function g\n",
      "inside function g\n",
      "inside function g\n",
      "inside function g\n",
      "inside function g\n",
      "inside function g\n",
      "inside function g\n",
      "inside function g\n",
      "inside function g\n",
      "inside function g\n",
      "inside function g\n",
      "inside function g\n",
      "inside function g\n",
      "inside function g\n",
      "inside function g\n",
      "inside function g\n",
      "inside function g\n",
      "inside function g\n",
      "inside function g\n",
      "inside function g\n",
      "inside function g\n",
      "inside function g\n",
      "inside function g\n",
      "inside function g\n",
      "inside function g\n",
      "inside function g\n",
      "inside function g\n",
      "inside function g\n",
      "inside function g\n",
      "inside function g\n",
      "inside function g\n",
      "inside function g\n",
      "inside function g\n",
      "inside function g\n",
      "inside function g\n",
      "inside function g\n",
      "inside function g\n",
      "inside function g\n",
      "inside function g\n",
      "inside function g\n",
      "inside function g\n",
      "inside function g\n",
      "inside function g\n",
      "inside function g\n",
      "inside function g\n",
      "inside function g\n",
      "inside function g\n",
      "inside function g\n",
      "inside function g\n",
      "inside function g\n",
      "inside function g\n",
      "inside function g\n",
      "inside function g\n",
      "inside function g\n",
      "inside function g\n",
      "inside function g\n",
      "inside function g\n",
      "inside function g\n",
      "inside function g\n",
      "inside function g\n",
      "inside function g\n",
      "inside function g\n",
      "inside function g\n",
      "inside function g\n",
      "inside function g\n",
      "inside function g\n",
      "inside function g\n",
      "inside function g\n",
      "inside function g\n",
      "inside function g\n",
      "inside function g\n",
      "inside function g\n",
      "inside function g\n",
      "inside function g\n",
      "inside function g\n",
      "inside function g\n",
      "inside function g\n",
      "inside function g\n",
      "inside function g\n",
      "inside function g\n",
      "inside function g\n",
      "inside function g\n",
      "inside function g\n",
      "inside function g\n",
      "inside function g\n",
      "inside function g\n",
      "inside function g\n",
      "inside function g\n",
      "inside function g\n",
      "inside function g\n",
      "inside function g\n",
      "inside function g\n",
      "inside function g\n",
      "inside function g\n",
      "inside function g\n",
      "inside function g\n",
      "inside function g\n",
      "inside function g\n",
      "inside function g\n",
      "inside function g\n",
      "inside function g\n",
      "inside function g\n",
      "inside function g\n",
      "inside function g\n",
      "inside function g\n",
      "inside function g\n",
      "inside function g\n",
      "inside function g\n",
      "inside function g\n",
      "inside function g\n",
      "inside function g\n",
      "inside function g\n",
      "inside function g\n",
      "inside function g\n",
      "inside function g\n",
      "inside function g\n",
      "inside function g\n",
      "inside function g\n",
      "inside function g\n",
      "inside function g\n",
      "inside function g\n",
      "inside function g\n",
      "inside function g\n",
      "inside function g\n",
      "inside function g\n",
      "inside function g\n",
      "inside function g\n",
      "inside function g\n",
      "inside function g\n",
      "inside function g\n",
      "inside function g\n",
      "inside function g\n",
      "inside function g\n",
      "inside function g\n",
      "inside function g\n",
      "inside function g\n",
      "inside function g\n",
      "inside function g\n",
      "inside function g\n",
      "inside function g\n",
      "inside function g\n",
      "inside function g\n",
      "inside function g\n",
      "inside function g\n",
      "inside function g\n",
      "inside function g\n",
      "inside function g\n",
      "inside function g\n",
      "inside function g\n",
      "inside function g\n",
      "inside function g\n",
      "inside function g\n",
      "inside function g\n",
      "inside function g\n",
      "inside function g\n",
      "inside function g\n",
      "inside function g\n",
      "inside function g\n",
      "inside function g\n",
      "inside function g\n",
      "inside function g\n",
      "inside function g\n",
      "inside function g\n",
      "inside function g\n",
      "inside function g\n",
      "inside function g\n",
      "inside function g\n",
      "inside function g\n",
      "inside function g\n",
      "inside function g\n",
      "inside function g\n",
      "inside function g\n",
      "inside function g\n",
      "inside function g\n",
      "inside function g\n",
      "inside function g\n",
      "inside function g\n",
      "inside function g\n",
      "inside function g\n",
      "inside function g\n",
      "inside function g\n",
      "inside function g\n",
      "inside function g\n",
      "inside function g\n",
      "inside function g\n",
      "inside function g\n",
      "inside function g\n",
      "inside function g\n",
      "inside function g\n",
      "inside function g\n",
      "inside function g\n",
      "inside function g\n",
      "inside function g\n",
      "inside function g\n",
      "inside function g\n",
      "inside function g\n",
      "inside function g\n",
      "inside function g\n",
      "inside function g\n",
      "inside function g\n",
      "inside function g\n",
      "inside function g\n",
      "inside function g\n",
      "inside function g\n",
      "inside function g\n",
      "inside function g\n",
      "inside function g\n",
      "inside function g\n",
      "inside function g\n",
      "inside function g\n",
      "inside function g\n",
      "inside function g\n",
      "inside function g\n",
      "inside function g\n",
      "inside function g\n",
      "inside function g\n",
      "inside function g\n",
      "inside function g\n",
      "inside function g\n",
      "inside function g\n",
      "inside function g\n",
      "inside function g\n",
      "inside function g\n",
      "inside function g\n",
      "inside function g\n",
      "inside function g\n",
      "inside function g\n",
      "inside function g\n",
      "inside function g\n",
      "inside function g\n",
      "inside function g\n",
      "inside function g\n",
      "inside function g\n",
      "inside function g\n",
      "inside function g\n",
      "inside function g\n",
      "inside function g\n",
      "inside function g\n",
      "inside function g\n",
      "inside function g\n",
      "inside function g\n",
      "inside function g\n",
      "inside function g\n",
      "inside function g\n",
      "inside function g\n",
      "inside function g\n",
      "inside function g\n",
      "inside function g\n",
      "inside function g\n",
      "inside function g\n",
      "inside function g\n",
      "inside function g\n",
      "inside function g\n",
      "inside function g\n",
      "inside function g\n",
      "inside function g\n",
      "inside function g\n",
      "inside function g\n",
      "inside function g\n",
      "inside function g\n",
      "inside function g\n",
      "inside function g\n",
      "inside function g\n",
      "inside function g\n",
      "inside function g\n",
      "inside function g\n",
      "inside function g\n",
      "inside function g\n",
      "inside function g\n",
      "inside function g\n",
      "inside function g\n",
      "inside function g\n",
      "inside function g\n",
      "inside function g\n",
      "inside function g\n",
      "inside function g\n",
      "inside function g\n",
      "inside function g\n",
      "inside function g\n",
      "inside function g\n",
      "inside function g\n",
      "inside function g\n",
      "inside function g\n",
      "inside function g\n",
      "inside function g\n",
      "inside function g\n",
      "inside function g\n",
      "inside function g\n",
      "inside function g\n",
      "inside function g\n",
      "inside function g\n",
      "inside function g\n",
      "inside function g\n",
      "inside function g\n",
      "inside function g\n",
      "inside function g\n",
      "inside function g\n",
      "inside function g\n",
      "inside function g\n",
      "inside function g\n",
      "inside function g\n",
      "inside function g\n",
      "inside function g\n",
      "inside function g\n",
      "inside function g\n",
      "inside function g\n",
      "inside function g\n",
      "inside function g\n",
      "inside function g\n",
      "inside function g\n",
      "inside function g\n",
      "inside function g\n",
      "inside function g\n",
      "inside function g\n",
      "inside function g\n",
      "inside function g\n",
      "inside function g\n",
      "inside function g\n",
      "inside function g\n",
      "inside function g\n",
      "inside function g\n",
      "inside function g\n",
      "inside function g\n",
      "inside function g\n",
      "inside function g\n",
      "inside function g\n",
      "inside function g\n",
      "inside function g\n",
      "inside function g\n",
      "inside function g\n",
      "inside function g\n",
      "inside function g\n",
      "inside function g\n",
      "inside function g\n",
      "inside function g\n",
      "inside function g\n",
      "inside function g\n",
      "inside function g\n",
      "inside function g\n",
      "inside function g\n",
      "inside function g\n",
      "inside function g\n",
      "inside function g\n",
      "inside function g\n",
      "inside function g\n",
      "inside function g\n",
      "inside function g\n",
      "inside function g\n",
      "inside function g\n",
      "inside function g\n",
      "inside function g\n",
      "inside function g\n",
      "inside function g\n",
      "inside function g\n",
      "inside function g\n",
      "inside function g\n",
      "inside function g\n",
      "inside function g\n",
      "inside function g\n",
      "inside function g\n",
      "inside function g\n",
      "inside function g\n",
      "inside function g\n",
      "inside function g\n",
      "inside function g\n",
      "inside function g\n",
      "inside function g\n",
      "inside function g\n",
      "inside function g\n",
      "inside function g\n",
      "inside function g\n",
      "inside function g\n",
      "inside function g\n",
      "inside function g\n",
      "inside function g\n",
      "inside function g\n",
      "inside function g\n",
      "inside function g\n",
      "inside function g\n",
      "inside function g\n",
      "inside function g\n",
      "inside function g\n",
      "inside function g\n",
      "inside function g\n",
      "inside function g\n",
      "inside function g\n",
      "inside function g\n",
      "inside function g\n",
      "inside function g\n",
      "inside function g\n",
      "inside function g\n",
      "inside function g\n",
      "inside function g\n",
      "inside function g\n",
      "inside function g\n",
      "inside function g\n",
      "inside function g\n",
      "inside function g\n",
      "inside function g\n",
      "inside function g\n",
      "inside function g\n",
      "inside function g\n",
      "inside function g\n",
      "inside function g\n",
      "inside function g\n",
      "inside function g\n",
      "inside function g\n",
      "inside function g\n",
      "inside function g\n",
      "inside function g\n",
      "inside function g\n",
      "inside function g\n",
      "inside function g\n",
      "inside function g\n",
      "inside function g\n",
      "inside function g\n",
      "inside function g\n",
      "inside function g\n",
      "inside function g\n",
      "inside function g\n",
      "inside function g\n",
      "inside function g\n",
      "inside function g\n",
      "inside function g\n",
      "inside function g\n",
      "inside function g\n",
      "inside function g\n",
      "inside function g\n",
      "inside function g\n",
      "inside function g\n",
      "inside function g\n",
      "inside function g\n",
      "inside function g\n",
      "inside function g\n",
      "inside function g\n",
      "inside function g\n",
      "inside function g\n",
      "inside function g\n",
      "inside function g\n",
      "inside function g\n",
      "inside function g\n",
      "inside function g\n",
      "inside function g\n",
      "inside function g\n",
      "inside function g\n",
      "inside function g\n",
      "inside function g\n",
      "inside function g\n",
      "inside function g\n",
      "inside function g\n",
      "inside function g\n",
      "inside function g\n",
      "inside function g\n",
      "inside function g\n",
      "inside function g\n",
      "inside function g\n",
      "inside function g\n",
      "inside function g\n",
      "inside function g\n",
      "inside function g\n",
      "inside function g\n",
      "inside function g\n",
      "inside function g\n",
      "inside function g\n",
      "inside function g\n",
      "inside function g\n",
      "inside function g\n",
      "inside function g\n",
      "inside function g\n",
      "inside function g\n",
      "inside function g\n",
      "inside function g\n",
      "inside function g\n",
      "inside function g\n",
      "inside function g\n",
      "inside function g\n",
      "inside function g\n",
      "inside function g\n",
      "inside function g\n",
      "inside function g\n",
      "inside function g\n",
      "inside function g\n",
      "inside function g\n",
      "inside function g\n",
      "inside function g\n",
      "inside function g\n",
      "inside function g\n",
      "inside function g\n",
      "inside function g\n",
      "inside function g\n",
      "inside function g\n",
      "inside function g\n",
      "inside function g\n",
      "inside function g\n",
      "inside function g\n",
      "inside function g\n",
      "inside function g\n",
      "inside function g\n",
      "inside function g\n",
      "inside function g\n",
      "inside function g\n",
      "inside function g\n",
      "inside function g\n",
      "inside function g\n",
      "inside function g\n",
      "inside function g\n",
      "inside function g\n",
      "inside function g\n",
      "inside function g\n",
      "inside function g\n",
      "inside function g\n",
      "inside function g\n",
      "inside function g\n",
      "inside function g\n",
      "inside function g\n",
      "inside function g\n",
      "inside function g\n",
      "inside function g\n",
      "inside function g\n",
      "inside function g\n",
      "inside function g\n",
      "inside function g\n",
      "inside function g\n",
      "inside function g\n",
      "inside function g\n",
      "inside function g\n",
      "inside function g\n",
      "inside function g\n",
      "inside function g\n",
      "inside function g\n",
      "inside function g\n",
      "inside function g\n",
      "inside function g\n",
      "inside function g\n",
      "inside function g\n",
      "inside function g\n",
      "inside function g\n",
      "inside function g\n",
      "inside function g\n",
      "inside function g\n",
      "inside function g\n",
      "inside function g\n",
      "inside function g\n",
      "inside function g\n",
      "inside function g\n",
      "inside function g\n",
      "inside function g\n",
      "inside function g\n",
      "inside function g\n",
      "inside function g\n",
      "inside function g\n",
      "inside function g\n",
      "inside function g\n",
      "inside function g\n",
      "inside function g\n",
      "inside function g\n",
      "inside function g\n",
      "inside function g\n",
      "inside function g\n",
      "inside function g\n",
      "inside function g\n",
      "inside function g\n",
      "inside function g\n",
      "inside function g\n",
      "inside function g\n",
      "inside function g\n",
      "inside function g\n",
      "inside function g\n",
      "inside function g\n",
      "inside function g\n",
      "inside function g\n",
      "inside function g\n",
      "inside function g\n",
      "inside function g\n",
      "inside function g\n",
      "inside function g\n",
      "inside function g\n",
      "inside function g\n",
      "inside function g\n",
      "inside function g\n",
      "inside function g\n",
      "inside function g\n",
      "inside function g\n",
      "inside function g\n",
      "inside function g\n",
      "inside function g\n",
      "inside function g\n",
      "inside function g\n",
      "inside function g\n",
      "inside function g\n",
      "inside function g\n",
      "inside function g\n",
      "inside function g\n",
      "inside function g\n",
      "inside function g\n",
      "inside function g\n",
      "inside function g\n",
      "inside function g\n",
      "inside function g\n",
      "inside function g\n",
      "inside function g\n",
      "inside function g\n",
      "inside function g\n",
      "inside function g\n",
      "inside function g\n",
      "inside function g\n",
      "inside function g\n",
      "inside function g\n",
      "inside function g\n",
      "inside function g\n",
      "inside function g\n",
      "inside function g\n",
      "inside function g\n",
      "inside function g\n",
      "inside function g\n",
      "inside function g\n",
      "inside function g\n",
      "inside function g\n",
      "inside function g\n",
      "inside function g\n",
      "inside function g\n",
      "inside function g\n",
      "inside function g\n",
      "inside function g\n",
      "inside function g\n",
      "inside function g\n",
      "inside function g\n",
      "inside function g\n",
      "inside function g\n",
      "inside function g\n",
      "inside function g\n",
      "inside function g\n",
      "inside function g\n",
      "inside function g\n",
      "inside function g\n",
      "inside function g\n",
      "inside function g\n",
      "inside function g\n",
      "inside function g\n",
      "inside function g\n",
      "inside function g\n",
      "inside function g\n",
      "inside function g\n",
      "inside function g\n",
      "inside function g\n",
      "inside function g\n",
      "inside function g\n",
      "inside function g\n",
      "inside function g\n",
      "inside function g\n",
      "inside function g\n",
      "inside function g\n",
      "inside function g\n",
      "inside function g\n",
      "inside function g\n",
      "inside function g\n",
      "inside function g\n",
      "inside function g\n",
      "inside function g\n",
      "inside function g\n",
      "inside function g\n",
      "inside function g\n",
      "inside function g\n",
      "inside function g\n",
      "inside function g\n",
      "inside function g\n",
      "inside function g\n",
      "inside function g\n",
      "inside function g\n",
      "inside function g\n",
      "inside function g\n",
      "inside function g\n",
      "inside function g\n",
      "inside function g\n",
      "inside function g\n",
      "inside function g\n",
      "inside function g\n",
      "inside function g\n",
      "inside function g\n",
      "inside function g\n",
      "inside function g\n",
      "inside function g\n",
      "inside function g\n",
      "inside function g\n",
      "inside function g\n",
      "inside function g\n",
      "inside function g\n",
      "inside function g\n",
      "inside function g\n",
      "inside function g\n",
      "inside function g\n",
      "inside function g\n",
      "inside function g\n",
      "inside function g\n",
      "inside function g\n",
      "inside function g\n",
      "inside function g\n",
      "inside function g\n",
      "inside function g\n",
      "inside function g\n",
      "inside function g\n",
      "inside function g\n",
      "inside function g\n",
      "inside function g\n",
      "inside function g\n",
      "inside function g\n",
      "inside function g\n",
      "inside function g\n",
      "inside function g\n",
      "inside function g\n",
      "inside function g\n",
      "inside function g\n",
      "inside function g\n",
      "inside function g\n",
      "inside function g\n",
      "inside function g\n",
      "inside function g\n",
      "inside function g\n",
      "inside function g\n",
      "inside function g\n",
      "inside function g\n",
      "inside function g\n",
      "inside function g\n",
      "inside function g\n",
      "inside function g\n",
      "inside function g\n",
      "inside function g\n",
      "inside function g\n",
      "inside function g\n",
      "inside function g\n",
      "inside function g\n",
      "inside function g\n",
      "inside function g\n",
      "inside function g\n",
      "inside function g\n",
      "inside function g\n",
      "inside function g\n",
      "inside function g\n",
      "inside function g\n",
      "inside function g\n",
      "inside function g\n",
      "inside function g\n",
      "inside function g\n",
      "inside function g\n",
      "inside function g\n",
      "inside function g\n",
      "inside function g\n",
      "inside function g\n",
      "inside function g\n",
      "inside function g\n",
      "inside function g\n",
      "inside function g\n",
      "inside function g\n",
      "inside function g\n",
      "inside function g\n",
      "inside function g\n",
      "inside function g\n",
      "inside function g\n",
      "inside function g\n",
      "inside function g\n",
      "inside function g\n",
      "inside function g\n",
      "inside function g\n",
      "inside function g\n",
      "inside function g\n",
      "inside function g\n",
      "inside function g\n",
      "inside function g\n",
      "inside function g\n",
      "inside function g\n",
      "inside function g\n",
      "inside function g\n",
      "inside function g\n",
      "inside function g\n",
      "inside function g\n",
      "inside function g\n",
      "inside function g\n",
      "inside function g\n",
      "inside function g\n",
      "inside function g\n",
      "inside function g\n",
      "inside function g\n",
      "inside function g\n",
      "inside function g\n",
      "inside function g\n",
      "inside function g\n",
      "inside function g\n",
      "inside function g\n",
      "inside function g\n",
      "inside function g\n",
      "inside function g\n",
      "inside function g\n",
      "inside function g\n",
      "inside function g\n",
      "inside function g\n",
      "inside function g\n",
      "inside function g\n",
      "inside function g\n",
      "inside function g\n",
      "inside function g\n",
      "inside function g\n",
      "inside function g\n",
      "inside function g\n",
      "inside function g\n",
      "inside function g\n",
      "inside function g\n",
      "inside function g\n",
      "inside function g\n",
      "inside function g\n",
      "inside function g\n",
      "inside function g\n",
      "inside function g\n",
      "inside function g\n",
      "inside function g\n",
      "inside function g\n",
      "inside function g\n",
      "inside function g\n",
      "inside function g\n",
      "inside function g\n",
      "inside function g\n",
      "inside function g\n",
      "inside function g\n",
      "inside function g\n",
      "inside function g\n",
      "inside function g\n",
      "inside function g\n",
      "inside function g\n",
      "inside function g\n",
      "inside function g\n",
      "inside function g\n",
      "inside function g\n",
      "inside function g\n",
      "inside function g\n",
      "inside function g\n",
      "inside function g\n",
      "inside function g\n",
      "inside function g\n",
      "inside function g\n",
      "inside function g\n",
      "inside function g\n",
      "inside function g\n",
      "inside function g\n",
      "inside function g\n",
      "inside function g\n",
      "inside function g\n",
      "inside function g\n",
      "inside function g\n",
      "inside function g\n",
      "inside function g\n",
      "inside function g\n",
      "inside function g\n",
      "inside function g\n",
      "inside function g\n",
      "inside function g\n",
      "inside function g\n",
      "inside function g\n",
      "inside function g\n",
      "inside function g\n",
      "inside function g\n",
      "inside function g\n",
      "inside function g\n",
      "inside function g\n",
      "inside function g\n",
      "inside function g\n",
      "inside function g\n",
      "inside function g\n",
      "inside function g\n",
      "inside function g\n",
      "inside function g\n",
      "inside function g\n",
      "inside function g\n",
      "inside function g\n",
      "inside function g\n",
      "inside function g\n",
      "inside function g\n",
      "inside function g\n",
      "inside function g\n",
      "inside function g\n",
      "inside function g\n",
      "inside function g\n",
      "inside function g\n",
      "inside function g\n",
      "inside function g\n",
      "inside function g\n",
      "inside function g\n",
      "inside function g\n",
      "inside function g\n",
      "inside function g\n",
      "inside function g\n",
      "inside function g\n",
      "inside function g\n",
      "inside function g\n",
      "inside function g\n",
      "inside function g\n",
      "inside function g\n",
      "inside function g\n",
      "inside function g\n",
      "inside function g\n",
      "inside function g\n",
      "inside function g\n",
      "inside function g\n",
      "inside function g\n",
      "inside function g\n",
      "inside function g\n",
      "inside function g\n",
      "inside function g\n",
      "inside function g\n",
      "inside function g\n",
      "inside function g\n",
      "inside function g\n",
      "inside function g\n",
      "inside function g\n",
      "inside function g\n",
      "inside function g\n",
      "inside function g\n",
      "inside function g\n",
      "inside function g\n",
      "inside function g\n",
      "inside function g\n",
      "inside function g\n",
      "inside function g\n",
      "inside function g\n",
      "inside function g\n",
      "inside function g\n",
      "inside function g\n",
      "inside function g\n",
      "inside function g\n",
      "inside function g\n",
      "inside function g\n",
      "inside function g\n",
      "inside function g\n",
      "inside function g\n",
      "inside function g\n",
      "inside function g\n",
      "inside function g\n",
      "inside function g\n",
      "inside function g\n",
      "inside function g\n",
      "inside function g\n",
      "inside function g\n",
      "inside function g\n",
      "inside function g\n",
      "inside function g\n",
      "inside function g\n",
      "inside function g\n",
      "inside function g\n",
      "inside function g\n",
      "inside function g\n",
      "inside function g\n",
      "inside function g\n",
      "inside function g\n",
      "inside function g\n",
      "inside function g\n",
      "inside function g\n",
      "inside function g\n",
      "inside function g\n",
      "inside function g\n",
      "inside function g\n",
      "inside function g\n",
      "inside function g\n",
      "inside function g\n",
      "inside function g\n",
      "inside function g\n",
      "inside function g\n",
      "inside function g\n",
      "inside function g\n",
      "inside function g\n",
      "inside function g\n",
      "inside function g\n",
      "inside function g\n",
      "inside function g\n",
      "inside function g\n",
      "inside function g\n",
      "inside function g\n",
      "inside function g\n",
      "inside function g\n",
      "inside function g\n",
      "inside function g\n",
      "inside function g\n",
      "inside function g\n",
      "inside function g\n",
      "inside function g\n",
      "inside function g\n",
      "inside function g\n",
      "inside function g\n",
      "inside function g\n",
      "inside function g\n",
      "inside function g\n",
      "inside function g\n",
      "inside function g\n",
      "inside function g\n",
      "inside function g\n",
      "inside function g\n",
      "inside function g\n",
      "inside function g\n",
      "inside function g\n",
      "inside function g\n",
      "inside function g\n",
      "inside function g\n",
      "inside function g\n",
      "inside function g\n",
      "inside function g\n",
      "inside function g\n",
      "inside function g\n",
      "inside function g\n",
      "inside function g\n",
      "inside function g\n",
      "inside function g\n",
      "inside function g\n",
      "inside function g\n",
      "inside function g\n",
      "inside function g\n",
      "inside function g\n",
      "inside function g\n",
      "inside function g\n",
      "inside function g\n",
      "inside function g\n",
      "inside function g\n",
      "inside function g\n",
      "inside function g\n",
      "inside function g\n",
      "inside function g\n",
      "inside function g\n",
      "inside function g\n",
      "inside function g\n",
      "inside function g\n",
      "inside function g\n",
      "inside function g\n",
      "inside function g\n",
      "inside function g\n",
      "inside function g\n",
      "inside function g\n",
      "inside function g\n",
      "inside function g\n",
      "inside function g\n",
      "inside function g\n",
      "inside function g\n",
      "inside function g\n",
      "inside function g\n",
      "inside function g\n",
      "inside function g\n",
      "inside function g\n",
      "inside function g\n",
      "inside function g\n",
      "inside function g\n",
      "inside function g\n",
      "inside function g\n",
      "inside function g\n",
      "inside function g\n",
      "inside function g\n",
      "inside function g\n",
      "inside function g\n",
      "inside function g\n",
      "inside function g\n",
      "inside function g\n",
      "inside function g\n",
      "inside function g\n",
      "inside function g\n",
      "inside function g\n",
      "inside function g\n",
      "inside function g\n",
      "inside function g\n",
      "inside function g\n",
      "inside function g\n",
      "inside function g\n",
      "inside function g\n",
      "inside function g\n",
      "inside function g\n",
      "inside function g\n",
      "inside function g\n",
      "inside function g\n",
      "inside function g\n",
      "inside function g\n",
      "inside function g\n",
      "inside function g\n",
      "inside function g\n",
      "inside function g\n",
      "inside function g\n",
      "inside function g\n",
      "inside function g\n",
      "inside function g\n",
      "inside function g\n",
      "inside function g\n",
      "inside function g\n",
      "inside function g\n",
      "inside function g\n",
      "inside function g\n",
      "inside function g\n",
      "inside function g\n",
      "inside function g\n",
      "inside function g\n",
      "inside function g\n",
      "inside function g\n",
      "inside function g\n",
      "inside function g\n",
      "inside function g\n",
      "inside function g\n",
      "inside function g\n",
      "inside function g\n",
      "inside function g\n",
      "inside function g\n",
      "inside function g\n",
      "inside function g\n",
      "inside function g\n",
      "inside function g\n",
      "inside function g\n",
      "inside function g\n",
      "inside function g\n",
      "inside function g\n",
      "inside function g\n",
      "inside function g\n",
      "inside function g\n",
      "inside function g\n",
      "inside function g\n",
      "inside function g\n",
      "inside function g\n",
      "inside function g\n",
      "inside function g\n",
      "inside function g\n",
      "inside function g\n",
      "inside function g\n",
      "inside function g\n",
      "inside function g\n",
      "inside function g\n",
      "inside function g\n",
      "inside function g\n",
      "inside function g\n",
      "inside function g\n",
      "inside function g\n",
      "inside function g\n",
      "inside function g\n",
      "inside function g\n",
      "inside function g\n",
      "inside function g\n",
      "inside function g\n",
      "inside function g\n",
      "inside function g\n",
      "inside function g\n",
      "inside function g\n",
      "inside function g\n",
      "inside function g\n",
      "inside function g\n",
      "inside function g\n",
      "inside function g\n",
      "inside function g\n",
      "inside function g\n",
      "inside function g\n",
      "inside function g\n",
      "inside function g\n",
      "inside function g\n",
      "inside function g\n",
      "inside function g\n",
      "inside function g\n",
      "inside function g\n",
      "inside function g\n",
      "inside function g\n",
      "inside function g\n",
      "inside function g\n",
      "inside function g\n",
      "inside function g\n",
      "inside function g\n",
      "inside function g\n",
      "inside function g\n",
      "inside function g\n",
      "inside function g\n",
      "inside function g\n",
      "inside function g\n",
      "inside function g\n",
      "inside function g\n",
      "inside function g\n",
      "inside function g\n",
      "inside function g\n",
      "inside function g\n",
      "inside function g\n",
      "inside function g\n",
      "inside function g\n",
      "inside function g\n",
      "inside function g\n",
      "inside function g\n",
      "inside function g\n",
      "inside function g\n",
      "inside function g\n",
      "inside function g\n",
      "inside function g\n",
      "inside function g\n",
      "inside function g\n",
      "inside function g\n",
      "inside function g\n",
      "inside function g\n",
      "inside function g\n",
      "inside function g\n",
      "inside function g\n",
      "inside function g\n",
      "inside function g\n",
      "inside function g\n",
      "inside function g\n",
      "inside function g\n",
      "inside function g\n",
      "inside function g\n",
      "inside function g\n",
      "inside function g\n",
      "inside function g\n",
      "inside function g\n",
      "inside function g\n",
      "inside function g\n",
      "inside function g\n",
      "inside function g\n",
      "inside function g\n",
      "inside function g\n",
      "inside function g\n",
      "inside function g\n",
      "inside function g\n",
      "inside function g\n",
      "inside function g\n",
      "inside function g\n",
      "inside function g\n",
      "inside function g\n",
      "inside function g\n",
      "inside function g\n",
      "inside function g\n",
      "inside function g\n",
      "inside function g\n",
      "inside function g\n",
      "inside function g\n",
      "inside function g\n",
      "inside function g\n",
      "inside function g\n",
      "inside function g\n",
      "inside function g\n",
      "inside function g\n",
      "inside function g\n",
      "inside function g\n",
      "inside function g\n",
      "inside function g\n",
      "inside function g\n",
      "inside function g\n",
      "inside function g\n",
      "inside function g\n",
      "inside function g\n",
      "inside function g\n",
      "inside function g\n",
      "inside function g\n",
      "inside function g\n",
      "inside function g\n",
      "inside function g\n",
      "inside function g\n",
      "inside function g\n",
      "inside function g\n",
      "inside function g\n",
      "inside function g\n",
      "inside function g\n",
      "inside function g\n",
      "inside function g\n",
      "inside function g\n",
      "inside function g\n",
      "inside function g\n",
      "inside function g\n",
      "inside function g\n",
      "inside function g\n",
      "inside function g\n",
      "inside function g\n",
      "inside function g\n",
      "inside function g\n",
      "inside function g\n",
      "inside function g\n",
      "inside function g\n",
      "inside function g\n",
      "inside function g\n",
      "inside function g\n",
      "inside function g\n",
      "inside function g\n",
      "inside function g\n",
      "inside function g\n",
      "inside function g\n",
      "inside function g\n",
      "inside function g\n",
      "inside function g\n",
      "inside function g\n",
      "inside function g\n",
      "inside function g\n",
      "inside function g\n",
      "inside function g\n",
      "inside function g\n",
      "inside function g\n",
      "inside function g\n",
      "inside function g\n",
      "inside function g\n",
      "inside function g\n",
      "inside function g\n",
      "inside function g\n",
      "inside function g\n",
      "inside function g\n",
      "inside function g\n",
      "inside function g\n",
      "inside function g\n",
      "inside function g\n",
      "inside function g\n",
      "inside function g\n",
      "inside function g\n",
      "inside function g\n",
      "inside function g\n",
      "inside function g\n",
      "inside function g\n",
      "inside function g\n",
      "inside function g\n",
      "inside function g\n",
      "inside function g\n",
      "inside function g\n",
      "inside function g\n",
      "inside function g\n",
      "inside function g\n",
      "inside function g\n",
      "inside function g\n",
      "inside function g\n",
      "inside function g\n",
      "inside function g\n",
      "inside function g\n",
      "inside function g\n",
      "inside function g\n",
      "inside function g\n",
      "inside function g\n",
      "inside function g\n",
      "inside function g\n",
      "inside function g\n",
      "inside function g\n",
      "inside function g\n",
      "inside function g"
     ]
    },
    {
     "ename": "RecursionError",
     "evalue": "maximum recursion depth exceeded",
     "output_type": "error",
     "traceback": [
      "\u001b[31m---------------------------------------------------------------------------\u001b[39m",
      "\u001b[31mRecursionError\u001b[39m                            Traceback (most recent call last)",
      "\u001b[36mCell\u001b[39m\u001b[36m \u001b[39m\u001b[32mIn[31]\u001b[39m\u001b[32m, line 8\u001b[39m\n\u001b[32m      5\u001b[39m     g()\n\u001b[32m      6\u001b[39m     \u001b[38;5;28mprint\u001b[39m(\u001b[33m'\u001b[39m\u001b[33minside function f\u001b[39m\u001b[33m'\u001b[39m)\n\u001b[32m----> \u001b[39m\u001b[32m8\u001b[39m \u001b[43mf\u001b[49m\u001b[43m(\u001b[49m\u001b[43m)\u001b[49m\n",
      "\u001b[36mCell\u001b[39m\u001b[36m \u001b[39m\u001b[32mIn[31]\u001b[39m\u001b[32m, line 5\u001b[39m, in \u001b[36mf\u001b[39m\u001b[34m()\u001b[39m\n\u001b[32m      3\u001b[39m     \u001b[38;5;28mprint\u001b[39m(\u001b[33m'\u001b[39m\u001b[33minside function g\u001b[39m\u001b[33m'\u001b[39m)\n\u001b[32m      4\u001b[39m     f()\n\u001b[32m----> \u001b[39m\u001b[32m5\u001b[39m \u001b[43mg\u001b[49m\u001b[43m(\u001b[49m\u001b[43m)\u001b[49m\n\u001b[32m      6\u001b[39m \u001b[38;5;28mprint\u001b[39m(\u001b[33m'\u001b[39m\u001b[33minside function f\u001b[39m\u001b[33m'\u001b[39m)\n",
      "\u001b[36mCell\u001b[39m\u001b[36m \u001b[39m\u001b[32mIn[31]\u001b[39m\u001b[32m, line 4\u001b[39m, in \u001b[36mf.<locals>.g\u001b[39m\u001b[34m()\u001b[39m\n\u001b[32m      2\u001b[39m \u001b[38;5;28;01mdef\u001b[39;00m\u001b[38;5;250m \u001b[39m\u001b[34mg\u001b[39m():\n\u001b[32m      3\u001b[39m     \u001b[38;5;28mprint\u001b[39m(\u001b[33m'\u001b[39m\u001b[33minside function g\u001b[39m\u001b[33m'\u001b[39m)\n\u001b[32m----> \u001b[39m\u001b[32m4\u001b[39m     \u001b[43mf\u001b[49m\u001b[43m(\u001b[49m\u001b[43m)\u001b[49m\n",
      "\u001b[36mCell\u001b[39m\u001b[36m \u001b[39m\u001b[32mIn[31]\u001b[39m\u001b[32m, line 5\u001b[39m, in \u001b[36mf\u001b[39m\u001b[34m()\u001b[39m\n\u001b[32m      3\u001b[39m     \u001b[38;5;28mprint\u001b[39m(\u001b[33m'\u001b[39m\u001b[33minside function g\u001b[39m\u001b[33m'\u001b[39m)\n\u001b[32m      4\u001b[39m     f()\n\u001b[32m----> \u001b[39m\u001b[32m5\u001b[39m \u001b[43mg\u001b[49m\u001b[43m(\u001b[49m\u001b[43m)\u001b[49m\n\u001b[32m      6\u001b[39m \u001b[38;5;28mprint\u001b[39m(\u001b[33m'\u001b[39m\u001b[33minside function f\u001b[39m\u001b[33m'\u001b[39m)\n",
      "\u001b[36mCell\u001b[39m\u001b[36m \u001b[39m\u001b[32mIn[31]\u001b[39m\u001b[32m, line 4\u001b[39m, in \u001b[36mf.<locals>.g\u001b[39m\u001b[34m()\u001b[39m\n\u001b[32m      2\u001b[39m \u001b[38;5;28;01mdef\u001b[39;00m\u001b[38;5;250m \u001b[39m\u001b[34mg\u001b[39m():\n\u001b[32m      3\u001b[39m     \u001b[38;5;28mprint\u001b[39m(\u001b[33m'\u001b[39m\u001b[33minside function g\u001b[39m\u001b[33m'\u001b[39m)\n\u001b[32m----> \u001b[39m\u001b[32m4\u001b[39m     \u001b[43mf\u001b[49m\u001b[43m(\u001b[49m\u001b[43m)\u001b[49m\n",
      "    \u001b[31m[... skipping similar frames: f at line 5 (1484 times), f.<locals>.g at line 4 (1483 times)]\u001b[39m\n",
      "\u001b[36mCell\u001b[39m\u001b[36m \u001b[39m\u001b[32mIn[31]\u001b[39m\u001b[32m, line 4\u001b[39m, in \u001b[36mf.<locals>.g\u001b[39m\u001b[34m()\u001b[39m\n\u001b[32m      2\u001b[39m \u001b[38;5;28;01mdef\u001b[39;00m\u001b[38;5;250m \u001b[39m\u001b[34mg\u001b[39m():\n\u001b[32m      3\u001b[39m     \u001b[38;5;28mprint\u001b[39m(\u001b[33m'\u001b[39m\u001b[33minside function g\u001b[39m\u001b[33m'\u001b[39m)\n\u001b[32m----> \u001b[39m\u001b[32m4\u001b[39m     \u001b[43mf\u001b[49m\u001b[43m(\u001b[49m\u001b[43m)\u001b[49m\n",
      "\u001b[36mCell\u001b[39m\u001b[36m \u001b[39m\u001b[32mIn[31]\u001b[39m\u001b[32m, line 5\u001b[39m, in \u001b[36mf\u001b[39m\u001b[34m()\u001b[39m\n\u001b[32m      3\u001b[39m     \u001b[38;5;28mprint\u001b[39m(\u001b[33m'\u001b[39m\u001b[33minside function g\u001b[39m\u001b[33m'\u001b[39m)\n\u001b[32m      4\u001b[39m     f()\n\u001b[32m----> \u001b[39m\u001b[32m5\u001b[39m \u001b[43mg\u001b[49m\u001b[43m(\u001b[49m\u001b[43m)\u001b[49m\n\u001b[32m      6\u001b[39m \u001b[38;5;28mprint\u001b[39m(\u001b[33m'\u001b[39m\u001b[33minside function f\u001b[39m\u001b[33m'\u001b[39m)\n",
      "\u001b[36mCell\u001b[39m\u001b[36m \u001b[39m\u001b[32mIn[31]\u001b[39m\u001b[32m, line 3\u001b[39m, in \u001b[36mf.<locals>.g\u001b[39m\u001b[34m()\u001b[39m\n\u001b[32m      2\u001b[39m \u001b[38;5;28;01mdef\u001b[39;00m\u001b[38;5;250m \u001b[39m\u001b[34mg\u001b[39m():\n\u001b[32m----> \u001b[39m\u001b[32m3\u001b[39m     \u001b[38;5;28;43mprint\u001b[39;49m\u001b[43m(\u001b[49m\u001b[33;43m'\u001b[39;49m\u001b[33;43minside function g\u001b[39;49m\u001b[33;43m'\u001b[39;49m\u001b[43m)\u001b[49m\n\u001b[32m      4\u001b[39m     f()\n",
      "\u001b[36mFile \u001b[39m\u001b[32m~\\AppData\\Roaming\\Python\\Python313\\site-packages\\IPython\\core\\interactiveshell.py:3040\u001b[39m, in \u001b[36mInteractiveShell._tee.<locals>.write\u001b[39m\u001b[34m(data, *args, **kwargs)\u001b[39m\n\u001b[32m   3038\u001b[39m \u001b[38;5;28;01mif\u001b[39;00m \u001b[38;5;129;01mnot\u001b[39;00m data:\n\u001b[32m   3039\u001b[39m     \u001b[38;5;28;01mreturn\u001b[39;00m result\n\u001b[32m-> \u001b[39m\u001b[32m3040\u001b[39m execution_count = \u001b[38;5;28;43mself\u001b[39;49m\u001b[43m.\u001b[49m\u001b[43mexecution_count\u001b[49m\n\u001b[32m   3041\u001b[39m output_stream = \u001b[38;5;28;01mNone\u001b[39;00m\n\u001b[32m   3042\u001b[39m outputs_by_counter = \u001b[38;5;28mself\u001b[39m.history_manager.outputs\n",
      "\u001b[36mFile \u001b[39m\u001b[32m~\\AppData\\Roaming\\Python\\Python313\\site-packages\\traitlets\\traitlets.py:687\u001b[39m, in \u001b[36mTraitType.__get__\u001b[39m\u001b[34m(self, obj, cls)\u001b[39m\n\u001b[32m    685\u001b[39m     \u001b[38;5;28;01mreturn\u001b[39;00m \u001b[38;5;28mself\u001b[39m\n\u001b[32m    686\u001b[39m \u001b[38;5;28;01melse\u001b[39;00m:\n\u001b[32m--> \u001b[39m\u001b[32m687\u001b[39m     \u001b[38;5;28;01mreturn\u001b[39;00m t.cast(G, \u001b[38;5;28;43mself\u001b[39;49m\u001b[43m.\u001b[49m\u001b[43mget\u001b[49m\u001b[43m(\u001b[49m\u001b[43mobj\u001b[49m\u001b[43m,\u001b[49m\u001b[43m \u001b[49m\u001b[38;5;28;43mcls\u001b[39;49m\u001b[43m)\u001b[49m)\n",
      "\u001b[36mFile \u001b[39m\u001b[32m~\\AppData\\Roaming\\Python\\Python313\\site-packages\\traitlets\\traitlets.py:666\u001b[39m, in \u001b[36mTraitType.get\u001b[39m\u001b[34m(self, obj, cls)\u001b[39m\n\u001b[32m    664\u001b[39m     \u001b[38;5;28;01mraise\u001b[39;00m TraitError(\u001b[33m\"\u001b[39m\u001b[33mUnexpected error in TraitType: default value not set properly\u001b[39m\u001b[33m\"\u001b[39m) \u001b[38;5;28;01mfrom\u001b[39;00m\u001b[38;5;250m \u001b[39m\u001b[34;01me\u001b[39;00m\n\u001b[32m    665\u001b[39m \u001b[38;5;28;01melse\u001b[39;00m:\n\u001b[32m--> \u001b[39m\u001b[32m666\u001b[39m     \u001b[38;5;28;01mreturn\u001b[39;00m \u001b[43mt\u001b[49m\u001b[43m.\u001b[49m\u001b[43mcast\u001b[49m\u001b[43m(\u001b[49m\u001b[43mG\u001b[49m\u001b[43m,\u001b[49m\u001b[43m \u001b[49m\u001b[43mvalue\u001b[49m\u001b[43m)\u001b[49m\n",
      "\u001b[31mRecursionError\u001b[39m: maximum recursion depth exceeded"
     ]
    }
   ],
   "source": [
    "def f():\n",
    "    def g():\n",
    "        print('inside function g')\n",
    "        f()\n",
    "    g()\n",
    "    print('inside function f')\n",
    "\n",
    "f()"
   ]
  },
  {
   "cell_type": "code",
   "execution_count": null,
   "id": "c5853d0d",
   "metadata": {},
   "outputs": [
    {
     "name": "stdout",
     "output_type": "stream",
     "text": [
      "in g(x =) 4\n"
     ]
    },
    {
     "data": {
      "text/plain": [
       "4"
      ]
     },
     "execution_count": 1,
     "metadata": {},
     "output_type": "execute_result"
    }
   ],
   "source": [
    "# question\n",
    "def g(x):\n",
    "    def h():\n",
    "        x = 'abc'\n",
    "    x = x+1\n",
    "    print('in g(x =)',x)\n",
    "    h()\n",
    "    return x\n",
    "\n",
    "x = 3\n",
    "z = g(x)"
   ]
  },
  {
   "cell_type": "code",
   "execution_count": null,
   "id": "e2dabe9b",
   "metadata": {},
   "outputs": [],
   "source": [
    "# use python for visualize code its easy to understand the flow of code"
   ]
  },
  {
   "cell_type": "code",
   "execution_count": null,
   "id": "45d37319",
   "metadata": {},
   "outputs": [
    {
     "name": "stdout",
     "output_type": "stream",
     "text": [
      "in g(x):x =  4\n",
      "inh(x):x=  5\n",
      "inmainprogramscope:x= 4\n"
     ]
    }
   ],
   "source": [
    "def g(x):\n",
    "    def h(x):\n",
    "        x =x+1\n",
    "        print(\"inh(x):x= \",x)\n",
    "    x =x +1\n",
    "    print('in g(x):x = ',x)\n",
    "    h(x)\n",
    "    return x\n",
    "x = 3\n",
    "z =g(x)\n",
    "print('inmainprogramscope:x=',x)"
   ]
  },
  {
   "cell_type": "markdown",
   "id": "2e30b958",
   "metadata": {},
   "source": [
    "## Functions are 1st class citizens"
   ]
  },
  {
   "cell_type": "markdown",
   "id": "57b9889e",
   "metadata": {},
   "source": [
    "- 1st class citizens are all data type int, float, List,sets ..etc.\n",
    "- but in python function are also 1st class citizens so this mean functions are also data type.\n",
    "- so similary you can add update value in int,list . you can perform same operation on function\n",
    "- what integer can do function can do same thing's."
   ]
  },
  {
   "cell_type": "code",
   "execution_count": 52,
   "id": "237d08b6",
   "metadata": {},
   "outputs": [
    {
     "name": "stdout",
     "output_type": "stream",
     "text": [
      "<class 'function'>\n",
      "<class 'int'>\n"
     ]
    }
   ],
   "source": [
    "# type & id\n",
    "def square(num):\n",
    "    return num**2\n",
    "\n",
    "print(type(square))\n",
    "\n",
    "a = 2\n",
    "print(type(a))"
   ]
  },
  {
   "cell_type": "code",
   "execution_count": null,
   "id": "a5e828ad",
   "metadata": {},
   "outputs": [
    {
     "data": {
      "text/plain": [
       "2195265461824"
      ]
     },
     "execution_count": 41,
     "metadata": {},
     "output_type": "execute_result"
    }
   ],
   "source": [
    "# memory address of function\n",
    "id(square)"
   ]
  },
  {
   "cell_type": "code",
   "execution_count": null,
   "id": "d945c37b",
   "metadata": {},
   "outputs": [
    {
     "data": {
      "text/plain": [
       "140720115295176"
      ]
     },
     "execution_count": 42,
     "metadata": {},
     "output_type": "execute_result"
    }
   ],
   "source": [
    "# memory address of int\n",
    "id(a)"
   ]
  },
  {
   "cell_type": "code",
   "execution_count": null,
   "id": "bedb2a1d",
   "metadata": {},
   "outputs": [
    {
     "name": "stdout",
     "output_type": "stream",
     "text": [
      "2195265461824\n"
     ]
    },
    {
     "data": {
      "text/plain": [
       "9"
      ]
     },
     "execution_count": 44,
     "metadata": {},
     "output_type": "execute_result"
    }
   ],
   "source": [
    "# reassign\n",
    "x = square\n",
    "print(id(x)) #stored address of square in x\n",
    "\n",
    "x(3) # now x became function"
   ]
  },
  {
   "cell_type": "code",
   "execution_count": 45,
   "id": "4bac0787",
   "metadata": {},
   "outputs": [
    {
     "data": {
      "text/plain": [
       "2"
      ]
     },
     "execution_count": 45,
     "metadata": {},
     "output_type": "execute_result"
    }
   ],
   "source": [
    "# its same what we learn above\n",
    "a = 2\n",
    "b = a\n",
    "b"
   ]
  },
  {
   "cell_type": "code",
   "execution_count": 50,
   "id": "550636d2",
   "metadata": {},
   "outputs": [],
   "source": [
    "# deleting a function\n",
    "del square"
   ]
  },
  {
   "cell_type": "code",
   "execution_count": 51,
   "id": "84cd3c8e",
   "metadata": {},
   "outputs": [
    {
     "ename": "NameError",
     "evalue": "name 'square' is not defined",
     "output_type": "error",
     "traceback": [
      "\u001b[31m---------------------------------------------------------------------------\u001b[39m",
      "\u001b[31mNameError\u001b[39m                                 Traceback (most recent call last)",
      "\u001b[36mCell\u001b[39m\u001b[36m \u001b[39m\u001b[32mIn[51]\u001b[39m\u001b[32m, line 1\u001b[39m\n\u001b[32m----> \u001b[39m\u001b[32m1\u001b[39m \u001b[43msquare\u001b[49m(\u001b[32m3\u001b[39m)\n",
      "\u001b[31mNameError\u001b[39m: name 'square' is not defined"
     ]
    }
   ],
   "source": [
    "square(3)"
   ]
  },
  {
   "cell_type": "code",
   "execution_count": 53,
   "id": "dfb1cbbd",
   "metadata": {},
   "outputs": [
    {
     "data": {
      "text/plain": [
       "[1, 2, 3, 4, <function __main__.square(num)>]"
      ]
     },
     "execution_count": 53,
     "metadata": {},
     "output_type": "execute_result"
    }
   ],
   "source": [
    "# storing\n",
    "L = [1,2,3,4,square] #we are storing square function in list\n",
    "L"
   ]
  },
  {
   "cell_type": "code",
   "execution_count": 54,
   "id": "82bdc431",
   "metadata": {},
   "outputs": [
    {
     "data": {
      "text/plain": [
       "<function __main__.square(num)>"
      ]
     },
     "execution_count": 54,
     "metadata": {},
     "output_type": "execute_result"
    }
   ],
   "source": [
    "L[-1]"
   ]
  },
  {
   "cell_type": "code",
   "execution_count": 55,
   "id": "948a7663",
   "metadata": {},
   "outputs": [
    {
     "data": {
      "text/plain": [
       "4"
      ]
     },
     "execution_count": 55,
     "metadata": {},
     "output_type": "execute_result"
    }
   ],
   "source": [
    "L[-1](2) # square(2)"
   ]
  },
  {
   "cell_type": "markdown",
   "id": "89d9a6fe",
   "metadata": {},
   "source": [
    "<hr>\n",
    "● function are immutable\n",
    "<hr>"
   ]
  },
  {
   "cell_type": "code",
   "execution_count": 6,
   "id": "2dc72c49",
   "metadata": {},
   "outputs": [
    {
     "name": "stdout",
     "output_type": "stream",
     "text": [
      "7\n"
     ]
    }
   ],
   "source": [
    "# returning a function\n",
    "def f():\n",
    "    def x(a,b):\n",
    "        return a+b\n",
    "    return x\n",
    "\n",
    "val = f()(3,4)  #x(3,4)\n",
    "print(val)"
   ]
  },
  {
   "cell_type": "code",
   "execution_count": null,
   "id": "880886b1",
   "metadata": {},
   "outputs": [
    {
     "name": "stdout",
     "output_type": "stream",
     "text": [
      "inside func_c\n",
      "inside func_a\n",
      "None\n"
     ]
    }
   ],
   "source": [
    "# function as argument\n",
    "def func_a():\n",
    "   print('inside func_a')\n",
    "\n",
    "def func_b(z):\n",
    "    print('inside func_c')\n",
    "    return z()\n",
    "\n",
    "print(func_b(func_a)) #function as argument eg.func_b(1)"
   ]
  },
  {
   "cell_type": "markdown",
   "id": "d04313ab",
   "metadata": {},
   "source": [
    "## Benefits of using a Function\n",
    "- Code Modularity\n",
    "- Code Readibility\n",
    "- Code Reusability"
   ]
  },
  {
   "cell_type": "markdown",
   "id": "ecd36946",
   "metadata": {},
   "source": [
    "## Lambda Function"
   ]
  },
  {
   "cell_type": "markdown",
   "id": "5d523ffe",
   "metadata": {},
   "source": [
    "A lambda function is a small anonymous function.\n",
    "\n",
    "A lambda function can take any number of arguments, but can only have one expression."
   ]
  },
  {
   "attachments": {
    "download - 2025-07-19T215229.090.png": {
     "image/png": "[encoded data removed]"
    }
   },
   "cell_type": "markdown",
   "id": "d8983d43",
   "metadata": {},
   "source": [
    "![download - 2025-07-19T215229.090.png](<attachment:download - 2025-07-19T215229.090.png>)"
   ]
  },
  {
   "cell_type": "code",
   "execution_count": null,
   "id": "16f2bc63",
   "metadata": {},
   "outputs": [
    {
     "data": {
      "text/plain": [
       "<function __main__.<lambda>(x)>"
      ]
     },
     "execution_count": 2,
     "metadata": {},
     "output_type": "execute_result"
    }
   ],
   "source": [
    "# x -> input\n",
    "# x**2 -> expression\n",
    "lambda x:x**2"
   ]
  },
  {
   "cell_type": "code",
   "execution_count": null,
   "id": "32e0c58f",
   "metadata": {},
   "outputs": [
    {
     "data": {
      "text/plain": [
       "4"
      ]
     },
     "execution_count": 1,
     "metadata": {},
     "output_type": "execute_result"
    }
   ],
   "source": [
    "# x -> x^2\n",
    "# one line code to create function\n",
    "\n",
    "a =lambda x:x**2\n",
    "a(2)"
   ]
  },
  {
   "cell_type": "code",
   "execution_count": 3,
   "id": "2bf3470d",
   "metadata": {},
   "outputs": [
    {
     "data": {
      "text/plain": [
       "6"
      ]
     },
     "execution_count": 3,
     "metadata": {},
     "output_type": "execute_result"
    }
   ],
   "source": [
    "# x,y -> x+y\n",
    "b = lambda x,y:x+y\n",
    "b(2,4)"
   ]
  },
  {
   "cell_type": "markdown",
   "id": "9d52708b",
   "metadata": {},
   "source": [
    "### Diff between lambda vs Normal Function\n",
    " - Noname\n",
    " - lambda has no return value(infact,returns a function)\n",
    " - lambda is written in 1 line\n",
    " - not reusable"
   ]
  },
  {
   "cell_type": "markdown",
   "id": "35698f17",
   "metadata": {},
   "source": [
    "### Then why use lambda functions? <br>\n",
    "<b>- They are used with HOF"
   ]
  },
  {
   "cell_type": "code",
   "execution_count": 4,
   "id": "c477a578",
   "metadata": {},
   "outputs": [
    {
     "data": {
      "text/plain": [
       "False"
      ]
     },
     "execution_count": 4,
     "metadata": {},
     "output_type": "execute_result"
    }
   ],
   "source": [
    "a = lambda s:'a' in s\n",
    "a('hello')"
   ]
  },
  {
   "cell_type": "code",
   "execution_count": 5,
   "id": "7e395ccd",
   "metadata": {},
   "outputs": [
    {
     "data": {
      "text/plain": [
       "'odd'"
      ]
     },
     "execution_count": 5,
     "metadata": {},
     "output_type": "execute_result"
    }
   ],
   "source": [
    "a= lambda x:'even' if x%2==0 else 'odd'\n",
    "a(33)"
   ]
  },
  {
   "cell_type": "markdown",
   "id": "50f8d4cf",
   "metadata": {},
   "source": [
    "### Higher Order Functions"
   ]
  },
  {
   "cell_type": "markdown",
   "id": "8910cbac",
   "metadata": {},
   "source": [
    " A HOF is a function that does at least one of the following:\n",
    "1. Takes another funtion as an argument\n",
    "2. Returns a function"
   ]
  },
  {
   "cell_type": "markdown",
   "id": "48ac6e0c",
   "metadata": {},
   "source": [
    "#### Why this is useful?\n",
    "it helps to make your code shoter, cleaner and more reusable especially when working with lists,map,filters etc."
   ]
  },
  {
   "cell_type": "code",
   "execution_count": 5,
   "id": "8ba6738c",
   "metadata": {},
   "outputs": [
    {
     "name": "stdout",
     "output_type": "stream",
     "text": [
      "HELLO WORLD\n",
      "hello world\n"
     ]
    }
   ],
   "source": [
    "# Example 1: Function as Argument\n",
    "\n",
    "def shout(text):\n",
    "    return text.upper()\n",
    "\n",
    "def whisper(text):\n",
    "    return text.lower()\n",
    "\n",
    "def speak(func):\n",
    "    message = func('Hello World')\n",
    "    print(message)\n",
    "\n",
    "speak(shout) # shout is Function as Argument\n",
    "speak(whisper)"
   ]
  },
  {
   "cell_type": "markdown",
   "id": "a67f57d9",
   "metadata": {},
   "source": [
    "🧠 speak() is a HOF because it takes another function (shout or whisper) as argument"
   ]
  },
  {
   "cell_type": "code",
   "execution_count": 8,
   "id": "b3211c50",
   "metadata": {},
   "outputs": [
    {
     "name": "stdout",
     "output_type": "stream",
     "text": [
      "Hello Alice\n"
     ]
    }
   ],
   "source": [
    "# Example 2: Returning a function\n",
    "def greet(name):\n",
    "    def message():\n",
    "        return \"Hello \" +name\n",
    "    return message\n",
    "\n",
    "greeting = greet('Alice')\n",
    "print(greeting())"
   ]
  },
  {
   "cell_type": "markdown",
   "id": "43917200",
   "metadata": {},
   "source": [
    "greet() is a HOF because it returns another function(message)"
   ]
  },
  {
   "cell_type": "code",
   "execution_count": 2,
   "id": "deec652e",
   "metadata": {},
   "outputs": [
    {
     "name": "stdout",
     "output_type": "stream",
     "text": [
      "[1, 8, 27, 64, 125]\n"
     ]
    }
   ],
   "source": [
    "# Example\n",
    "\n",
    "def square(x):\n",
    "    return x**2\n",
    "\n",
    "def cube(x):\n",
    "    return x**3\n",
    "\n",
    "# HOF\n",
    "def transform(f,L):\n",
    "    output = []\n",
    "    for i in L:\n",
    "        output.append(f(i)) #function call\n",
    "\n",
    "    print(output)\n",
    "\n",
    "L = [1,2,3,4,5]\n",
    "\n",
    "transform(lambda x:x**3,L)"
   ]
  },
  {
   "cell_type": "markdown",
   "id": "8e6b36ab",
   "metadata": {},
   "source": [
    "### Built-in HOFs in Python\n",
    "Python gives you some HOFs by default:\n",
    "1. map()\n",
    "2. filter()\n",
    "3. reduce()"
   ]
  },
  {
   "cell_type": "markdown",
   "id": "0b3da685",
   "metadata": {},
   "source": [
    "<center>map()</center>"
   ]
  },
  {
   "cell_type": "code",
   "execution_count": 10,
   "id": "e12741df",
   "metadata": {},
   "outputs": [
    {
     "data": {
      "text/plain": [
       "[1, 4, 9, 16]"
      ]
     },
     "execution_count": 10,
     "metadata": {},
     "output_type": "execute_result"
    }
   ],
   "source": [
    "# square the items of a list\n",
    "list(map(lambda x:x**2,[1,2,3,4]))"
   ]
  },
  {
   "cell_type": "code",
   "execution_count": 14,
   "id": "78396a8e",
   "metadata": {},
   "outputs": [
    {
     "data": {
      "text/plain": [
       "('odd', 'even', 'odd', 'even', 'odd')"
      ]
     },
     "execution_count": 14,
     "metadata": {},
     "output_type": "execute_result"
    }
   ],
   "source": [
    "# odd/even labelling of list items\n",
    "L = [1,2,3,4,5]\n",
    "tuple(map(lambda x:'even' if x%2==0 else 'odd',L))"
   ]
  },
  {
   "cell_type": "code",
   "execution_count": 20,
   "id": "e393035a",
   "metadata": {},
   "outputs": [
    {
     "data": {
      "text/plain": [
       "['Rahual', 'Nitish', 'Ankita']"
      ]
     },
     "execution_count": 20,
     "metadata": {},
     "output_type": "execute_result"
    }
   ],
   "source": [
    "# fetch names from a list of dict\n",
    "user = [\n",
    "    {\n",
    "        'name':'Rahual',\n",
    "        'age':33,\n",
    "        'gender':'male'\n",
    "    },\n",
    "    {\n",
    "        'name':'Nitish',\n",
    "        'age' :33,\n",
    "        'gender':'male'\n",
    "    },\n",
    "    {\n",
    "        'name':'Ankita',\n",
    "        'age':50,\n",
    "        'gender':'female'\n",
    "}\n",
    "]\n",
    "list(map(lambda user:user['name'],user))"
   ]
  },
  {
   "cell_type": "markdown",
   "id": "51d1a893",
   "metadata": {},
   "source": [
    "<center>filter()</center>"
   ]
  },
  {
   "cell_type": "code",
   "execution_count": 23,
   "id": "9f4c971d",
   "metadata": {},
   "outputs": [
    {
     "data": {
      "text/plain": [
       "[4, 5]"
      ]
     },
     "execution_count": 23,
     "metadata": {},
     "output_type": "execute_result"
    }
   ],
   "source": [
    "# numbers greater than 5\n",
    "L = [1,4,2,5,2,1]\n",
    "list(filter(lambda x:x>3,L))"
   ]
  },
  {
   "cell_type": "code",
   "execution_count": 25,
   "id": "c89dceb0",
   "metadata": {},
   "outputs": [
    {
     "data": {
      "text/plain": [
       "['apple']"
      ]
     },
     "execution_count": 25,
     "metadata": {},
     "output_type": "execute_result"
    }
   ],
   "source": [
    "# fetch fruits starting with 'a'\n",
    "fruits = ['apple','guava','cherry']\n",
    "list(filter(lambda x:x.startswith('a'),fruits))"
   ]
  },
  {
   "cell_type": "markdown",
   "id": "fe711a29",
   "metadata": {},
   "source": [
    "<center> Reduce()</center>"
   ]
  },
  {
   "cell_type": "code",
   "execution_count": 26,
   "id": "7c05298a",
   "metadata": {},
   "outputs": [
    {
     "data": {
      "text/plain": [
       "15"
      ]
     },
     "execution_count": 26,
     "metadata": {},
     "output_type": "execute_result"
    }
   ],
   "source": [
    "# sum of all item\n",
    "import functools\n",
    "\n",
    "functools.reduce(lambda x,y:x+y,[1,2,3,4,5])"
   ]
  },
  {
   "cell_type": "markdown",
   "id": "734a11ee",
   "metadata": {},
   "source": [
    "<!-- add image --> from video "
   ]
  },
  {
   "cell_type": "code",
   "execution_count": 29,
   "id": "b58e8e01",
   "metadata": {},
   "outputs": [
    {
     "data": {
      "text/plain": [
       "45"
      ]
     },
     "execution_count": 29,
     "metadata": {},
     "output_type": "execute_result"
    }
   ],
   "source": [
    "# find min\n",
    "functools.reduce(lambda x,y:x if x>y else y,[23,11,45,10,1])"
   ]
  }
 ],
 "metadata": {
  "kernelspec": {
   "display_name": "Python 3",
   "language": "python",
   "name": "python3"
  },
  "language_info": {
   "codemirror_mode": {
    "name": "ipython",
    "version": 3
   },
   "file_extension": ".py",
   "mimetype": "text/x-python",
   "name": "python",
   "nbconvert_exporter": "python",
   "pygments_lexer": "ipython3",
   "version": "3.13.3"
  }
 },
 "nbformat": 4,
 "nbformat_minor": 5
}
