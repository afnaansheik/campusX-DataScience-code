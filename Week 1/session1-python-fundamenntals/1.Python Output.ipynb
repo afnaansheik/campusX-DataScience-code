{
 "cells": [
  {
   "cell_type": "markdown",
   "id": "6620d902",
   "metadata": {},
   "source": [
    "# 1. Python Output"
   ]
  },
  {
   "cell_type": "code",
   "execution_count": 2,
   "id": "1177d2b4",
   "metadata": {},
   "outputs": [
    {
     "name": "stdout",
     "output_type": "stream",
     "text": [
      "Hello World\n"
     ]
    }
   ],
   "source": [
    "# Python is a case sensitive language\n",
    "print(\"Hello World\")"
   ]
  },
  {
   "cell_type": "code",
   "execution_count": 3,
   "id": "cf469072",
   "metadata": {},
   "outputs": [
    {
     "name": "stdout",
     "output_type": "stream",
     "text": [
      "Salman Khan\n"
     ]
    }
   ],
   "source": [
    "print(\"Salman Khan\")"
   ]
  },
  {
   "cell_type": "code",
   "execution_count": 4,
   "id": "6982d014",
   "metadata": {},
   "outputs": [
    {
     "name": "stdout",
     "output_type": "stream",
     "text": [
      "2.7\n"
     ]
    }
   ],
   "source": [
    "print(2.7)"
   ]
  },
  {
   "cell_type": "code",
   "execution_count": null,
   "id": "e135a95b",
   "metadata": {},
   "outputs": [
    {
     "name": "stdout",
     "output_type": "stream",
     "text": [
      "salman 58 85.4 True\n"
     ]
    }
   ],
   "source": [
    "#In output by default space is coming why?\n",
    "print(\"salman\",58,85.4,True)"
   ]
  },
  {
   "cell_type": "markdown",
   "id": "7a53ba3d",
   "metadata": {},
   "source": [
    "It's bcz print function has para sepearate sep = \" \" space."
   ]
  },
  {
   "cell_type": "code",
   "execution_count": 2,
   "id": "18b97388",
   "metadata": {},
   "outputs": [
    {
     "name": "stdout",
     "output_type": "stream",
     "text": [
      "salman/58/85.4/True\n"
     ]
    }
   ],
   "source": [
    "print(\"salman\",58,85.4,True,sep=\"/\")"
   ]
  },
  {
   "cell_type": "code",
   "execution_count": null,
   "id": "bf7d2fb4",
   "metadata": {},
   "outputs": [
    {
     "name": "stdout",
     "output_type": "stream",
     "text": [
      "Hello\n",
      "World\n"
     ]
    }
   ],
   "source": [
    "#Why Hello in first line & World in next line \n",
    "print(\"Hello\")\n",
    "print(\"World\")"
   ]
  },
  {
   "cell_type": "code",
   "execution_count": 1,
   "id": "71f1a293",
   "metadata": {},
   "outputs": [
    {
     "name": "stdout",
     "output_type": "stream",
     "text": [
      "Hello-World\n"
     ]
    }
   ],
   "source": [
    "#Its bcz print() function has para called end is set to new line, end=\"\\n\"\n",
    "print(\"Hello\",end=\"-\")\n",
    "print(\"World\")"
   ]
  }
 ],
 "metadata": {
  "kernelspec": {
   "display_name": "Python 3",
   "language": "python",
   "name": "python3"
  },
  "language_info": {
   "codemirror_mode": {
    "name": "ipython",
    "version": 3
   },
   "file_extension": ".py",
   "mimetype": "text/x-python",
   "name": "python",
   "nbconvert_exporter": "python",
   "pygments_lexer": "ipython3",
   "version": "3.13.3"
  }
 },
 "nbformat": 4,
 "nbformat_minor": 5
}
