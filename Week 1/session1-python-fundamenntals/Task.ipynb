{
 "cells": [
  {
   "cell_type": "markdown",
   "id": "fdb210a5",
   "metadata": {},
   "source": [
    "# Task : Session 1\n",
    "Solve these questions own your own and try to test yourself what you have learned in the session.\n",
    "\n",
    "Happy Learning!"
   ]
  },
  {
   "cell_type": "markdown",
   "id": "6f855c55",
   "metadata": {},
   "source": [
    "### Q1 :- Print the given strings as per stated format.\n",
    "\n",
    "**Given strings**:\n",
    "```\n",
    "\"Data\" \"Science\" \"Mentorship\" \"Program\"\n",
    "\"By\" \"CampusX\"\n",
    "```\n",
    "**Output**:\n",
    "```\n",
    "Data-Science-Mentorship-Program-started-By-CampusX\n",
    "```\n",
    "\n",
    "Concept- [Seperator and End]"
   ]
  },
  {
   "cell_type": "code",
   "execution_count": 3,
   "id": "c49a2c1c",
   "metadata": {},
   "outputs": [
    {
     "name": "stdout",
     "output_type": "stream",
     "text": [
      "Data-Science-Mentorship-Program-By-CampusX\n"
     ]
    }
   ],
   "source": [
    "# Write your code here\n",
    "print(\"Data\",\"Science\",\"Mentorship\",\"Program\",sep=\"-\",end=\"-\")\n",
    "print(\"By\",\"CampusX\",sep=\"-\")"
   ]
  },
  {
   "cell_type": "markdown",
   "id": "d72b8361",
   "metadata": {},
   "source": [
    "### Q2:- Write a program that will convert celsius value to fahrenheit."
   ]
  },
  {
   "cell_type": "code",
   "execution_count": 5,
   "id": "4a8e056a",
   "metadata": {},
   "outputs": [
    {
     "name": "stdout",
     "output_type": "stream",
     "text": [
      "Ferenheit=  100.4\n"
     ]
    }
   ],
   "source": [
    "# Write your code here\n",
    "\n",
    "# taking input as Celsius\n",
    "c = int(input(\"enter celsius: \"))\n",
    "\n",
    "# Convert Celsius value to Fehrenheit\n",
    "f = c * (9/5) + 32\n",
    "\n",
    "# Printing\n",
    "print(\"Ferenheit= \",f)"
   ]
  },
  {
   "cell_type": "code",
   "execution_count": 6,
   "id": "6afeccf6",
   "metadata": {},
   "outputs": [
    {
     "name": "stdout",
     "output_type": "stream",
     "text": [
      "Temprature in fahrenheit: 100.4\n"
     ]
    }
   ],
   "source": [
    "# Write your code here\n",
    "\n",
    "#Taking input as Celsius\n",
    "Temp =int(input(\"please enter value in celsius: \"))\n",
    "#convert celsius value to fahrenheit\n",
    "result =  (Temp * 9/5) + 32\n",
    "#printing...\n",
    "print(\"Temprature in fahrenheit:\", result)"
   ]
  },
  {
   "cell_type": "markdown",
   "id": "2c24d12b",
   "metadata": {},
   "source": [
    "### Q3:- Take 2 numbers as input from the user.Write a program to swap the numbers without using any special python syntax."
   ]
  },
  {
   "cell_type": "code",
   "execution_count": 8,
   "id": "eb82aeee",
   "metadata": {},
   "outputs": [
    {
     "name": "stdout",
     "output_type": "stream",
     "text": [
      "Before Swaping: 2 4\n",
      "Swaping...\n",
      "After Swaping: 4 2\n"
     ]
    }
   ],
   "source": [
    "# Write your code here\n",
    "\n",
    "import time\n",
    "#Taking input from user\n",
    "x = int(input(\"Enter 1st number: \"))\n",
    "y = int(input(\"Enter 2nd number: \"))\n",
    "\n",
    "print(\"Before Swaping:\",x,y)\n",
    "\n",
    "#waiting to understand better\n",
    "print(\"Swaping...\")\n",
    "time.sleep(5)\n",
    "\n",
    "#for swaping...\n",
    "temp = x\n",
    "x = y\n",
    "y = temp \n",
    "\n",
    "print(\"After Swaping:\",x,y)"
   ]
  },
  {
   "cell_type": "code",
   "execution_count": null,
   "id": "fdc06962",
   "metadata": {},
   "outputs": [],
   "source": [
    "# without using extra variable\n",
    "# input 2 numbers\n",
    "x = int(input('enter first number: '))\n",
    "y = int(input('enter second number: '))\n",
    "\n",
    "print('Before swaping...')\n",
    "print('first number',x)\n",
    "print('second number',y)\n",
    "\n",
    "# swap input numbers\n",
    "x = x+y #7\n",
    "y = x-y #2\n",
    "x = x-y #5\n",
    "\n",
    "# print output\n",
    "print('After swaping...')\n",
    "print('first number',x)\n",
    "print('second number',y)"
   ]
  },
  {
   "cell_type": "markdown",
   "id": "66fd98a7",
   "metadata": {},
   "source": [
    "### Q4:- Write a program to find the euclidean distance between two coordinates.Take both the coordinates from the user as input."
   ]
  },
  {
   "cell_type": "code",
   "execution_count": 12,
   "id": "3c3c8c71",
   "metadata": {},
   "outputs": [
    {
     "name": "stdout",
     "output_type": "stream",
     "text": [
      "1.4142135623730951\n"
     ]
    }
   ],
   "source": [
    "# Write your code here\n",
    "\n",
    "import math \n",
    "#taking input of cordinates of values\n",
    "x1 = int(input(\"enter x1: \"))\n",
    "y1 = int(input(\"enter y1: \"))\n",
    "x2 = int(input(\"enter x2: \"))\n",
    "y2 = int(input(\"enter x2: \"))\n",
    "\n",
    "# euclidean formula\n",
    "x = pow((x2 - x1),2)\n",
    "y = pow((y2 - y1),2)\n",
    "\n",
    "Euclidean_distance = math.sqrt(x+y)\n",
    "\n",
    "print(Euclidean_distance)"
   ]
  },
  {
   "cell_type": "markdown",
   "id": "0585ee3e",
   "metadata": {},
   "source": [
    "### Q5:- Write a program to find the simple interest when the value of principle,rate of interest and time period is provided by the user."
   ]
  },
  {
   "cell_type": "code",
   "execution_count": 5,
   "id": "735cd0d3",
   "metadata": {},
   "outputs": [
    {
     "name": "stdout",
     "output_type": "stream",
     "text": [
      "Simple Interest = 21600000.0\n",
      "Total_Amount = 23600000.0\n"
     ]
    }
   ],
   "source": [
    "# Write your code here\n",
    "\n",
    "# taking input\n",
    "p = float(input(\"Enter Principal Amount: \"))\n",
    "r = float(input(\"Enter Interest Rate: \"))\n",
    "t = float(input(\"Enter Time Period: \"))\n",
    "\n",
    "#simple interest formula\n",
    "I = (p * t * r) / 100\n",
    "total_amount = p + I\n",
    "\n",
    "print('Simple Interest =',I)\n",
    "print('Total_Amount =',total_amount)"
   ]
  },
  {
   "cell_type": "markdown",
   "id": "65440463",
   "metadata": {},
   "source": [
    "### Q6:- Write a program that will tell the number of dogs and chicken are there when the user will provide the value of total heads and legs.\n",
    "\n",
    "For example:\n",
    "Input:\n",
    "heads -> 4\n",
    "legs -> 12\n",
    "<br>\n",
    "Output:\n",
    "dogs -> 2\n",
    "chicken -> 2"
   ]
  },
  {
   "cell_type": "code",
   "execution_count": 7,
   "id": "604a4141",
   "metadata": {},
   "outputs": [
    {
     "name": "stdout",
     "output_type": "stream",
     "text": [
      "dogs = 3\n",
      "chickens = 2\n"
     ]
    }
   ],
   "source": [
    "# Write your code here\n",
    "\n",
    "head = 5\n",
    "legs = 16\n",
    "\n",
    "\n",
    "for dogs in range(head+1):\n",
    "    chickens = head - dogs\n",
    "    if chickens * 2 + dogs * 4 == legs:\n",
    "        print('dogs =',dogs)\n",
    "        print('chickens =',chickens)\n"
   ]
  },
  {
   "cell_type": "markdown",
   "id": "65223528",
   "metadata": {},
   "source": [
    "### Q7:- Write a program to find the sum of squares of first n natural numbers where n will be provided by the user."
   ]
  },
  {
   "cell_type": "code",
   "execution_count": 3,
   "id": "f0eda9e1",
   "metadata": {},
   "outputs": [
    {
     "name": "stdout",
     "output_type": "stream",
     "text": [
      "55\n"
     ]
    }
   ],
   "source": [
    "# taking input\n",
    "n = int(input(\"enter number: \"))\n",
    "i = 1\n",
    "total_sum = 0\n",
    "# \n",
    "while i <= n:\n",
    "    sq =i * i\n",
    "    total_sum += sq\n",
    "    i += 1\n",
    "print(total_sum)"
   ]
  },
  {
   "cell_type": "markdown",
   "id": "ec1d1bba",
   "metadata": {},
   "source": [
    "### Q8:- Given the first 2 terms of an Arithmetic Series.Find the Nth term of the series. Assume all inputs are provided by the user."
   ]
  },
  {
   "cell_type": "code",
   "execution_count": 8,
   "id": "498d4c75",
   "metadata": {},
   "outputs": [
    {
     "name": "stdout",
     "output_type": "stream",
     "text": [
      "the 3th term of arithematic series is: 15\n"
     ]
    }
   ],
   "source": [
    "# take input first & second term (a1,a2)\n",
    "a1 = int(input('enter a1 term :'))\n",
    "a2 = int(input('enter a2 term :'))\n",
    "\n",
    "# get the input of desired term n\n",
    "n = int(input('Enter the term number (n) you want to find:'))\n",
    "\n",
    "# find d\n",
    "d = a2 - a1\n",
    "\n",
    "# Calculate the nth term\n",
    "an = a1 + (n-1) * d \n",
    "\n",
    "print('the {}th term of arithematic series is: {}'.format(n,an))"
   ]
  },
  {
   "cell_type": "code",
   "execution_count": null,
   "id": "95467137",
   "metadata": {},
   "outputs": [
    {
     "name": "stdout",
     "output_type": "stream",
     "text": [
      "fraction sum are: 3/2 + 4/2 = 14/4\n"
     ]
    }
   ],
   "source": [
    "# Get input for first fraction\n",
    "num1 = int(input(\"Enter the numerator of the 1st fraction: \")) #3\n",
    "den1 = int(input(\"Enter the denominator of the 1st fraction: \")) #2\n",
    "\n",
    "# Get input for second fraction\n",
    "num2 = int(input(\"Enter the numerator of the 2nd fraction: \")) #4\n",
    "den2 = int(input(\"Enter the denominator of the 2nd fraction: \")) #2\n",
    "\n",
    "# Calculate the sum of fractions\n",
    "result_num = num1 * den2 + num2 * den1 \n",
    "result_den = den1 * den2\n",
    "\n",
    "\n",
    "print(\"fraction sum are: {}/{} + {}/{} = {}/{}\".format(num1,den1,num2,den2,result_num,result_den))"
   ]
  }
 ],
 "metadata": {
  "kernelspec": {
   "display_name": "Python 3",
   "language": "python",
   "name": "python3"
  },
  "language_info": {
   "codemirror_mode": {
    "name": "ipython",
    "version": 3
   },
   "file_extension": ".py",
   "mimetype": "text/x-python",
   "name": "python",
   "nbconvert_exporter": "python",
   "pygments_lexer": "ipython3",
   "version": "3.13.3"
  }
 },
 "nbformat": 4,
 "nbformat_minor": 5
}
