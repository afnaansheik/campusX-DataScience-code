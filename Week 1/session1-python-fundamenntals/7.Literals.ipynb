{
 "cells": [
  {
   "cell_type": "markdown",
   "id": "26096e1d",
   "metadata": {},
   "source": [
    "#  7. Literals"
   ]
  },
  {
   "cell_type": "code",
   "execution_count": 1,
   "id": "db86c87a",
   "metadata": {},
   "outputs": [],
   "source": [
    "a = 0b1010 #Binary Literal\n",
    "b = 100    #Decimal Liternal\n",
    "c = 0o310  #Octal Liternal\n",
    "d = 0x12c  #Hexadecimal Liternal"
   ]
  },
  {
   "cell_type": "code",
   "execution_count": 2,
   "id": "1551f215",
   "metadata": {},
   "outputs": [
    {
     "name": "stdout",
     "output_type": "stream",
     "text": [
      "0.0\n",
      "3.14\n"
     ]
    }
   ],
   "source": [
    "# Complex Literal\n",
    "x = 3.14j\n",
    "print(x.real)\n",
    "print(x.imag)"
   ]
  },
  {
   "cell_type": "code",
   "execution_count": null,
   "id": "30ccb3f4",
   "metadata": {},
   "outputs": [
    {
     "name": "stdout",
     "output_type": "stream",
     "text": [
      "😀\n",
      "raw \\n string\n"
     ]
    }
   ],
   "source": [
    "# String\n",
    "string = \"this is python\"\n",
    "strings = 'this is python'\n",
    "char = \"C\"\n",
    "multiline_str = \"\"\"this is multiline string with more than one line code.\"\"\"\n",
    "unicode = u\"\\U0001f600\" #emoji\n",
    "print(unicode)\n",
    "raw_str = r\"raw \\n string\"\n",
    "print(raw_str)"
   ]
  },
  {
   "cell_type": "code",
   "execution_count": 4,
   "id": "ae0a9c9d",
   "metadata": {},
   "outputs": [
    {
     "name": "stdout",
     "output_type": "stream",
     "text": [
      "a: 5\n",
      "b: 10\n"
     ]
    }
   ],
   "source": [
    "# Boolean\n",
    "a = True + 4\n",
    "b = False + 10\n",
    "print(\"a:\",a)\n",
    "print(\"b:\",b)"
   ]
  },
  {
   "cell_type": "code",
   "execution_count": 5,
   "id": "aa4495bb",
   "metadata": {},
   "outputs": [
    {
     "name": "stdout",
     "output_type": "stream",
     "text": [
      "None\n"
     ]
    }
   ],
   "source": [
    "# None\n",
    "a = None\n",
    "print(a)"
   ]
  }
 ],
 "metadata": {
  "kernelspec": {
   "display_name": "Python 3",
   "language": "python",
   "name": "python3"
  },
  "language_info": {
   "codemirror_mode": {
    "name": "ipython",
    "version": 3
   },
   "file_extension": ".py",
   "mimetype": "text/x-python",
   "name": "python",
   "nbconvert_exporter": "python",
   "pygments_lexer": "ipython3",
   "version": "3.13.3"
  }
 },
 "nbformat": 4,
 "nbformat_minor": 5
}
