{
 "cells": [
  {
   "cell_type": "markdown",
   "id": "13ac4cb7",
   "metadata": {},
   "source": [
    "#  1 Operators in Python\n",
    " • Arithmetic Operators\n",
    "\n",
    " • Relational Operators\n",
    "\n",
    " • Logical Operators\n",
    "\n",
    " • Bitwise Operators\n",
    "\n",
    " • Assignment Operators\n",
    " \n",
    " • Membership Operators"
   ]
  },
  {
   "cell_type": "code",
   "execution_count": 1,
   "id": "74881c3a",
   "metadata": {},
   "outputs": [
    {
     "name": "stdout",
     "output_type": "stream",
     "text": [
      "11\n",
      "-1\n",
      "30\n",
      "2.5\n",
      "2\n",
      "1\n",
      "25\n"
     ]
    }
   ],
   "source": [
    "# Arithmetric Operators\n",
    "print(5+6)\n",
    "\n",
    "print(5-6)\n",
    "\n",
    "print(5*6)\n",
    "\n",
    "print(5/2)\n",
    "\n",
    "# Integer Division\n",
    "print(5//2)\n",
    "\n",
    "# modular\n",
    "print(5%2)\n",
    "\n",
    "# power off\n",
    "print(5**2)"
   ]
  },
  {
   "cell_type": "code",
   "execution_count": 9,
   "id": "1b69c573",
   "metadata": {},
   "outputs": [
    {
     "name": "stdout",
     "output_type": "stream",
     "text": [
      "False\n",
      "True\n",
      "False\n",
      "True\n",
      "True\n",
      "True\n"
     ]
    }
   ],
   "source": [
    "# Relational Operators\n",
    "\"\"\"comparing two or more operator which element is big,small,equal we use Relational Operator.\"\"\"\n",
    "\n",
    "print(4>5)\n",
    "\n",
    "print(4<5)\n",
    "\n",
    "print(4>=5)\n",
    "\n",
    "print(4<=5)\n",
    "\n",
    "print(4==4)\n",
    "\n",
    "print(4!=5)"
   ]
  },
  {
   "cell_type": "code",
   "execution_count": 10,
   "id": "f727e80a",
   "metadata": {},
   "outputs": [
    {
     "name": "stdout",
     "output_type": "stream",
     "text": [
      "0\n",
      "1\n",
      "False\n"
     ]
    }
   ],
   "source": [
    "# Logical Operators\n",
    "print( 1 and 0)\n",
    "\n",
    "print(1 or 0)\n",
    "\n",
    "print(not 1)"
   ]
  },
  {
   "cell_type": "code",
   "execution_count": null,
   "id": "c6661e76",
   "metadata": {},
   "outputs": [
    {
     "name": "stdout",
     "output_type": "stream",
     "text": [
      "2\n"
     ]
    }
   ],
   "source": [
    "# Bitwise Oerator (it operate on binary numbers.)\n",
    "\n",
    "# Bitwise and \n",
    "print(2 & 3) \n",
    "# you might thing how 2 is ans?\n",
    "\"\"\"\n",
    "2 in binary format reprsent as 010\n",
    "3 in binary format reprsent as 110\n",
    "\n",
    "    010\n",
    "    110\n",
    "    --- & apply and operator\n",
    "    010 -> binary no. is 2\n",
    "\"\"\""
   ]
  },
  {
   "cell_type": "code",
   "execution_count": null,
   "id": "ce38ddeb",
   "metadata": {},
   "outputs": [
    {
     "name": "stdout",
     "output_type": "stream",
     "text": [
      "3\n",
      "1\n",
      "-3\n"
     ]
    }
   ],
   "source": [
    "# Bitwise or\n",
    "print(2 | 3)\n",
    "\n",
    "# Bitwise xor   \n",
    "\"\"\"\n",
    "XOR (exclusive OR) compares each bit of two numbers:\n",
    "\n",
    "   • Returns 1 if the bits are different\n",
    "   • Returns 0 if the bits are same\n",
    "\"\"\"\n",
    "print(2 ^ 3)\n",
    "\n",
    "# Bitwise not(~)\n",
    "\"\"\" \n",
    "2 -> 00000010\n",
    "~2 ->11111101 = -3\n",
    "\"\"\"\n",
    "print(~2)\n",
    "\n",
    "# Bitwise right Shift\n",
    "print( 4 >> 2)\n",
    "\n",
    "# Bitwise Left Shift\n",
    "print( 4 << 2)"
   ]
  },
  {
   "cell_type": "code",
   "execution_count": null,
   "id": "3080a453",
   "metadata": {},
   "outputs": [],
   "source": [
    "# Assignment Operators\n",
    "\n",
    "a = 2\n",
    "\n",
    "# a = a+2\n",
    "\n",
    "a += 2\n",
    "# a %= 2\n",
    "\n",
    "print(a)"
   ]
  },
  {
   "cell_type": "code",
   "execution_count": 18,
   "id": "e23e26d0",
   "metadata": {},
   "outputs": [
    {
     "name": "stdout",
     "output_type": "stream",
     "text": [
      "True\n",
      "False\n",
      "True\n"
     ]
    }
   ],
   "source": [
    "# Membership Operator\n",
    "\"\"\"\n",
    "checks given text include in word or not.\n",
    "\"\"\"\n",
    "\n",
    "print(\"D\" in \"Dehli\")\n",
    "print(\"D\" not in \"Dehli\")\n",
    "\n",
    "print(1 in [1,2,3,4])"
   ]
  },
  {
   "cell_type": "code",
   "execution_count": 1,
   "id": "609ac7fc",
   "metadata": {},
   "outputs": [
    {
     "name": "stdout",
     "output_type": "stream",
     "text": [
      "12\n"
     ]
    }
   ],
   "source": [
    "# Program- Find the sum of a 3 digit number entered by the user\n",
    "\n",
    "number = int(input(\"Enter number: \"))\n",
    "\n",
    "# 345 % 10 -> 5\n",
    "a = number % 10\n",
    "\n",
    "# 345 // 10 -> 34\n",
    "number = number // 10\n",
    "\n",
    "# 34 % 10 -> 4\n",
    "b = number % 10\n",
    "\n",
    "# 34 // 10 -> 3\n",
    "number = number // 10\n",
    "\n",
    "c = number \n",
    "\n",
    "print(a + b + c)"
   ]
  }
 ],
 "metadata": {
  "kernelspec": {
   "display_name": "Python 3",
   "language": "python",
   "name": "python3"
  },
  "language_info": {
   "codemirror_mode": {
    "name": "ipython",
    "version": 3
   },
   "file_extension": ".py",
   "mimetype": "text/x-python",
   "name": "python",
   "nbconvert_exporter": "python",
   "pygments_lexer": "ipython3",
   "version": "3.13.3"
  }
 },
 "nbformat": 4,
 "nbformat_minor": 5
}
