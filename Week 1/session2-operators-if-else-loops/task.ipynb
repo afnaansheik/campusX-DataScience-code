{
 "cells": [
  {
   "cell_type": "code",
   "execution_count": null,
   "id": "4e467350",
   "metadata": {},
   "outputs": [
    {
     "data": {
      "text/plain": [
       "141750.0"
      ]
     },
     "execution_count": 18,
     "metadata": {},
     "output_type": "execute_result"
    }
   ],
   "source": [
    "CTC = int(input('enter CTC: '))\n",
    "\n",
    "if (CTC > 500000):\n",
    "    TAX = None\n",
    "elif(CTC >= 500000 and CTC < 1000000):\n",
    "    TAX = 0.10\n",
    "elif(CTC >= 1000000 and CTC < 2000000):\n",
    "    TAX = 0.20\n",
    "else:\n",
    "    TAX = 0.30\n",
    "\n",
    "\n",
    "HRA = 0.10\n",
    "DA  = 0.5\n",
    "PF  = 0.3\n",
    "\n",
    "\n",
    "CTC = CTC - (CTC * HRA)\n",
    "CTC = CTC - (CTC * DA)\n",
    "CTC = CTC - (CTC * PF)\n",
    "CTC = CTC - (CTC * TAX)\n",
    "\n",
    "CTC"
   ]
  },
  {
   "cell_type": "code",
   "execution_count": 26,
   "id": "9fa3bd84",
   "metadata": {},
   "outputs": [
    {
     "name": "stdout",
     "output_type": "stream",
     "text": [
      "I am calculating your in hand salary after deduction from CTC.\n",
      "for this enter your salary in lakhs as 5 50000\n",
      "your salary is: 17.220000000000002 after dedection of HRA, DH , PF and income tax\n"
     ]
    }
   ],
   "source": [
    "print('I am calculating your in hand salary after deduction from CTC.')\n",
    "print('for this enter your salary in lakhs as 5 50000')\n",
    "\n",
    "CTC = int(input('enter CTC: '))\n",
    "\n",
    "# for all salary range the HRA DA PF will dedected as same.\n",
    "without_tax = CTC - ((CTC*18)/100)\n",
    "\n",
    "a = without_tax\n",
    "\n",
    "if a < 5:\n",
    "    print('your salary is:',a, 'after dedection of HRA, DH and PF but you not eligible to pay income tax')\n",
    "elif a > 5 and a < 10:\n",
    "    new_salary = a - ((a*10)/100)\n",
    "    print('your salary is:',new_salary,'after dedection of HRA, DH , PF and income tax')\n",
    "elif a > 10 and a <20:\n",
    "    new_salary = a - ((a*20)/100)\n",
    "    print('your salary is:',new_salary,'after dedection of HRA, DH , PF and income tax')\n",
    "else:\n",
    "    new_salary = a - ((a*30)/100)\n",
    "    print('your salary is:',new_salary,'after dedection of HRA, DH , PF and income tax')"
   ]
  },
  {
   "cell_type": "code",
   "execution_count": 27,
   "id": "d592fe14",
   "metadata": {},
   "outputs": [
    {
     "name": "stdout",
     "output_type": "stream",
     "text": [
      "Its a not valid triangle\n"
     ]
    }
   ],
   "source": [
    "angel1 = int(input('enter value angel 1'))\n",
    "angel2 = int(input('enter value angel 2'))\n",
    "angel3 = int(input('enter value angel 3'))\n",
    "\n",
    "total_agle = angel1 + angel2 + angel3\n",
    "\n",
    "if total_agle == 180:\n",
    "    print('Its a valid triangle')\n",
    "else:\n",
    "    print('Its a not valid triangle')"
   ]
  },
  {
   "cell_type": "code",
   "execution_count": 29,
   "id": "e84cd5bb",
   "metadata": {},
   "outputs": [
    {
     "name": "stdout",
     "output_type": "stream",
     "text": [
      "Loss\n"
     ]
    }
   ],
   "source": [
    "cost = int(input('enter cost'))\n",
    "selling = int(input('enter selling price'))\n",
    "\n",
    "# 7\n",
    "if cost < selling : \n",
    "    print('Profit')\n",
    "elif(cost == selling):\n",
    "    print('Nor profit or loss')\n",
    "else:\n",
    "    print('Loss')\n",
    "\n",
    "# 10 \n",
    "\n",
    " "
   ]
  },
  {
   "cell_type": "code",
   "execution_count": 35,
   "id": "6541286c",
   "metadata": {},
   "outputs": [
    {
     "name": "stdout",
     "output_type": "stream",
     "text": [
      "exit\n"
     ]
    }
   ],
   "source": [
    "# menu for conveting\n",
    "menu = input(\"\"\" \n",
    "Hi how can i help you!\n",
    "1. enter 1 for cm to fit.\n",
    "2. enter 2 for km to miles.\n",
    "3. enter 3 for USD to INR.\n",
    "4. enter 4 for exit.\n",
    "\"\"\")\n",
    "\n",
    "if menu == '1':\n",
    "    cm = int(input('enter your height in cm: '))\n",
    "    fit = cm * 0.0328\n",
    "\n",
    "    print('your height in fit is',fit)\n",
    "elif menu == '2':\n",
    "    km = int(input('enter KM: '))\n",
    "    miles = km * 0.6\n",
    "\n",
    "    print('KM after Conveting  in miles',miles)\n",
    "elif menu == '3':\n",
    "    USD = int(input('enter USD: '))\n",
    "    INR = USD * 85\n",
    "\n",
    "    print('USD after Conveting  in INR',INR)\n",
    "else:\n",
    "    print('exit')"
   ]
  },
  {
   "cell_type": "code",
   "execution_count": 39,
   "id": "eee3c0e8",
   "metadata": {},
   "outputs": [
    {
     "name": "stdout",
     "output_type": "stream",
     "text": [
      "1\n",
      "2\n",
      "3\n",
      "5\n",
      "8\n",
      "13\n",
      "21\n",
      "34\n"
     ]
    }
   ],
   "source": [
    "# til wc term we want to print\n",
    "x = 10\n",
    "\n",
    "# initial\n",
    "fib1 = 0\n",
    "fib2 = 1\n",
    "\n",
    "for i in range(3,x+1):\n",
    "    next_fib = fib1 + fib2\n",
    "\n",
    "    # update value\n",
    "    fib1 = fib2\n",
    "    fib2 = next_fib\n",
    "    \n",
    "    print(next_fib)"
   ]
  }
 ],
 "metadata": {
  "kernelspec": {
   "display_name": "Python 3",
   "language": "python",
   "name": "python3"
  },
  "language_info": {
   "codemirror_mode": {
    "name": "ipython",
    "version": 3
   },
   "file_extension": ".py",
   "mimetype": "text/x-python",
   "name": "python",
   "nbconvert_exporter": "python",
   "pygments_lexer": "ipython3",
   "version": "3.13.3"
  }
 },
 "nbformat": 4,
 "nbformat_minor": 5
}
