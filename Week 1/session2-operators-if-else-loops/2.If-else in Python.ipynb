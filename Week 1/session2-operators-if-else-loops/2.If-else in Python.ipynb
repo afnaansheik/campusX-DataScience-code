{
 "cells": [
  {
   "cell_type": "markdown",
   "id": "0a0d3311",
   "metadata": {},
   "source": [
    "#  If-else in Python"
   ]
  },
  {
   "cell_type": "code",
   "execution_count": 2,
   "id": "eaf1b9f6",
   "metadata": {},
   "outputs": [
    {
     "name": "stdout",
     "output_type": "stream",
     "text": [
      "WelCome Nitish..\n"
     ]
    }
   ],
   "source": [
    "# login program and indentation\n",
    "# email-> nitish.campusx@gmail.com\n",
    "# password-> 1234\n",
    "\n",
    "email = input(\"enter email: \")\n",
    "password = int(input(\"enter password: \"))\n",
    "\n",
    "if(email == \"nitish.campusx@gmail.com\" and  password == 1234):\n",
    "    print(\"WelCome Nitish..\")\n",
    "else:\n",
    "    print(\"Not Correct\")"
   ]
  },
  {
   "cell_type": "code",
   "execution_count": null,
   "id": "a04af10d",
   "metadata": {},
   "outputs": [
    {
     "name": "stdout",
     "output_type": "stream",
     "text": [
      "Incorrect Password\n",
      "Tum se na ho peyega\n"
     ]
    }
   ],
   "source": [
    "email = input(\"enter email: \")\n",
    "password = int(input(\"enter password: \"))\n",
    "\n",
    "if(email == \"nitish.campusx@gmail.com\" and  password == 123):\n",
    "    print(\"WelCome Nitish..\")\n",
    "elif(email == \"nitish.campusx@gmail.com\" and password != 123):\n",
    "    print(\"Incorrect Password\")\n",
    "    password = int(input(\"enter password again: \"))\n",
    "    if(password == 123):\n",
    "        print(\"Welcome Finally..\")\n",
    "    else:\n",
    "        print(\"beta tum se na ho paayega!\")\n",
    "else:\n",
    "    print(\"Not Correct\")"
   ]
  },
  {
   "cell_type": "markdown",
   "id": "9097f958",
   "metadata": {},
   "source": [
    "### if-else examples"
   ]
  },
  {
   "cell_type": "code",
   "execution_count": null,
   "id": "04bb8512",
   "metadata": {},
   "outputs": [
    {
     "name": "stdout",
     "output_type": "stream",
     "text": [
      "1 is min\n"
     ]
    }
   ],
   "source": [
    "# 1. Find the min of 3 given numbers\n",
    "a = int(input(\"enter: \"))\n",
    "b = int(input(\"enter: \"))\n",
    "c = int(input(\"enter: \"))\n",
    "\n",
    "if (a < b and a < c):\n",
    "    print(a,\"is min\")\n",
    "elif(b < c):\n",
    "    print(b,\"is min\")\n",
    "else:\n",
    "    print(c,\"is min\")"
   ]
  },
  {
   "cell_type": "code",
   "execution_count": null,
   "id": "7080aae5",
   "metadata": {},
   "outputs": [
    {
     "name": "stdout",
     "output_type": "stream",
     "text": [
      "4 / 2 = 2.0\n"
     ]
    }
   ],
   "source": [
    "# 2. Menu Driven calculator\n",
    "a = int(input(\"first num: \"))\n",
    "b = int(input(\"second num:\"))\n",
    "\n",
    "op = input(\"choose optration + - / %\")\n",
    "\n",
    "if (op == \"+\"):\n",
    "    print(a,\"+\",b,\"=\",a+b)\n",
    "elif(op == \"-\"):\n",
    "    print(a,\"-\",b,\"=\",a-b)\n",
    "elif(op == \"*\"):\n",
    "    print(a,\"*\",b,\"=\",a*b)\n",
    "else:\n",
    "    print(a,\"/\",b,\"=\",a/b)"
   ]
  },
  {
   "cell_type": "code",
   "execution_count": 3,
   "id": "3d961820",
   "metadata": {},
   "outputs": [
    {
     "name": "stdout",
     "output_type": "stream",
     "text": [
      "Balance check\n"
     ]
    }
   ],
   "source": [
    "#  Menu Driven Bank Software\n",
    "\n",
    "menu = input(\"\"\"\n",
    "Hi! how i can help you.\n",
    " 1. Enter 1 for pin change\n",
    " 2. Enter 2 for balance check\n",
    " 3. Enter 3 for withdrawl\n",
    " 4. Enter 4 for exit\n",
    "\"\"\")\n",
    "\n",
    "if (menu == \"1\"):\n",
    "    print(\"pin change\")\n",
    "elif(menu == \"2\"):\n",
    "    print(\"Balance check\")\n",
    "elif(menu == \"3\"):\n",
    "    print(\"Withdrawl\")\n",
    "else:\n",
    "    print(\"Exit\")"
   ]
  }
 ],
 "metadata": {
  "kernelspec": {
   "display_name": "Python 3",
   "language": "python",
   "name": "python3"
  },
  "language_info": {
   "codemirror_mode": {
    "name": "ipython",
    "version": 3
   },
   "file_extension": ".py",
   "mimetype": "text/x-python",
   "name": "python",
   "nbconvert_exporter": "python",
   "pygments_lexer": "ipython3",
   "version": "3.13.3"
  }
 },
 "nbformat": 4,
 "nbformat_minor": 5
}
