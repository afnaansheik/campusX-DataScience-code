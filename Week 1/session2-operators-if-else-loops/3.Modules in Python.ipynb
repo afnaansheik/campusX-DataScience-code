{
 "cells": [
  {
   "cell_type": "markdown",
   "id": "4d0be9cb",
   "metadata": {},
   "source": [
    "# 3 Modules in Python\n",
    "    • math\n",
    "    \n",
    "    • keywords\n",
    "    \n",
    "    • random\n",
    "    \n",
    "    • datetime\n"
   ]
  },
  {
   "cell_type": "code",
   "execution_count": 7,
   "id": "9776388b",
   "metadata": {},
   "outputs": [
    {
     "data": {
      "text/plain": [
       "6"
      ]
     },
     "execution_count": 7,
     "metadata": {},
     "output_type": "execute_result"
    }
   ],
   "source": [
    "# math\n",
    "import math\n",
    "\n",
    "math.factorial(5)\n",
    "\n",
    "math.floor(6.8)"
   ]
  },
  {
   "cell_type": "code",
   "execution_count": 9,
   "id": "bbad0d7a",
   "metadata": {},
   "outputs": [
    {
     "name": "stdout",
     "output_type": "stream",
     "text": [
      "['False', 'None', 'True', 'and', 'as', 'assert', 'async', 'await', 'break', 'class', 'continue', 'def', 'del', 'elif', 'else', 'except', 'finally', 'for', 'from', 'global', 'if', 'import', 'in', 'is', 'lambda', 'nonlocal', 'not', 'or', 'pass', 'raise', 'return', 'try', 'while', 'with', 'yield']\n"
     ]
    }
   ],
   "source": [
    "# keyword\n",
    "import keyword\n",
    "\n",
    "print(keyword.kwlist)"
   ]
  },
  {
   "cell_type": "code",
   "execution_count": null,
   "id": "621875bf",
   "metadata": {},
   "outputs": [
    {
     "name": "stdout",
     "output_type": "stream",
     "text": [
      "2\n"
     ]
    }
   ],
   "source": [
    "# random\n",
    "import random\n",
    "\n",
    "print(random.randint(1,10))"
   ]
  },
  {
   "cell_type": "code",
   "execution_count": 12,
   "id": "c0542e08",
   "metadata": {},
   "outputs": [
    {
     "name": "stdout",
     "output_type": "stream",
     "text": [
      "2025-06-07 14:13:19.173068\n"
     ]
    }
   ],
   "source": [
    "# datetime\n",
    "\n",
    "import datetime\n",
    "\n",
    "print(datetime.datetime.now())"
   ]
  },
  {
   "cell_type": "code",
   "execution_count": 13,
   "id": "597147dc",
   "metadata": {},
   "outputs": [
    {
     "name": "stdout",
     "output_type": "stream",
     "text": [
      "\n",
      "Please wait a moment while I gather a list of all available modules...\n",
      "\n",
      "test_sqlite3: testing with SQLite version 3.49.1\n",
      "IPython             _weakrefset         linecache           symtable\n",
      "__future__          _win32sysloader     locale              sys\n",
      "__hello__           _win32verstamp_pywin32ctypes logging             sysconfig\n",
      "__phello__          _winapi             lzma                tabnanny\n",
      "_abc                _winxptheme         mailbox             tarfile\n",
      "_aix_support        _wmi                marshal             tempfile\n",
      "_android_support    _zoneinfo           math                test\n",
      "_apple_support      abc                 matplotlib_inline   textwrap\n",
      "_ast                adodbapi            mimetypes           this\n",
      "_asyncio            afxres              mmap                threading\n",
      "_bisect             antigravity         mmapfile            time\n",
      "_blake2             argparse            mmsystem            timeit\n",
      "_bz2                array               modulefinder        timer\n",
      "_codecs             ast                 msvcrt              tkinter\n",
      "_codecs_cn          asttokens           multiprocessing     token\n",
      "_codecs_hk          asyncio             nest_asyncio        tokenize\n",
      "_codecs_iso2022     atexit              netbios             tomllib\n",
      "_codecs_jp          base64              netrc               tornado\n",
      "_codecs_kr          bdb                 nt                  trace\n",
      "_codecs_tw          binascii            ntpath              traceback\n",
      "_collections        bisect              ntsecuritycon       tracemalloc\n",
      "_collections_abc    builtins            nturl2path          traitlets\n",
      "_colorize           bz2                 numbers             tty\n",
      "_compat_pickle      cProfile            odbc                turtle\n",
      "_compression        calendar            opcode              turtledemo\n",
      "_contextvars        cmath               operator            types\n",
      "_csv                cmd                 optparse            typing\n",
      "_ctypes             code                os                  unicodedata\n",
      "_ctypes_test        codecs              packaging           unittest\n",
      "_datetime           codeop              parso               urllib\n",
      "_decimal            collections         pathlib             uuid\n",
      "_elementtree        colorama            pdb                 venv\n",
      "_functools          colorsys            perfmon             warnings\n",
      "_hashlib            comm                pickle              wave\n",
      "_heapq              commctrl            pickletools         wcwidth\n",
      "_imp                compileall          pip                 weakref\n",
      "_interpchannels     concurrent          pkgutil             webbrowser\n",
      "_interpqueues       configparser        platform            win2kras\n",
      "_interpreters       contextlib          platformdirs        win32api\n",
      "_io                 contextvars         plistlib            win32clipboard\n",
      "_ios_support        copy                poplib              win32com\n",
      "_json               copyreg             posixpath           win32con\n",
      "_locale             csv                 pprint              win32console\n",
      "_lsprof             ctypes              profile             win32cred\n",
      "_lzma               curses              prompt_toolkit      win32crypt\n",
      "_markupbase         dataclasses         pstats              win32cryptcon\n",
      "_md5                datetime            psutil              win32event\n",
      "_multibytecodec     dateutil            pty                 win32evtlog\n",
      "_multiprocessing    dbm                 pure_eval           win32evtlogutil\n",
      "_opcode             dde                 py_compile          win32file\n",
      "_opcode_metadata    debugpy             pyclbr              win32gui\n",
      "_operator           decimal             pydoc               win32gui_struct\n",
      "_osx_support        decorator           pydoc_data          win32help\n",
      "_overlapped         difflib             pyexpat             win32inet\n",
      "_pickle             dis                 pygments            win32inetcon\n",
      "_py_abc             doctest             pythoncom           win32job\n",
      "_pydatetime         email               pywin               win32lz\n",
      "_pydecimal          encodings           pywin32_bootstrap   win32net\n",
      "_pyio               ensurepip           pywin32_testutil    win32netcon\n",
      "_pylong             enum                pywintypes          win32pdh\n",
      "_pyrepl             errno               queue               win32pdhquery\n",
      "_queue              executing           quopri              win32pdhutil\n",
      "_random             faulthandler        random              win32pipe\n",
      "_sha1               filecmp             rasutil             win32print\n",
      "_sha2               fileinput           re                  win32process\n",
      "_sha3               fnmatch             regcheck            win32profile\n",
      "_signal             fractions           regutil             win32ras\n",
      "_sitebuiltins       ftplib              reprlib             win32rcparser\n",
      "_socket             functools           rlcompleter         win32security\n",
      "_sqlite3            gc                  runpy               win32service\n",
      "_sre                genericpath         sched               win32serviceutil\n",
      "_ssl                getopt              secrets             win32timezone\n",
      "_stat               getpass             select              win32trace\n",
      "_statistics         gettext             selectors           win32traceutil\n",
      "_string             glob                servicemanager      win32transaction\n",
      "_strptime           graphlib            shelve              win32ts\n",
      "_struct             gzip                shlex               win32ui\n",
      "_suggestions        hashlib             shutil              win32uiole\n",
      "_symtable           heapq               signal              win32verstamp\n",
      "_sysconfig          hmac                site                win32wnet\n",
      "_testbuffer         html                six                 winerror\n",
      "_testcapi           http                smtplib             winioctlcon\n",
      "_testclinic         idlelib             socket              winnt\n",
      "_testclinic_limited imaplib             socketserver        winperf\n",
      "_testconsole        importlib           sqlite3             winreg\n",
      "_testimportmultiple inspect             sre_compile         winsound\n",
      "_testinternalcapi   io                  sre_constants       winxpgui\n",
      "_testlimitedcapi    ipaddress           sre_parse           winxptheme\n",
      "_testmultiphase     ipykernel           ssl                 wsgiref\n",
      "_testsinglephase    ipykernel_launcher  sspi                xml\n",
      "_thread             ipython_pygments_lexers sspicon             xmlrpc\n",
      "_threading_local    isapi               stack_data          xxsubtype\n",
      "_tkinter            itertools           start_pythonwin     zipapp\n",
      "_tokenize           jedi                stat                zipfile\n",
      "_tracemalloc        json                statistics          zipimport\n",
      "_typing             jupyter             string              zlib\n",
      "_uuid               jupyter_client      stringprep          zmq\n",
      "_warnings           jupyter_core        struct              zoneinfo\n",
      "_weakref            keyword             subprocess          \n",
      "\n",
      "Enter any module name to get more help.  Or, type \"modules spam\" to search\n",
      "for modules whose name or summary contain the string \"spam\".\n",
      "\n"
     ]
    }
   ],
   "source": [
    "# If you want to knw how many total modules are present in python then, do this\n",
    "\n",
    "help('modules')"
   ]
  }
 ],
 "metadata": {
  "kernelspec": {
   "display_name": "Python 3",
   "language": "python",
   "name": "python3"
  },
  "language_info": {
   "codemirror_mode": {
    "name": "ipython",
    "version": 3
   },
   "file_extension": ".py",
   "mimetype": "text/x-python",
   "name": "python",
   "nbconvert_exporter": "python",
   "pygments_lexer": "ipython3",
   "version": "3.13.3"
  }
 },
 "nbformat": 4,
 "nbformat_minor": 5
}
