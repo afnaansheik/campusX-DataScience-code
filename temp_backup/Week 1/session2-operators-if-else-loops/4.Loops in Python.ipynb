{
 "cells": [
  {
   "cell_type": "markdown",
   "id": "eace2739",
   "metadata": {},
   "source": [
    "# Loops in Python\n",
    "    • Need for loops\n",
    "    \n",
    "    • While Loop\n",
    "    \n",
    "    • For Loop"
   ]
  },
  {
   "cell_type": "code",
   "execution_count": 1,
   "id": "78b957dc",
   "metadata": {},
   "outputs": [],
   "source": [
    "# While loop example-> program to print the table\n",
    " # Program-> Sum of all digits of a given number\n",
    " # Program-> keep accepting numbers from users till he/she enters a 0 and then␣\n",
    "#  ↪find the avg"
   ]
  },
  {
   "cell_type": "code",
   "execution_count": 3,
   "id": "ac48b4fc",
   "metadata": {},
   "outputs": [
    {
     "name": "stdout",
     "output_type": "stream",
     "text": [
      "11\n",
      "22\n",
      "33\n",
      "44\n",
      "55\n",
      "66\n",
      "77\n",
      "88\n",
      "99\n",
      "110\n"
     ]
    }
   ],
   "source": [
    "number = int(input(\"enter the number: \"))\n",
    "\n",
    "i = 1\n",
    "\n",
    "while i < 11:\n",
    "    print(number * i)\n",
    "    i += 1"
   ]
  },
  {
   "cell_type": "markdown",
   "id": "e6a4229d",
   "metadata": {},
   "source": [
    "If you want to understand line by line code of program use this website: python tutor"
   ]
  },
  {
   "cell_type": "code",
   "execution_count": 4,
   "id": "a7ece334",
   "metadata": {},
   "outputs": [
    {
     "name": "stdout",
     "output_type": "stream",
     "text": [
      "1\n",
      "2\n",
      "limit crossed\n"
     ]
    }
   ],
   "source": [
    "# while loop with else\n",
    "x = 1\n",
    "while x < 3:\n",
    "    print(x)\n",
    "    x += 1\n",
    "\n",
    "else:\n",
    "    print('limit crossed')"
   ]
  },
  {
   "cell_type": "code",
   "execution_count": 3,
   "id": "237dc210",
   "metadata": {},
   "outputs": [
    {
     "name": "stdout",
     "output_type": "stream",
     "text": [
      "sum of digit: 9\n"
     ]
    }
   ],
   "source": [
    "#  # Program-> Sum of all digits of a given number\n",
    "\n",
    "number = int(input(\"enter the number: \")) #345\n",
    "sum_digit = 0\n",
    "while number > 0:\n",
    "    digit = number%10\n",
    "    sum_digit += digit\n",
    "    number = number//10\n",
    "\n",
    "print('sum of digit:',sum_digit)"
   ]
  },
  {
   "cell_type": "code",
   "execution_count": 14,
   "id": "3f109a12",
   "metadata": {},
   "outputs": [
    {
     "name": "stdout",
     "output_type": "stream",
     "text": [
      "galat! guess higher\n",
      "gakat! guess lower\n",
      "gakat! guess lower\n",
      "gakat! guess lower\n",
      "gakat! guess lower\n",
      "gakat! guess lower\n",
      "gakat! guess lower\n",
      "correct guess\n",
      "attepts: 8\n"
     ]
    }
   ],
   "source": [
    "# Guessing game\n",
    "\n",
    "# genarate a random number between 1 and 100\n",
    "import random\n",
    "jackpt = random.randint(1,100)\n",
    "\n",
    "guess = int(input(\"Guess Number: \"))\n",
    "counter = 1\n",
    "while guess != jackpt:\n",
    "    if guess < jackpt:\n",
    "        print(\"galat! guess higher\")\n",
    "    else:\n",
    "        print(\"gakat! guess lower\")\n",
    "\n",
    "    guess = int(input(\"Guess Number: \"))\n",
    "    counter += 1\n",
    "\n",
    "else:\n",
    "    print(\"correct guess\")\n",
    "    print('attepts:',counter)"
   ]
  },
  {
   "cell_type": "code",
   "execution_count": 15,
   "id": "1e82d0f8",
   "metadata": {},
   "outputs": [
    {
     "name": "stdout",
     "output_type": "stream",
     "text": [
      "1\n",
      "2\n",
      "3\n",
      "4\n",
      "5\n",
      "6\n",
      "7\n",
      "8\n",
      "9\n",
      "10\n"
     ]
    }
   ],
   "source": [
    "#For loop demo\n",
    "\n",
    "for i in range(1,11):\n",
    "    print(i)"
   ]
  },
  {
   "cell_type": "code",
   "execution_count": null,
   "id": "544ee65e",
   "metadata": {},
   "outputs": [
    {
     "name": "stdout",
     "output_type": "stream",
     "text": [
      "1\n",
      "3\n",
      "5\n",
      "7\n",
      "9\n"
     ]
    }
   ],
   "source": [
    "# 3rd para is step size , the number will jump by 2\n",
    "for i in range(1,11,2):\n",
    "    print(i)"
   ]
  },
  {
   "cell_type": "code",
   "execution_count": 17,
   "id": "f28fc204",
   "metadata": {},
   "outputs": [
    {
     "name": "stdout",
     "output_type": "stream",
     "text": [
      "10\n",
      "9\n",
      "8\n",
      "7\n",
      "6\n",
      "5\n",
      "4\n",
      "3\n",
      "2\n"
     ]
    }
   ],
   "source": [
    "for i in range(10,1,-1):\n",
    "    print(i)"
   ]
  },
  {
   "cell_type": "code",
   "execution_count": 18,
   "id": "54ff6524",
   "metadata": {},
   "outputs": [
    {
     "name": "stdout",
     "output_type": "stream",
     "text": [
      "d\n",
      "e\n",
      "l\n",
      "h\n",
      "l\n",
      "i\n"
     ]
    }
   ],
   "source": [
    "for i in \"delhli\":\n",
    "    print(i)"
   ]
  },
  {
   "cell_type": "code",
   "execution_count": null,
   "id": "9818414c",
   "metadata": {},
   "outputs": [
    {
     "name": "stdout",
     "output_type": "stream",
     "text": [
      "10000\n",
      "9090.90909090909\n",
      "8264.462809917353\n",
      "7513.148009015775\n",
      "6830.134553650703\n",
      "6209.213230591548\n",
      "5644.739300537771\n",
      "5131.5811823070635\n",
      "4665.07380209733\n",
      "4240.976183724845\n"
     ]
    }
   ],
   "source": [
    "#  Program -The current population of a town is 10000. The population of the\n",
    "#  town is increasing at the rate of 10% per-year.You have to write a program to\n",
    "#  find out the population at the end of each of the last 10 years.\n",
    "\n",
    "current_pop = 10000\n",
    "\n",
    "for i in range(10,0,-1):\n",
    "    print(current_pop)\n",
    "    current_pop = current_pop / 1.1\n",
    "\n",
    "\"\"\" \n",
    "let say x be 9 year and we add 10% of x wil give 10000.\n",
    "so expression: \n",
    "    x + 10%x = 10000\n",
    "    x + 0.1x = 10000\n",
    "    1.1 x    = 10000\n",
    "           X = 10000/1.1 \n",
    "\"\"\""
   ]
  },
  {
   "cell_type": "code",
   "execution_count": 1,
   "id": "0789876a",
   "metadata": {},
   "outputs": [
    {
     "name": "stdout",
     "output_type": "stream",
     "text": [
      "2.5\n"
     ]
    }
   ],
   "source": [
    "# Sequence sum\n",
    "#  1/1!+2/2!+3/3!+...n\n",
    "\n",
    "n = int(input(\"enter: \")) \n",
    "\n",
    "result = 0\n",
    "fact = 1\n",
    "\n",
    "for i in range(1,n+1): \n",
    "    fact = fact * i\n",
    "    result = result + i / fact \n",
    "\n",
    "print(result)"
   ]
  },
  {
   "cell_type": "markdown",
   "id": "20ba41ee",
   "metadata": {},
   "source": [
    "##  Nested Loops"
   ]
  },
  {
   "cell_type": "code",
   "execution_count": null,
   "id": "e4d40293",
   "metadata": {},
   "outputs": [
    {
     "name": "stdout",
     "output_type": "stream",
     "text": [
      "1 1\n",
      "1 2\n",
      "1 3\n",
      "1 4\n",
      "2 1\n",
      "2 2\n",
      "2 3\n",
      "2 4\n",
      "3 1\n",
      "3 2\n",
      "3 3\n",
      "3 4\n",
      "4 1\n",
      "4 2\n",
      "4 3\n",
      "4 4\n"
     ]
    }
   ],
   "source": [
    "# print this number 1,1 1,2, 1,3, 1,4, 2,1 ....\n",
    "\n",
    "for i in range(1,5):\n",
    "    for j in range(1,5):\n",
    "        print(i,j)"
   ]
  },
  {
   "cell_type": "markdown",
   "id": "8db8ec02",
   "metadata": {},
   "source": [
    "### Pattern 1\n",
    "\n",
    "    *\n",
    "    **\n",
    "    ***\n",
    "    ****"
   ]
  },
  {
   "cell_type": "code",
   "execution_count": 19,
   "id": "f08914a4",
   "metadata": {},
   "outputs": [
    {
     "name": "stdout",
     "output_type": "stream",
     "text": [
      "* \n",
      "* * \n",
      "* * * \n"
     ]
    }
   ],
   "source": [
    "rows = int(input('enter number of rows: '))\n",
    "\n",
    "for i in range(1,rows+1):\n",
    "    for j in range(1,i+1):\n",
    "        print('*',end=\" \")\n",
    "    print()"
   ]
  },
  {
   "cell_type": "markdown",
   "id": "1aef7317",
   "metadata": {},
   "source": [
    "### Pattern 2\n",
    "\n",
    "   1\n",
    "\n",
    "   121\n",
    "\n",
    "   12321 \n",
    "   \n",
    "   1234321"
   ]
  },
  {
   "cell_type": "code",
   "execution_count": 25,
   "id": "b1f48286",
   "metadata": {},
   "outputs": [
    {
     "name": "stdout",
     "output_type": "stream",
     "text": [
      "1 \n",
      "1 2 1 \n",
      "1 2 3 2 1 \n",
      "1 2 3 4 3 2 1 \n"
     ]
    }
   ],
   "source": [
    "rows = int(input(\"enter the number of rows: \"))\n",
    "\n",
    "for i in range(1,rows+1):\n",
    "    for j in range(1,i+1):\n",
    "        print(j,end=\" \")\n",
    "\n",
    "    for k in range(i-1,0,-1):\n",
    "        print(k,end=\" \")\n",
    "\n",
    "    print()"
   ]
  },
  {
   "cell_type": "markdown",
   "id": "46be5d7f",
   "metadata": {},
   "source": [
    " ## LoopControlStatement\n",
    " •Break\n",
    "\n",
    " •Continue\n",
    " \n",
    " •Pass"
   ]
  },
  {
   "cell_type": "code",
   "execution_count": 26,
   "id": "73c80537",
   "metadata": {},
   "outputs": [
    {
     "name": "stdout",
     "output_type": "stream",
     "text": [
      "notfound\n",
      "notfound\n",
      "notfound\n",
      "pranav found\n"
     ]
    }
   ],
   "source": [
    "# real world use break\n",
    "\"\"\" \n",
    "if your searching a name in database if you found name at 50 position of db that you will come out of loop & break it.\n",
    "\"\"\"\n",
    "for i in ['sahil','ashlee','dinesh','pranav','siddu']:\n",
    "    if i == 'pranav':\n",
    "        print(i,'found')\n",
    "        break\n",
    "    else:\n",
    "        print('notfound')\n"
   ]
  },
  {
   "cell_type": "code",
   "execution_count": 27,
   "id": "5a46ef79",
   "metadata": {},
   "outputs": [
    {
     "name": "stdout",
     "output_type": "stream",
     "text": [
      "5\n",
      "7\n",
      "11\n",
      "13\n",
      "17\n",
      "19\n"
     ]
    }
   ],
   "source": [
    "# find prime number enter between a sutain range\n",
    "lower = int(input('enter lower number: '))\n",
    "upper = int(input('enter upper number: '))\n",
    "\n",
    "for i in range(lower,upper):\n",
    "    for j in range(2,i):\n",
    "        \n",
    "        if i%j == 0:\n",
    "            break\n",
    "        \n",
    "    else:\n",
    "        print(i)"
   ]
  },
  {
   "cell_type": "code",
   "execution_count": 28,
   "id": "fbbf6688",
   "metadata": {},
   "outputs": [
    {
     "name": "stdout",
     "output_type": "stream",
     "text": [
      "1\n",
      "2\n",
      "3\n",
      "4\n",
      "6\n",
      "7\n",
      "8\n",
      "9\n"
     ]
    }
   ],
   "source": [
    "#  Real world use continue\n",
    "\"\"\" \n",
    "In e-commerce website if stock is zero then you dnt show that info to user.\n",
    "\"\"\"\n",
    "\n",
    "for i in range(1,10):\n",
    "    if i == 5:\n",
    "        continue\n",
    "    print(i)\n"
   ]
  }
 ],
 "metadata": {
  "kernelspec": {
   "display_name": "Python 3",
   "language": "python",
   "name": "python3"
  },
  "language_info": {
   "codemirror_mode": {
    "name": "ipython",
    "version": 3
   },
   "file_extension": ".py",
   "mimetype": "text/x-python",
   "name": "python",
   "nbconvert_exporter": "python",
   "pygments_lexer": "ipython3",
   "version": "3.13.3"
  }
 },
 "nbformat": 4,
 "nbformat_minor": 5
}
