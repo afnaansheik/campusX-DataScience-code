{
 "cells": [
  {
   "cell_type": "markdown",
   "id": "b9004861",
   "metadata": {},
   "source": [
    "# 3.Variables"
   ]
  },
  {
   "cell_type": "code",
   "execution_count": 2,
   "id": "68def156",
   "metadata": {},
   "outputs": [],
   "source": [
    "# Static Vs Dynamic Typing\n",
    "# Static Vs Dynamic Binding\n",
    "# stylish declaration techniques"
   ]
  },
  {
   "cell_type": "code",
   "execution_count": 3,
   "id": "9f8b7bc1",
   "metadata": {},
   "outputs": [
    {
     "name": "stdout",
     "output_type": "stream",
     "text": [
      "Nitesh\n"
     ]
    }
   ],
   "source": [
    "name = \"Nitesh\"\n",
    "print(name)"
   ]
  },
  {
   "cell_type": "code",
   "execution_count": 4,
   "id": "b176b3c4",
   "metadata": {},
   "outputs": [
    {
     "name": "stdout",
     "output_type": "stream",
     "text": [
      "8\n"
     ]
    }
   ],
   "source": [
    "a = 5\n",
    "b = 3\n",
    "print(a+b)"
   ]
  },
  {
   "cell_type": "markdown",
   "id": "1c9a614f",
   "metadata": {},
   "source": [
    "### Interviewe asked Question for variable\n"
   ]
  },
  {
   "cell_type": "code",
   "execution_count": null,
   "id": "c2996587",
   "metadata": {},
   "outputs": [],
   "source": [
    "# Dynamic Typing vs Static Typing\n",
    "\"\"\"\n",
    "Python is Dynamic typed language bcz we dnt have tell iterpreter \n",
    "the data type of variable. python is inteligence inhalf to understand\"\"\" \n",
    "a = 5\n",
    "\n",
    "\"\"\"\n",
    "C++/java Static Typed language we have to tell compiler.\n",
    "the data type of variable before using it.\"\"\"\n",
    "# int a = 5"
   ]
  },
  {
   "cell_type": "code",
   "execution_count": null,
   "id": "d5b078ba",
   "metadata": {},
   "outputs": [
    {
     "name": "stdout",
     "output_type": "stream",
     "text": [
      "5\n",
      "nitesh\n"
     ]
    }
   ],
   "source": [
    "# Dynamic Binding vs Static Binding\n",
    "\"\"\"\n",
    "Dynamic Binding, a variable can be used to store multiple \n",
    "data in single variable. \n",
    "\"\"\"\n",
    "a = 5\n",
    "print(a)\n",
    "a = \"nitesh\"\n",
    "print(a)\n",
    "\n",
    "\"\"\"\n",
    "In static Binding a single variable can't be used to store\n",
    "multiple data typed in single var.\n",
    "\"\"\"\n",
    "# int a = 5\n",
    "# str a = 'nitesh'"
   ]
  },
  {
   "cell_type": "code",
   "execution_count": 7,
   "id": "0bdcbc40",
   "metadata": {},
   "outputs": [],
   "source": [
    "# stylish way to create Variable\n",
    "a,b,c = 1,2,3 "
   ]
  },
  {
   "cell_type": "code",
   "execution_count": 8,
   "id": "da9e6b8a",
   "metadata": {},
   "outputs": [],
   "source": [
    "# stylish way to create Variable\n",
    "a=b=c = 5"
   ]
  }
 ],
 "metadata": {
  "kernelspec": {
   "display_name": "Python 3",
   "language": "python",
   "name": "python3"
  },
  "language_info": {
   "codemirror_mode": {
    "name": "ipython",
    "version": 3
   },
   "file_extension": ".py",
   "mimetype": "text/x-python",
   "name": "python",
   "nbconvert_exporter": "python",
   "pygments_lexer": "ipython3",
   "version": "3.13.3"
  }
 },
 "nbformat": 4,
 "nbformat_minor": 5
}
