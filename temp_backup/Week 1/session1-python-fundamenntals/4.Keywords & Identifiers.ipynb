{
 "cells": [
  {
   "cell_type": "markdown",
   "id": "e3add9b5",
   "metadata": {},
   "source": [
    "# 4. Keywords & Identifiers"
   ]
  },
  {
   "cell_type": "code",
   "execution_count": null,
   "id": "67e2133c",
   "metadata": {},
   "outputs": [],
   "source": [
    "# Keywords are reserved words we  can't use to create varible or function names.\n",
    "# as per latest ver of python 3.13.4 thr are 36 keywords"
   ]
  },
  {
   "cell_type": "code",
   "execution_count": 3,
   "id": "e7f4daba",
   "metadata": {},
   "outputs": [
    {
     "name": "stdout",
     "output_type": "stream",
     "text": [
      "Nitish\n",
      "ntiish\n"
     ]
    }
   ],
   "source": [
    "# Identifiers\n",
    "# You can't start with a digit\n",
    "name1 = 'Nitish'\n",
    "print(name1)\n",
    "\n",
    "# You can only use special chars-> _\n",
    "_ = 'ntiish'\n",
    "print(_)\n",
    " # identiers can not be keyword"
   ]
  }
 ],
 "metadata": {
  "kernelspec": {
   "display_name": "Python 3",
   "language": "python",
   "name": "python3"
  },
  "language_info": {
   "codemirror_mode": {
    "name": "ipython",
    "version": 3
   },
   "file_extension": ".py",
   "mimetype": "text/x-python",
   "name": "python",
   "nbconvert_exporter": "python",
   "pygments_lexer": "ipython3",
   "version": "3.13.3"
  }
 },
 "nbformat": 4,
 "nbformat_minor": 5
}
