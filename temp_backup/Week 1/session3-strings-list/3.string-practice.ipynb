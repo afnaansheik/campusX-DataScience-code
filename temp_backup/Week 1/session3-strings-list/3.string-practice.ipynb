{
 "cells": [
  {
   "cell_type": "markdown",
   "id": "88a19ab1",
   "metadata": {},
   "source": [
    "# String Practice"
   ]
  },
  {
   "cell_type": "code",
   "execution_count": null,
   "id": "c296705f",
   "metadata": {},
   "outputs": [
    {
     "name": "stdout",
     "output_type": "stream",
     "text": [
      "4\n"
     ]
    }
   ],
   "source": [
    "# Find the length of a given string without using the len() function\n",
    "\n",
    "s = input('enter the string: ')\n",
    "\n",
    "counter = 0\n",
    "\n",
    "for i in s:\n",
    "    counter += 1\n",
    "\n",
    "print(counter)"
   ]
  },
  {
   "cell_type": "code",
   "execution_count": 8,
   "id": "21643183",
   "metadata": {},
   "outputs": [
    {
     "name": "stdout",
     "output_type": "stream",
     "text": [
      "Username:  nitish24singh\n"
     ]
    }
   ],
   "source": [
    "# Extract username from a given email.\n",
    "# Eg if the email is nitish24singh@gmail.com\n",
    "# then the username should be nitish24singh\n",
    "\n",
    "s = input('enter the email: ')\n",
    "\n",
    "posi = s.index('@')\n",
    "\n",
    "print('Username: ',s[:posi])"
   ]
  },
  {
   "cell_type": "code",
   "execution_count": null,
   "id": "d37d1aab",
   "metadata": {},
   "outputs": [
    {
     "name": "stdout",
     "output_type": "stream",
     "text": [
      "freaquency:  1\n"
     ]
    }
   ],
   "source": [
    "# Count the frequency of a particular character in a provided string. without using any string funtion\n",
    "# Eg 'hello how are you' is the string, the frequency of h in this string is 2.\n",
    "\n",
    "s = input('enter the Sentances: ')\n",
    "search = input('what would like to search for: ')\n",
    "\n",
    "counter = 0\n",
    "for i in s:\n",
    "    if i == search:\n",
    "        counter += 1\n",
    "\n",
    "\n",
    "print('freaquency: ',counter)       \n"
   ]
  },
  {
   "cell_type": "code",
   "execution_count": 1,
   "id": "2b2e8035",
   "metadata": {},
   "outputs": [
    {
     "name": "stdout",
     "output_type": "stream",
     "text": [
      "ntsh\n"
     ]
    }
   ],
   "source": [
    "# Write a program which can remove a particular character from a string.\n",
    "\n",
    "s = input('enter the Sentances: ')\n",
    "term = input('what would like to remove : ')\n",
    "\n",
    "result = ''\n",
    "\n",
    "for i in s:\n",
    "    if i != term:\n",
    "        result += i\n",
    "\n",
    "print(result)"
   ]
  },
  {
   "cell_type": "code",
   "execution_count": 3,
   "id": "2b5652f0",
   "metadata": {},
   "outputs": [
    {
     "name": "stdout",
     "output_type": "stream",
     "text": [
      "palindrome\n"
     ]
    }
   ],
   "source": [
    "# most asked interview question\n",
    "# Write a program that can check whether a given string is palindrome or not.\n",
    "# abba\n",
    "# malayalam\n",
    "\n",
    "s = input('enter the string: ')\n",
    "\n",
    "flag = True\n",
    "\n",
    "for i in range(0,len(s)//2):\n",
    "    if s[i] != s[len(s)-i-1]:\n",
    "        flag = False\n",
    "        print('not palindrome')\n",
    "        break\n",
    "\n",
    "if flag:\n",
    "    print('palindrome')"
   ]
  },
  {
   "cell_type": "code",
   "execution_count": 4,
   "id": "605cc707",
   "metadata": {},
   "outputs": [
    {
     "name": "stdout",
     "output_type": "stream",
     "text": [
      "['Hi', 'How', 'Are', 'You']\n"
     ]
    }
   ],
   "source": [
    "# Write a program to count the number of words in a string without split()\n",
    "\n",
    "s = input('enter the string: ')\n",
    "\n",
    "temp = ''\n",
    "L = []\n",
    "\n",
    "for i in s:\n",
    "\n",
    "    if i != ' ':\n",
    "        temp = temp + i\n",
    "    else:\n",
    "        L.append(temp)\n",
    "        temp = ''\n",
    "\n",
    "L.append(temp)\n",
    "print(L) "
   ]
  },
  {
   "cell_type": "code",
   "execution_count": 5,
   "id": "68548cad",
   "metadata": {},
   "outputs": [
    {
     "name": "stdout",
     "output_type": "stream",
     "text": [
      "I Am Afnaan\n"
     ]
    }
   ],
   "source": [
    "# Write a python program to convert a string to title case without using the title()\n",
    "\n",
    "s = input('enter the string: ')\n",
    "L = []\n",
    "\n",
    "for i in s.split():\n",
    "    L.append(i[0].upper() + i[1:].lower())\n",
    "\n",
    "print(' '.join(L))"
   ]
  },
  {
   "cell_type": "code",
   "execution_count": 8,
   "id": "c9863e6c",
   "metadata": {},
   "outputs": [
    {
     "name": "stdout",
     "output_type": "stream",
     "text": [
      "345\n",
      "<class 'str'>\n"
     ]
    }
   ],
   "source": [
    "# Write a program that can convert an integer to string.\n",
    "\n",
    "number = int(input('enter the number: '))\n",
    "\n",
    "digits = '0123456789'\n",
    "result = ''\n",
    "\n",
    "while number != 0:\n",
    "    result = digits[number % 10] + result\n",
    "    number = number//10\n",
    "print(result)\n",
    "print(type(result))"
   ]
  }
 ],
 "metadata": {
  "kernelspec": {
   "display_name": "Python 3",
   "language": "python",
   "name": "python3"
  },
  "language_info": {
   "codemirror_mode": {
    "name": "ipython",
    "version": 3
   },
   "file_extension": ".py",
   "mimetype": "text/x-python",
   "name": "python",
   "nbconvert_exporter": "python",
   "pygments_lexer": "ipython3",
   "version": "3.13.3"
  }
 },
 "nbformat": 4,
 "nbformat_minor": 5
}
