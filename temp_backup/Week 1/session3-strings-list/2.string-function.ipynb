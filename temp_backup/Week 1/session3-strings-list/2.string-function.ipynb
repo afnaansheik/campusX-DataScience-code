{
 "cells": [
  {
   "cell_type": "markdown",
   "id": "d3e23b23",
   "metadata": {},
   "source": [
    "# String Functions\n"
   ]
  },
  {
   "cell_type": "markdown",
   "id": "d8aacf57",
   "metadata": {},
   "source": [
    "#### Commom Function\n",
    "\n",
    "*  len\n",
    "* max\n",
    "* min\n",
    "* sorted"
   ]
  },
  {
   "cell_type": "code",
   "execution_count": 1,
   "id": "06cd2c47",
   "metadata": {},
   "outputs": [
    {
     "data": {
      "text/plain": [
       "11"
      ]
     },
     "execution_count": 1,
     "metadata": {},
     "output_type": "execute_result"
    }
   ],
   "source": [
    "# len\n",
    "len('hello world')"
   ]
  },
  {
   "cell_type": "code",
   "execution_count": null,
   "id": "3da06027",
   "metadata": {},
   "outputs": [
    {
     "data": {
      "text/plain": [
       "'w'"
      ]
     },
     "execution_count": 2,
     "metadata": {},
     "output_type": "execute_result"
    }
   ],
   "source": [
    "max('hello world')\n",
    "# max wil give highest value based on ASCII."
   ]
  },
  {
   "cell_type": "code",
   "execution_count": 3,
   "id": "bb0f0485",
   "metadata": {},
   "outputs": [
    {
     "data": {
      "text/plain": [
       "' '"
      ]
     },
     "execution_count": 3,
     "metadata": {},
     "output_type": "execute_result"
    }
   ],
   "source": [
    "min('hello world')"
   ]
  },
  {
   "cell_type": "code",
   "execution_count": 4,
   "id": "71238f38",
   "metadata": {},
   "outputs": [
    {
     "data": {
      "text/plain": [
       "[' ', 'd', 'e', 'h', 'l', 'l', 'l', 'o', 'o', 'r', 'w']"
      ]
     },
     "execution_count": 4,
     "metadata": {},
     "output_type": "execute_result"
    }
   ],
   "source": [
    "# sorted\n",
    "sorted('hello world')"
   ]
  },
  {
   "cell_type": "code",
   "execution_count": 5,
   "id": "994e33b9",
   "metadata": {},
   "outputs": [
    {
     "data": {
      "text/plain": [
       "['w', 'r', 'o', 'o', 'l', 'l', 'l', 'h', 'e', 'd', ' ']"
      ]
     },
     "execution_count": 5,
     "metadata": {},
     "output_type": "execute_result"
    }
   ],
   "source": [
    "# sorted reverse\n",
    "sorted('hello world',reverse='True')"
   ]
  },
  {
   "cell_type": "markdown",
   "id": "f9b7d20a",
   "metadata": {},
   "source": [
    "#### Capitalize/Title/Upper/Lower/Swapcase"
   ]
  },
  {
   "cell_type": "code",
   "execution_count": 6,
   "id": "83d2bbf5",
   "metadata": {},
   "outputs": [
    {
     "data": {
      "text/plain": [
       "'Hello world'"
      ]
     },
     "execution_count": 6,
     "metadata": {},
     "output_type": "execute_result"
    }
   ],
   "source": [
    "s = 'hello world'\n",
    "s.capitalize()"
   ]
  },
  {
   "cell_type": "code",
   "execution_count": 7,
   "id": "1a5801c7",
   "metadata": {},
   "outputs": [
    {
     "data": {
      "text/plain": [
       "'Hello World'"
      ]
     },
     "execution_count": 7,
     "metadata": {},
     "output_type": "execute_result"
    }
   ],
   "source": [
    "s.title()"
   ]
  },
  {
   "cell_type": "code",
   "execution_count": 8,
   "id": "4c7eb94e",
   "metadata": {},
   "outputs": [
    {
     "data": {
      "text/plain": [
       "'HELLO WORLD'"
      ]
     },
     "execution_count": 8,
     "metadata": {},
     "output_type": "execute_result"
    }
   ],
   "source": [
    "s.upper()"
   ]
  },
  {
   "cell_type": "code",
   "execution_count": 10,
   "id": "80c8cd1c",
   "metadata": {},
   "outputs": [
    {
     "data": {
      "text/plain": [
       "'hello world'"
      ]
     },
     "execution_count": 10,
     "metadata": {},
     "output_type": "execute_result"
    }
   ],
   "source": [
    "'HELLO WORLD'.lower()"
   ]
  },
  {
   "cell_type": "code",
   "execution_count": null,
   "id": "ed207f74",
   "metadata": {},
   "outputs": [
    {
     "data": {
      "text/plain": [
       "'hElL0 WorlD'"
      ]
     },
     "execution_count": 11,
     "metadata": {},
     "output_type": "execute_result"
    }
   ],
   "source": [
    "'HeLl0 wORLd'.swapcase()\n",
    "# convert capital to lower, lower-> capital"
   ]
  },
  {
   "cell_type": "markdown",
   "id": "828c6fc8",
   "metadata": {},
   "source": [
    "#### Count/Find/Index"
   ]
  },
  {
   "cell_type": "code",
   "execution_count": 13,
   "id": "8e553864",
   "metadata": {},
   "outputs": [
    {
     "data": {
      "text/plain": [
       "3"
      ]
     },
     "execution_count": 13,
     "metadata": {},
     "output_type": "execute_result"
    }
   ],
   "source": [
    "'my name is nitish'.count('i')"
   ]
  },
  {
   "cell_type": "code",
   "execution_count": 3,
   "id": "2453376d",
   "metadata": {},
   "outputs": [
    {
     "data": {
      "text/plain": [
       "8"
      ]
     },
     "execution_count": 3,
     "metadata": {},
     "output_type": "execute_result"
    }
   ],
   "source": [
    "'my name is nitish'.find('is')"
   ]
  },
  {
   "cell_type": "code",
   "execution_count": 4,
   "id": "e0626691",
   "metadata": {},
   "outputs": [
    {
     "data": {
      "text/plain": [
       "-1"
      ]
     },
     "execution_count": 4,
     "metadata": {},
     "output_type": "execute_result"
    }
   ],
   "source": [
    "'my name is nitish'.find('x')"
   ]
  },
  {
   "cell_type": "code",
   "execution_count": 5,
   "id": "58cd6477",
   "metadata": {},
   "outputs": [
    {
     "ename": "ValueError",
     "evalue": "substring not found",
     "output_type": "error",
     "traceback": [
      "\u001b[31m---------------------------------------------------------------------------\u001b[39m",
      "\u001b[31mValueError\u001b[39m                                Traceback (most recent call last)",
      "\u001b[36mCell\u001b[39m\u001b[36m \u001b[39m\u001b[32mIn[5]\u001b[39m\u001b[32m, line 1\u001b[39m\n\u001b[32m----> \u001b[39m\u001b[32m1\u001b[39m \u001b[33;43m'\u001b[39;49m\u001b[33;43mmy name is nitish\u001b[39;49m\u001b[33;43m'\u001b[39;49m\u001b[43m.\u001b[49m\u001b[43mindex\u001b[49m\u001b[43m(\u001b[49m\u001b[33;43m'\u001b[39;49m\u001b[33;43mx\u001b[39;49m\u001b[33;43m'\u001b[39;49m\u001b[43m)\u001b[49m\n\u001b[32m      2\u001b[39m \u001b[38;5;66;03m# its same as find but the alpabet is not present it throw error\u001b[39;00m\n",
      "\u001b[31mValueError\u001b[39m: substring not found"
     ]
    }
   ],
   "source": [
    "'my name is nitish'.index('x')\n",
    "# its same as find but the alpabet is not present it throw error"
   ]
  },
  {
   "cell_type": "markdown",
   "id": "d021cc13",
   "metadata": {},
   "source": [
    "#### endswith/startswith"
   ]
  },
  {
   "cell_type": "code",
   "execution_count": 17,
   "id": "a17ab6c5",
   "metadata": {},
   "outputs": [
    {
     "data": {
      "text/plain": [
       "True"
      ]
     },
     "execution_count": 17,
     "metadata": {},
     "output_type": "execute_result"
    }
   ],
   "source": [
    "'my name is nitish'.endswith('sh')"
   ]
  },
  {
   "cell_type": "code",
   "execution_count": 18,
   "id": "304f7153",
   "metadata": {},
   "outputs": [
    {
     "data": {
      "text/plain": [
       "False"
      ]
     },
     "execution_count": 18,
     "metadata": {},
     "output_type": "execute_result"
    }
   ],
   "source": [
    "'my name is nitish'.endswith(' my')"
   ]
  },
  {
   "cell_type": "markdown",
   "id": "1307c231",
   "metadata": {},
   "source": [
    "#### Format"
   ]
  },
  {
   "cell_type": "code",
   "execution_count": null,
   "id": "830c9576",
   "metadata": {},
   "outputs": [
    {
     "data": {
      "text/plain": [
       "'Hi my name is nitish and I am a male male'"
      ]
     },
     "execution_count": 19,
     "metadata": {},
     "output_type": "execute_result"
    }
   ],
   "source": [
    "name = 'nitish'\n",
    "gender = 'male'\n",
    "\n",
    "'Hi my name is {} and I am a male {}'.format(name,gender)\n",
    "# its a smart way to insert varible value in string."
   ]
  },
  {
   "cell_type": "code",
   "execution_count": 8,
   "id": "a1684727",
   "metadata": {},
   "outputs": [
    {
     "data": {
      "text/plain": [
       "'Hi my name is male and I am a male nitish'"
      ]
     },
     "execution_count": 8,
     "metadata": {},
     "output_type": "execute_result"
    }
   ],
   "source": [
    "name = 'nitish'\n",
    "gender = 'male'\n",
    "\n",
    "'Hi my name is {1} and I am a male {0}'.format(name,gender)"
   ]
  },
  {
   "cell_type": "code",
   "execution_count": null,
   "id": "f0c80c0a",
   "metadata": {},
   "outputs": [
    {
     "name": "stdout",
     "output_type": "stream",
     "text": [
      "Hello world\n",
      "hello world\n"
     ]
    }
   ],
   "source": [
    "\"\"\"As we have learned string are immutable we can't update string but we are doing capital or small if this question asked in Interview\n",
    "we show this:\n",
    "\"\"\"\n",
    "\n",
    "s = 'hello world'\n",
    "print(s.capitalize())\n",
    "print(s)"
   ]
  },
  {
   "cell_type": "markdown",
   "id": "dfe36672",
   "metadata": {},
   "source": [
    "#### isalnum/ isalpha/ isdigit/ isidentifier"
   ]
  },
  {
   "cell_type": "code",
   "execution_count": null,
   "id": "5ef914a6",
   "metadata": {},
   "outputs": [
    {
     "data": {
      "text/plain": [
       "True"
      ]
     },
     "execution_count": 26,
     "metadata": {},
     "output_type": "execute_result"
    }
   ],
   "source": [
    "# isalnum\n",
    "'nitiesh123'.isalnum()\n",
    "\n",
    "\"\"\" isalnum -> this check weather string is made up of alphabet and number\"\"\""
   ]
  },
  {
   "cell_type": "code",
   "execution_count": null,
   "id": "ee1d6390",
   "metadata": {},
   "outputs": [
    {
     "data": {
      "text/plain": [
       "False"
      ]
     },
     "execution_count": 28,
     "metadata": {},
     "output_type": "execute_result"
    }
   ],
   "source": [
    "'nitiesh123%'.isalnum()\n",
    "# % is not alpabet nor number so false"
   ]
  },
  {
   "cell_type": "code",
   "execution_count": null,
   "id": "e1792ce9",
   "metadata": {},
   "outputs": [
    {
     "name": "stdout",
     "output_type": "stream",
     "text": [
      "True\n",
      "False\n"
     ]
    }
   ],
   "source": [
    "# isalpha\n",
    "print('nitish'.isalpha())\n",
    "print('nitish123'.isalpha())\n"
   ]
  },
  {
   "cell_type": "code",
   "execution_count": 31,
   "id": "539e8543",
   "metadata": {},
   "outputs": [
    {
     "data": {
      "text/plain": [
       "True"
      ]
     },
     "execution_count": 31,
     "metadata": {},
     "output_type": "execute_result"
    }
   ],
   "source": [
    "'123'.isdigit()"
   ]
  },
  {
   "cell_type": "code",
   "execution_count": 32,
   "id": "90c8b201",
   "metadata": {},
   "outputs": [
    {
     "data": {
      "text/plain": [
       "False"
      ]
     },
     "execution_count": 32,
     "metadata": {},
     "output_type": "execute_result"
    }
   ],
   "source": [
    "'1name'.isidentifier()"
   ]
  },
  {
   "cell_type": "code",
   "execution_count": 33,
   "id": "c07613b5",
   "metadata": {},
   "outputs": [
    {
     "data": {
      "text/plain": [
       "True"
      ]
     },
     "execution_count": 33,
     "metadata": {},
     "output_type": "execute_result"
    }
   ],
   "source": [
    "'name1'.isidentifier()"
   ]
  },
  {
   "cell_type": "markdown",
   "id": "ed1e3c7b",
   "metadata": {},
   "source": [
    "#### Split/Join"
   ]
  },
  {
   "cell_type": "code",
   "execution_count": null,
   "id": "4739e668",
   "metadata": {},
   "outputs": [
    {
     "data": {
      "text/plain": [
       "['hi', 'my', 'name', 'is', 'nitiesh']"
      ]
     },
     "execution_count": 35,
     "metadata": {},
     "output_type": "execute_result"
    }
   ],
   "source": [
    "'hi my name is nitiesh'.split()\n",
    "\n",
    "# break sentances based on space"
   ]
  },
  {
   "cell_type": "code",
   "execution_count": null,
   "id": "cd751cce",
   "metadata": {},
   "outputs": [
    {
     "data": {
      "text/plain": [
       "['h', ' my name ', 's n', 't', 'esh']"
      ]
     },
     "execution_count": 36,
     "metadata": {},
     "output_type": "execute_result"
    }
   ],
   "source": [
    "'hi my name is nitiesh'.split('i')\n",
    "\n",
    "# break sentances based on i alpha"
   ]
  },
  {
   "cell_type": "code",
   "execution_count": null,
   "id": "f91d0fe1",
   "metadata": {},
   "outputs": [
    {
     "data": {
      "text/plain": [
       "'hi my name is nitiesh'"
      ]
     },
     "execution_count": 38,
     "metadata": {},
     "output_type": "execute_result"
    }
   ],
   "source": [
    "' '.join(['hi', 'my', 'name', 'is', 'nitiesh'])\n",
    "\n",
    "# join a list "
   ]
  },
  {
   "cell_type": "code",
   "execution_count": 39,
   "id": "228f6d0e",
   "metadata": {},
   "outputs": [
    {
     "data": {
      "text/plain": [
       "'hi-my-name-is-nitiesh'"
      ]
     },
     "execution_count": 39,
     "metadata": {},
     "output_type": "execute_result"
    }
   ],
   "source": [
    "'-'.join(['hi', 'my', 'name', 'is', 'nitiesh'])\n",
    "\n",
    "# join a list "
   ]
  },
  {
   "cell_type": "markdown",
   "id": "8bccc16b",
   "metadata": {},
   "source": [
    "#### Replace"
   ]
  },
  {
   "cell_type": "code",
   "execution_count": 40,
   "id": "78057b16",
   "metadata": {},
   "outputs": [
    {
     "data": {
      "text/plain": [
       "'hi my name is afnan'"
      ]
     },
     "execution_count": 40,
     "metadata": {},
     "output_type": "execute_result"
    }
   ],
   "source": [
    "'hi my name is nitish'.replace('nitish','afnan')"
   ]
  },
  {
   "cell_type": "markdown",
   "id": "ec280d9f",
   "metadata": {},
   "source": [
    "#### Strip"
   ]
  },
  {
   "cell_type": "code",
   "execution_count": null,
   "id": "a3e1293e",
   "metadata": {},
   "outputs": [
    {
     "data": {
      "text/plain": [
       "'nitish'"
      ]
     },
     "execution_count": 41,
     "metadata": {},
     "output_type": "execute_result"
    }
   ],
   "source": [
    "'nitish                        '.strip()  \n",
    "\n",
    "# remove space \n",
    "# "
   ]
  }
 ],
 "metadata": {
  "kernelspec": {
   "display_name": "Python 3",
   "language": "python",
   "name": "python3"
  },
  "language_info": {
   "codemirror_mode": {
    "name": "ipython",
    "version": 3
   },
   "file_extension": ".py",
   "mimetype": "text/x-python",
   "name": "python",
   "nbconvert_exporter": "python",
   "pygments_lexer": "ipython3",
   "version": "3.13.3"
  }
 },
 "nbformat": 4,
 "nbformat_minor": 5
}
