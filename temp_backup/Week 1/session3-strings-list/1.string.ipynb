{
 "cells": [
  {
   "cell_type": "markdown",
   "id": "93e54e79",
   "metadata": {},
   "source": [
    "In Python specifically,\n",
    "\n",
    " strings are a sequence of Unicode Characters\n",
    " \n",
    "    • Creating Strings\n",
    "\n",
    "    • Accessing Strings\n",
    "\n",
    "    • Adding Chars to Strings\n",
    "\n",
    "    • Editing Strings\n",
    "\n",
    "    • Deleting Strings\n",
    "\n",
    "    • Operations on Strings\n",
    "\n",
    "    • String Functions"
   ]
  },
  {
   "cell_type": "code",
   "execution_count": null,
   "id": "c4dfaeb9",
   "metadata": {},
   "outputs": [],
   "source": [
    "# unicode vs ASCII\n",
    "\"\"\" \n",
    "unicode is 16bit\n",
    "ASCII is 8 bit\n",
    "\"\"\""
   ]
  },
  {
   "cell_type": "markdown",
   "id": "c4814723",
   "metadata": {},
   "source": [
    "### Creating Strings\n"
   ]
  },
  {
   "cell_type": "code",
   "execution_count": null,
   "id": "bff1decc",
   "metadata": {},
   "outputs": [],
   "source": [
    "s = 'Hello'\n",
    "s = \"Hello\"\n",
    "s = \"\"\"Hello\"\"\" #multi sring\n",
    "s = str('Hello') #type conversion\n",
    "\n",
    "\"\"\"\n",
    "why thr is '' & \"\" format in python?\n",
    "to handel this senoriou : var = \"It's running outside\"\n",
    "\"\"\""
   ]
  },
  {
   "cell_type": "markdown",
   "id": "9d6dee50",
   "metadata": {},
   "source": [
    "### Accessing Strings"
   ]
  },
  {
   "cell_type": "code",
   "execution_count": 4,
   "id": "ea55a6dc",
   "metadata": {},
   "outputs": [
    {
     "data": {
      "text/plain": [
       "'l'"
      ]
     },
     "execution_count": 4,
     "metadata": {},
     "output_type": "execute_result"
    }
   ],
   "source": [
    "# Positive Indexing \n",
    "s = 'hello world'\n",
    "\n",
    "s[2]"
   ]
  },
  {
   "cell_type": "code",
   "execution_count": 6,
   "id": "e9736d5c",
   "metadata": {},
   "outputs": [
    {
     "data": {
      "text/plain": [
       "'h'"
      ]
     },
     "execution_count": 6,
     "metadata": {},
     "output_type": "execute_result"
    }
   ],
   "source": [
    "# Negative Indexing \n",
    "s = 'hello world'\n",
    "s[-11]"
   ]
  },
  {
   "cell_type": "code",
   "execution_count": 14,
   "id": "5c8e9aeb",
   "metadata": {},
   "outputs": [
    {
     "name": "stdout",
     "output_type": "stream",
     "text": [
      "hello\n",
      "world\n",
      "hello\n",
      "hlo\n",
      "w olle\n"
     ]
    }
   ],
   "source": [
    "# Slicing\n",
    "s = 'hello world'\n",
    "\n",
    "print(s[0:5])\n",
    "\n",
    "print(s[6:])\n",
    "\n",
    "print(s[:5])\n",
    "\n",
    "print(s[0:6:2])\n",
    "\n",
    "print(s[6:0:-1])\n",
    "\n"
   ]
  },
  {
   "cell_type": "code",
   "execution_count": 16,
   "id": "b49dacb5",
   "metadata": {},
   "outputs": [
    {
     "name": "stdout",
     "output_type": "stream",
     "text": [
      "dlrow olleh\n"
     ]
    }
   ],
   "source": [
    "# famous code snippet\n",
    "# reverse string \n",
    "s = 'hello world'\n",
    "\n",
    "print(s[::-1])"
   ]
  },
  {
   "cell_type": "code",
   "execution_count": 2,
   "id": "c31f0a6b",
   "metadata": {},
   "outputs": [
    {
     "name": "stdout",
     "output_type": "stream",
     "text": [
      "world\n",
      "dlrow\n"
     ]
    }
   ],
   "source": [
    "# handing slicing with nagetive index\n",
    "# hint in nagetive slicing first number shd be greater then second\n",
    "\n",
    "s = 'hello world'\n",
    "\n",
    "print(s[-5:])\n",
    "\n",
    "print(s[-1:-6:-1])\n"
   ]
  },
  {
   "cell_type": "markdown",
   "id": "070e1c36",
   "metadata": {},
   "source": [
    " ###    Editing Strings  and Deleting Strings"
   ]
  },
  {
   "cell_type": "code",
   "execution_count": 23,
   "id": "459471cb",
   "metadata": {},
   "outputs": [
    {
     "ename": "TypeError",
     "evalue": "'str' object does not support item assignment",
     "output_type": "error",
     "traceback": [
      "\u001b[31m---------------------------------------------------------------------------\u001b[39m",
      "\u001b[31mTypeError\u001b[39m                                 Traceback (most recent call last)",
      "\u001b[36mCell\u001b[39m\u001b[36m \u001b[39m\u001b[32mIn[23]\u001b[39m\u001b[32m, line 3\u001b[39m\n\u001b[32m      1\u001b[39m s = \u001b[33m'\u001b[39m\u001b[33mhello world\u001b[39m\u001b[33m'\u001b[39m\n\u001b[32m----> \u001b[39m\u001b[32m3\u001b[39m \u001b[43ms\u001b[49m\u001b[43m[\u001b[49m\u001b[32;43m0\u001b[39;49m\u001b[43m]\u001b[49m = \u001b[33m'\u001b[39m\u001b[33mH\u001b[39m\u001b[33m'\u001b[39m\n",
      "\u001b[31mTypeError\u001b[39m: 'str' object does not support item assignment"
     ]
    }
   ],
   "source": [
    "s = 'hello world'\n",
    "\n",
    "s[0] = 'H'\n",
    "\n",
    "# Python string are immutable"
   ]
  },
  {
   "cell_type": "code",
   "execution_count": 24,
   "id": "773252a2",
   "metadata": {},
   "outputs": [
    {
     "ename": "NameError",
     "evalue": "name 's' is not defined",
     "output_type": "error",
     "traceback": [
      "\u001b[31m---------------------------------------------------------------------------\u001b[39m",
      "\u001b[31mNameError\u001b[39m                                 Traceback (most recent call last)",
      "\u001b[36mCell\u001b[39m\u001b[36m \u001b[39m\u001b[32mIn[24]\u001b[39m\u001b[32m, line 5\u001b[39m\n\u001b[32m      3\u001b[39m s = \u001b[33m'\u001b[39m\u001b[33mhello world\u001b[39m\u001b[33m'\u001b[39m\n\u001b[32m      4\u001b[39m \u001b[38;5;28;01mdel\u001b[39;00m s\n\u001b[32m----> \u001b[39m\u001b[32m5\u001b[39m \u001b[38;5;28mprint\u001b[39m(\u001b[43ms\u001b[49m)\n",
      "\u001b[31mNameError\u001b[39m: name 's' is not defined"
     ]
    }
   ],
   "source": [
    "# Deleting string\n",
    "\n",
    "s = 'hello world'\n",
    "del s\n",
    "print(s)"
   ]
  },
  {
   "cell_type": "code",
   "execution_count": 3,
   "id": "ba63813e",
   "metadata": {},
   "outputs": [
    {
     "ename": "TypeError",
     "evalue": "'str' object does not support item deletion",
     "output_type": "error",
     "traceback": [
      "\u001b[31m---------------------------------------------------------------------------\u001b[39m",
      "\u001b[31mTypeError\u001b[39m                                 Traceback (most recent call last)",
      "\u001b[36mCell\u001b[39m\u001b[36m \u001b[39m\u001b[32mIn[3]\u001b[39m\u001b[32m, line 3\u001b[39m\n\u001b[32m      1\u001b[39m \u001b[38;5;66;03m# ans this question what wil be output\u001b[39;00m\n\u001b[32m      2\u001b[39m s = \u001b[33m'\u001b[39m\u001b[33mhello world\u001b[39m\u001b[33m'\u001b[39m\n\u001b[32m----> \u001b[39m\u001b[32m3\u001b[39m \u001b[38;5;28;01mdel\u001b[39;00m \u001b[43ms\u001b[49m\u001b[43m[\u001b[49m\u001b[32;43m0\u001b[39;49m\u001b[43m:\u001b[49m\u001b[32;43m6\u001b[39;49m\u001b[43m]\u001b[49m\n",
      "\u001b[31mTypeError\u001b[39m: 'str' object does not support item deletion"
     ]
    }
   ],
   "source": [
    "# ans this question what wil be output\n",
    "s = 'hello world'\n",
    "del s[0:6]"
   ]
  },
  {
   "cell_type": "markdown",
   "id": "e0ce8cf8",
   "metadata": {},
   "source": [
    " ### Operations on Strings\n",
    "\n",
    "    • Arithmetic Operations\n",
    "    \n",
    "    • Relational Operations\n",
    "    \n",
    "    • Logical Operations\n",
    "    \n",
    "    • Loops on Strings\n",
    "    \n",
    "    • Membership Operations"
   ]
  },
  {
   "cell_type": "markdown",
   "id": "572f7290",
   "metadata": {},
   "source": [
    "#### Arithmetic Operations"
   ]
  },
  {
   "cell_type": "code",
   "execution_count": 26,
   "id": "4c85a386",
   "metadata": {},
   "outputs": [
    {
     "name": "stdout",
     "output_type": "stream",
     "text": [
      "RoyalChallengerBenguluro\n"
     ]
    }
   ],
   "source": [
    "# string concatination\n",
    "print('Royal'+'Challenger'+'Benguluro')"
   ]
  },
  {
   "cell_type": "code",
   "execution_count": 27,
   "id": "5cae5200",
   "metadata": {},
   "outputs": [
    {
     "name": "stdout",
     "output_type": "stream",
     "text": [
      "**************************************************\n"
     ]
    }
   ],
   "source": [
    "# multiplication op\n",
    "print('*'*50)"
   ]
  },
  {
   "cell_type": "markdown",
   "id": "ea76d04c",
   "metadata": {},
   "source": [
    "### Relational Operations"
   ]
  },
  {
   "cell_type": "code",
   "execution_count": 28,
   "id": "77f4a4ef",
   "metadata": {},
   "outputs": [
    {
     "data": {
      "text/plain": [
       "False"
      ]
     },
     "execution_count": 28,
     "metadata": {},
     "output_type": "execute_result"
    }
   ],
   "source": [
    "'delhi' == 'mumbai'"
   ]
  },
  {
   "cell_type": "code",
   "execution_count": 29,
   "id": "0c1b984d",
   "metadata": {},
   "outputs": [
    {
     "data": {
      "text/plain": [
       "True"
      ]
     },
     "execution_count": 29,
     "metadata": {},
     "output_type": "execute_result"
    }
   ],
   "source": [
    "'delhi' != 'mumbai'"
   ]
  },
  {
   "cell_type": "code",
   "execution_count": null,
   "id": "6da22d5c",
   "metadata": {},
   "outputs": [
    {
     "data": {
      "text/plain": [
       "False"
      ]
     },
     "execution_count": 32,
     "metadata": {},
     "output_type": "execute_result"
    }
   ],
   "source": [
    "'delhi' > 'mumbai'\n",
    "# lexiographically as per dictionary d come first & m come last so last come has higher value"
   ]
  },
  {
   "cell_type": "code",
   "execution_count": null,
   "id": "9d8b78a4",
   "metadata": {},
   "outputs": [
    {
     "data": {
      "text/plain": [
       "False"
      ]
     },
     "execution_count": 33,
     "metadata": {},
     "output_type": "execute_result"
    }
   ],
   "source": [
    "'Pune' > 'pune'\n",
    "# why false bcz ASCII value of capital value has less value, then small alphabet"
   ]
  },
  {
   "cell_type": "code",
   "execution_count": null,
   "id": "7ef98c17",
   "metadata": {},
   "outputs": [
    {
     "data": {
      "text/plain": [
       "''"
      ]
     },
     "execution_count": 36,
     "metadata": {},
     "output_type": "execute_result"
    }
   ],
   "source": [
    "'' and 'world'\n",
    "# In python, empty string('') is consinder as flase \n",
    "# and with string it's True"
   ]
  },
  {
   "cell_type": "code",
   "execution_count": 37,
   "id": "9dc69af9",
   "metadata": {},
   "outputs": [
    {
     "data": {
      "text/plain": [
       "'world'"
      ]
     },
     "execution_count": 37,
     "metadata": {},
     "output_type": "execute_result"
    }
   ],
   "source": [
    "'' or 'world'"
   ]
  },
  {
   "cell_type": "code",
   "execution_count": null,
   "id": "66a87f9a",
   "metadata": {},
   "outputs": [
    {
     "data": {
      "text/plain": [
       "'World'"
      ]
     },
     "execution_count": 34,
     "metadata": {},
     "output_type": "execute_result"
    }
   ],
   "source": [
    "'Hello' and 'World'\n",
    "# "
   ]
  },
  {
   "cell_type": "code",
   "execution_count": 35,
   "id": "8a5df198",
   "metadata": {},
   "outputs": [
    {
     "data": {
      "text/plain": [
       "'Hello'"
      ]
     },
     "execution_count": 35,
     "metadata": {},
     "output_type": "execute_result"
    }
   ],
   "source": [
    "'Hello' or 'World'"
   ]
  },
  {
   "cell_type": "code",
   "execution_count": 38,
   "id": "aebd4e33",
   "metadata": {},
   "outputs": [
    {
     "data": {
      "text/plain": [
       "True"
      ]
     },
     "execution_count": 38,
     "metadata": {},
     "output_type": "execute_result"
    }
   ],
   "source": [
    "not ''"
   ]
  },
  {
   "cell_type": "code",
   "execution_count": 39,
   "id": "9d638dd8",
   "metadata": {},
   "outputs": [
    {
     "data": {
      "text/plain": [
       "False"
      ]
     },
     "execution_count": 39,
     "metadata": {},
     "output_type": "execute_result"
    }
   ],
   "source": [
    "not 'hello'"
   ]
  },
  {
   "cell_type": "markdown",
   "id": "c33fc4f1",
   "metadata": {},
   "source": [
    "#### Loops on Strings"
   ]
  },
  {
   "cell_type": "code",
   "execution_count": 40,
   "id": "4a7fa3ac",
   "metadata": {},
   "outputs": [
    {
     "name": "stdout",
     "output_type": "stream",
     "text": [
      "h\n",
      "e\n",
      "l\n",
      "l\n",
      "o\n"
     ]
    }
   ],
   "source": [
    "for i in 'hello':\n",
    "    print(i)"
   ]
  },
  {
   "cell_type": "code",
   "execution_count": 41,
   "id": "cb7ba858",
   "metadata": {},
   "outputs": [
    {
     "name": "stdout",
     "output_type": "stream",
     "text": [
      "pune\n",
      "pune\n",
      "pune\n",
      "pune\n",
      "pune\n"
     ]
    }
   ],
   "source": [
    "for i in 'delhi':\n",
    "    print('pune')"
   ]
  },
  {
   "cell_type": "code",
   "execution_count": 42,
   "id": "b316dddd",
   "metadata": {},
   "outputs": [
    {
     "data": {
      "text/plain": [
       "True"
      ]
     },
     "execution_count": 42,
     "metadata": {},
     "output_type": "execute_result"
    }
   ],
   "source": [
    "'d' in 'delhli'"
   ]
  },
  {
   "cell_type": "code",
   "execution_count": 43,
   "id": "489968b6",
   "metadata": {},
   "outputs": [
    {
     "data": {
      "text/plain": [
       "False"
      ]
     },
     "execution_count": 43,
     "metadata": {},
     "output_type": "execute_result"
    }
   ],
   "source": [
    "'d' not in 'india'"
   ]
  }
 ],
 "metadata": {
  "kernelspec": {
   "display_name": "Python 3",
   "language": "python",
   "name": "python3"
  },
  "language_info": {
   "codemirror_mode": {
    "name": "ipython",
    "version": 3
   },
   "file_extension": ".py",
   "mimetype": "text/x-python",
   "name": "python",
   "nbconvert_exporter": "python",
   "pygments_lexer": "ipython3",
   "version": "3.13.3"
  }
 },
 "nbformat": 4,
 "nbformat_minor": 5
}
